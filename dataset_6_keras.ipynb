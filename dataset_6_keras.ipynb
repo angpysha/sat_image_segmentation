{
 "cells": [
  {
   "cell_type": "code",
   "metadata": {
    "collapsed": true,
    "ExecuteTime": {
     "end_time": "2024-05-15T12:47:54.814837Z",
     "start_time": "2024-05-15T12:47:54.021453Z"
    }
   },
   "source": [
    "import sys\n",
    "import importlib\n",
    "\n",
    "import numpy as np\n",
    "\n",
    "sys.path.append(\"/mnt/d/aspiranture/Satellite_Imagery_Analysis/Classification/\")\n",
    "import dataset_tool.dataset6_generator\n",
    "importlib.reload(dataset_tool.dataset6_generator)"
   ],
   "outputs": [
    {
     "data": {
      "text/plain": [
       "<module 'dataset_tool.dataset6_generator' from '/mnt/d/aspiranture/Satellite_Imagery_Analysis/Classification/dataset_tool/dataset6_generator.py'>"
      ]
     },
     "execution_count": 1,
     "metadata": {},
     "output_type": "execute_result"
    }
   ],
   "execution_count": 1
  },
  {
   "cell_type": "code",
   "source": [
    "dataset = dataset_tool.dataset6_generator.get_dataset6()"
   ],
   "metadata": {
    "collapsed": false,
    "ExecuteTime": {
     "end_time": "2024-05-15T12:49:17.240732Z",
     "start_time": "2024-05-15T12:47:57.326247Z"
    }
   },
   "outputs": [
    {
     "name": "stdout",
     "output_type": "stream",
     "text": [
      "Error read []\n",
      "len 27\n"
     ]
    }
   ],
   "execution_count": 2
  },
  {
   "cell_type": "code",
   "source": [
    "dataset.items"
   ],
   "metadata": {
    "collapsed": false,
    "ExecuteTime": {
     "end_time": "2024-05-15T12:52:15.590207Z",
     "start_time": "2024-05-15T12:52:15.584417Z"
    }
   },
   "outputs": [
    {
     "data": {
      "text/plain": [
       "<function dict.items>"
      ]
     },
     "execution_count": 3,
     "metadata": {},
     "output_type": "execute_result"
    }
   ],
   "execution_count": 3
  },
  {
   "metadata": {
    "ExecuteTime": {
     "end_time": "2024-05-15T12:52:17.294863Z",
     "start_time": "2024-05-15T12:52:17.292696Z"
    }
   },
   "cell_type": "code",
   "source": "",
   "outputs": [],
   "execution_count": 3
  },
  {
   "cell_type": "code",
   "source": [
    "categories_map = {}\n",
    "for categorie, idx in enumerate(dataset.keys()):\n",
    "    categories_map[idx] = categorie+1"
   ],
   "metadata": {
    "collapsed": false,
    "ExecuteTime": {
     "end_time": "2024-05-15T12:52:17.816233Z",
     "start_time": "2024-05-15T12:52:17.813133Z"
    }
   },
   "outputs": [],
   "execution_count": 4
  },
  {
   "cell_type": "code",
   "source": [
    "categories_map"
   ],
   "metadata": {
    "collapsed": false,
    "ExecuteTime": {
     "end_time": "2024-05-15T12:52:19.248805Z",
     "start_time": "2024-05-15T12:52:19.244593Z"
    }
   },
   "outputs": [
    {
     "data": {
      "text/plain": [
       "{'water': 1, 'forest': 2, 'fields': 3, 'city': 4, 'sands': 5, 'mountains': 6}"
      ]
     },
     "execution_count": 5,
     "metadata": {},
     "output_type": "execute_result"
    }
   ],
   "execution_count": 5
  },
  {
   "cell_type": "code",
   "source": [
    "updated_dataset = {}\n",
    "\n",
    "for key, value in dataset.items():\n",
    "    print(f\"shape for {key} - {value.shape}\")\n",
    "    numOfRects = int(value.shape[1]/64/64)\n",
    "    itemsDiff = value.shape[1]-numOfRects*64*64\n",
    "    numOfFull = numOfRects*64*64\n",
    "    itemsToAdd = 64*64-itemsDiff\n",
    "    print(f\"num of rects: {numOfRects}. To make full should add: {itemsToAdd}\")\n",
    "    if itemsToAdd > 0:\n",
    "        values_sliced = value[:,:numOfFull]\n",
    "        new_value = np.concatenate([value,values_sliced],axis=1)\n",
    "        print(f\"created new length with shape {new_value.shape}\")\n",
    "        updated_dataset[key] = values_sliced\n",
    "    else:\n",
    "        updated_dataset[key] = value\n"
   ],
   "metadata": {
    "collapsed": false,
    "ExecuteTime": {
     "end_time": "2024-05-15T12:52:21.121705Z",
     "start_time": "2024-05-15T12:52:20.429218Z"
    }
   },
   "outputs": [
    {
     "name": "stdout",
     "output_type": "stream",
     "text": [
      "shape for water - (12, 6596993)\n",
      "num of rects: 1610. To make full should add: 1663\n",
      "created new length with shape (12, 13191553)\n",
      "shape for forest - (12, 1532742)\n",
      "num of rects: 374. To make full should add: 3258\n",
      "created new length with shape (12, 3064646)\n",
      "shape for fields - (12, 2099471)\n",
      "num of rects: 512. To make full should add: 1777\n",
      "created new length with shape (12, 4196623)\n",
      "shape for city - (12, 574996)\n",
      "num of rects: 140. To make full should add: 2540\n",
      "created new length with shape (12, 1148436)\n",
      "shape for sands - (12, 742139)\n",
      "num of rects: 181. To make full should add: 3333\n",
      "created new length with shape (12, 1483515)\n",
      "shape for mountains - (12, 35420)\n",
      "num of rects: 8. To make full should add: 1444\n",
      "created new length with shape (12, 68188)\n"
     ]
    }
   ],
   "execution_count": 6
  },
  {
   "cell_type": "code",
   "source": [
    "y_data_list = []\n",
    "x_data_list = []\n",
    "\n",
    "for key, value in updated_dataset.items():\n",
    "    category_id = categories_map[key]\n",
    "    arr = np.full(value.shape[1], category_id)\n",
    "    y_data_list.extend(arr)\n",
    "    x_data_list.append(value)\n",
    "y_data = np.asarray(y_data_list)"
   ],
   "metadata": {
    "collapsed": false,
    "ExecuteTime": {
     "end_time": "2024-05-15T12:52:29.982468Z",
     "start_time": "2024-05-15T12:52:28.929400Z"
    }
   },
   "outputs": [],
   "execution_count": 7
  },
  {
   "cell_type": "code",
   "source": [
    "y_data.shape"
   ],
   "metadata": {
    "collapsed": false,
    "ExecuteTime": {
     "end_time": "2024-05-15T12:52:31.558465Z",
     "start_time": "2024-05-15T12:52:31.553574Z"
    }
   },
   "outputs": [
    {
     "data": {
      "text/plain": [
       "(11571200,)"
      ]
     },
     "execution_count": 8,
     "metadata": {},
     "output_type": "execute_result"
    }
   ],
   "execution_count": 8
  },
  {
   "cell_type": "code",
   "source": [
    "x_data_1 = np.hstack(x_data_list)"
   ],
   "metadata": {
    "collapsed": false,
    "ExecuteTime": {
     "end_time": "2024-05-15T12:52:34.180729Z",
     "start_time": "2024-05-15T12:52:33.881855Z"
    }
   },
   "outputs": [],
   "execution_count": 9
  },
  {
   "cell_type": "code",
   "source": [
    "x_data_1.shape"
   ],
   "metadata": {
    "collapsed": false,
    "ExecuteTime": {
     "end_time": "2024-05-15T12:52:35.624829Z",
     "start_time": "2024-05-15T12:52:35.620280Z"
    }
   },
   "outputs": [
    {
     "data": {
      "text/plain": [
       "(12, 11571200)"
      ]
     },
     "execution_count": 10,
     "metadata": {},
     "output_type": "execute_result"
    }
   ],
   "execution_count": 10
  },
  {
   "cell_type": "code",
   "source": [
    "x_data = np.moveaxis(x_data_1, 0,1)"
   ],
   "metadata": {
    "collapsed": false,
    "ExecuteTime": {
     "end_time": "2024-05-15T12:52:37.840348Z",
     "start_time": "2024-05-15T12:52:37.836727Z"
    }
   },
   "outputs": [],
   "execution_count": 11
  },
  {
   "cell_type": "code",
   "source": [
    "print(f\"Min {x_data.min()} and max {x_data.max()}\")"
   ],
   "metadata": {
    "collapsed": false,
    "ExecuteTime": {
     "end_time": "2024-05-15T12:52:40.032807Z",
     "start_time": "2024-05-15T12:52:39.950436Z"
    }
   },
   "outputs": [
    {
     "name": "stdout",
     "output_type": "stream",
     "text": [
      "Min 0.0 and max 1.7788000106811523\n"
     ]
    }
   ],
   "execution_count": 12
  },
  {
   "cell_type": "code",
   "source": [
    "x_data.shape"
   ],
   "metadata": {
    "collapsed": false,
    "ExecuteTime": {
     "end_time": "2024-05-15T12:52:41.855442Z",
     "start_time": "2024-05-15T12:52:41.850333Z"
    }
   },
   "outputs": [
    {
     "data": {
      "text/plain": [
       "(11571200, 12)"
      ]
     },
     "execution_count": 13,
     "metadata": {},
     "output_type": "execute_result"
    }
   ],
   "execution_count": 13
  },
  {
   "cell_type": "code",
   "source": [
    "def createImageCubes(img_array, blk_width,blk_height):\n",
    "    arrray = []\n",
    "    imageShape = img_array.shape\n",
    "    for w in range(0,imageShape[0],blk_width):\n",
    "        for h in range(0, imageShape[1], blk_height):\n",
    "            arrr = img_array[w:w+blk_width,h:h+blk_height]\n",
    "            arrray.append(np.asarray(arrr))\n",
    "    return np.asarray(arrray)"
   ],
   "metadata": {
    "collapsed": false,
    "ExecuteTime": {
     "end_time": "2024-05-15T12:52:43.929383Z",
     "start_time": "2024-05-15T12:52:43.925133Z"
    }
   },
   "outputs": [],
   "execution_count": 14
  },
  {
   "cell_type": "code",
   "source": [
    "y_cubes = createImageCubes(y_data, 64,64)"
   ],
   "metadata": {
    "collapsed": false,
    "ExecuteTime": {
     "end_time": "2024-05-15T12:52:48.407982Z",
     "start_time": "2024-05-15T12:52:48.386873Z"
    }
   },
   "outputs": [
    {
     "ename": "IndexError",
     "evalue": "tuple index out of range",
     "output_type": "error",
     "traceback": [
      "\u001B[0;31m---------------------------------------------------------------------------\u001B[0m",
      "\u001B[0;31mIndexError\u001B[0m                                Traceback (most recent call last)",
      "Cell \u001B[0;32mIn[15], line 1\u001B[0m\n\u001B[0;32m----> 1\u001B[0m y_cubes \u001B[38;5;241m=\u001B[39m \u001B[43mcreateImageCubes\u001B[49m\u001B[43m(\u001B[49m\u001B[43my_data\u001B[49m\u001B[43m,\u001B[49m\u001B[43m \u001B[49m\u001B[38;5;241;43m64\u001B[39;49m\u001B[43m,\u001B[49m\u001B[38;5;241;43m64\u001B[39;49m\u001B[43m)\u001B[49m\n",
      "Cell \u001B[0;32mIn[14], line 5\u001B[0m, in \u001B[0;36mcreateImageCubes\u001B[0;34m(img_array, blk_width, blk_height)\u001B[0m\n\u001B[1;32m      3\u001B[0m imageShape \u001B[38;5;241m=\u001B[39m img_array\u001B[38;5;241m.\u001B[39mshape\n\u001B[1;32m      4\u001B[0m \u001B[38;5;28;01mfor\u001B[39;00m w \u001B[38;5;129;01min\u001B[39;00m \u001B[38;5;28mrange\u001B[39m(\u001B[38;5;241m0\u001B[39m,imageShape[\u001B[38;5;241m0\u001B[39m],blk_width):\n\u001B[0;32m----> 5\u001B[0m     \u001B[38;5;28;01mfor\u001B[39;00m h \u001B[38;5;129;01min\u001B[39;00m \u001B[38;5;28mrange\u001B[39m(\u001B[38;5;241m0\u001B[39m, \u001B[43mimageShape\u001B[49m\u001B[43m[\u001B[49m\u001B[38;5;241;43m1\u001B[39;49m\u001B[43m]\u001B[49m, blk_height):\n\u001B[1;32m      6\u001B[0m         arrr \u001B[38;5;241m=\u001B[39m img_array[w:w\u001B[38;5;241m+\u001B[39mblk_width,h:h\u001B[38;5;241m+\u001B[39mblk_height]\n\u001B[1;32m      7\u001B[0m         arrray\u001B[38;5;241m.\u001B[39mappend(np\u001B[38;5;241m.\u001B[39masarray(arrr))\n",
      "\u001B[0;31mIndexError\u001B[0m: tuple index out of range"
     ]
    }
   ],
   "execution_count": 15
  },
  {
   "cell_type": "code",
   "source": [
    "y_data.shape"
   ],
   "metadata": {
    "collapsed": false,
    "ExecuteTime": {
     "end_time": "2024-05-15T12:54:03.568061Z",
     "start_time": "2024-05-15T12:54:03.563707Z"
    }
   },
   "outputs": [
    {
     "data": {
      "text/plain": [
       "(11571200,)"
      ]
     },
     "execution_count": 16,
     "metadata": {},
     "output_type": "execute_result"
    }
   ],
   "execution_count": 16
  },
  {
   "cell_type": "code",
   "source": [
    "length = int(y_data.shape[0]/64/64)\n",
    "length"
   ],
   "metadata": {
    "collapsed": false,
    "ExecuteTime": {
     "end_time": "2024-05-15T12:54:04.573761Z",
     "start_time": "2024-05-15T12:54:04.569271Z"
    }
   },
   "outputs": [
    {
     "data": {
      "text/plain": [
       "2825"
      ]
     },
     "execution_count": 17,
     "metadata": {},
     "output_type": "execute_result"
    }
   ],
   "execution_count": 17
  },
  {
   "cell_type": "code",
   "source": [
    "y_data_cubes = y_data.reshape(length,64,64)"
   ],
   "metadata": {
    "collapsed": false,
    "ExecuteTime": {
     "end_time": "2024-05-15T12:54:06.063902Z",
     "start_time": "2024-05-15T12:54:06.060901Z"
    }
   },
   "outputs": [],
   "execution_count": 18
  },
  {
   "cell_type": "code",
   "source": [
    "x_data_cubes = x_data.reshape(length,64,64,12)"
   ],
   "metadata": {
    "collapsed": false,
    "ExecuteTime": {
     "end_time": "2024-05-15T12:54:07.152438Z",
     "start_time": "2024-05-15T12:54:07.149129Z"
    }
   },
   "outputs": [],
   "execution_count": 19
  },
  {
   "cell_type": "code",
   "execution_count": 19,
   "outputs": [
    {
     "name": "stderr",
     "output_type": "stream",
     "text": [
      "2023-09-28 12:52:31.042167: I tensorflow/core/platform/cpu_feature_guard.cc:182] This TensorFlow binary is optimized to use available CPU instructions in performance-critical operations.\n",
      "To enable the following instructions: AVX2 FMA, in other operations, rebuild TensorFlow with the appropriate compiler flags.\n",
      "2023-09-28 12:52:32.796732: W tensorflow/compiler/tf2tensorrt/utils/py_utils.cc:38] TF-TRT Warning: Could not find TensorRT\n"
     ]
    }
   ],
   "source": [
    "import tensorflow as tf"
   ],
   "metadata": {
    "collapsed": false,
    "ExecuteTime": {
     "end_time": "2023-09-28T09:52:35.283733200Z",
     "start_time": "2023-09-28T09:52:29.010908100Z"
    }
   }
  },
  {
   "cell_type": "code",
   "source": [
    "from tensorflow.keras.layers import *"
   ],
   "metadata": {
    "collapsed": false,
    "ExecuteTime": {
     "end_time": "2024-05-15T12:54:21.096649Z",
     "start_time": "2024-05-15T12:54:12.201807Z"
    }
   },
   "outputs": [
    {
     "name": "stderr",
     "output_type": "stream",
     "text": [
      "2024-05-15 15:54:14.127583: I tensorflow/core/platform/cpu_feature_guard.cc:182] This TensorFlow binary is optimized to use available CPU instructions in performance-critical operations.\n",
      "To enable the following instructions: AVX2 FMA, in other operations, rebuild TensorFlow with the appropriate compiler flags.\n",
      "2024-05-15 15:54:16.705349: W tensorflow/compiler/tf2tensorrt/utils/py_utils.cc:38] TF-TRT Warning: Could not find TensorRT\n"
     ]
    }
   ],
   "execution_count": 20
  },
  {
   "cell_type": "code",
   "execution_count": 21,
   "outputs": [
    {
     "name": "stderr",
     "output_type": "stream",
     "text": [
      "2023-09-27 23:51:38.050504: I tensorflow/compiler/xla/stream_executor/cuda/cuda_gpu_executor.cc:981] could not open file to read NUMA node: /sys/bus/pci/devices/0000:01:00.0/numa_node\n",
      "Your kernel may have been built without NUMA support.\n",
      "2023-09-27 23:51:38.987623: I tensorflow/compiler/xla/stream_executor/cuda/cuda_gpu_executor.cc:981] could not open file to read NUMA node: /sys/bus/pci/devices/0000:01:00.0/numa_node\n",
      "Your kernel may have been built without NUMA support.\n",
      "2023-09-27 23:51:38.987678: I tensorflow/compiler/xla/stream_executor/cuda/cuda_gpu_executor.cc:981] could not open file to read NUMA node: /sys/bus/pci/devices/0000:01:00.0/numa_node\n",
      "Your kernel may have been built without NUMA support.\n",
      "2023-09-27 23:51:38.991629: I tensorflow/compiler/xla/stream_executor/cuda/cuda_gpu_executor.cc:981] could not open file to read NUMA node: /sys/bus/pci/devices/0000:01:00.0/numa_node\n",
      "Your kernel may have been built without NUMA support.\n",
      "2023-09-27 23:51:38.991746: I tensorflow/compiler/xla/stream_executor/cuda/cuda_gpu_executor.cc:981] could not open file to read NUMA node: /sys/bus/pci/devices/0000:01:00.0/numa_node\n",
      "Your kernel may have been built without NUMA support.\n",
      "2023-09-27 23:51:38.991783: I tensorflow/compiler/xla/stream_executor/cuda/cuda_gpu_executor.cc:981] could not open file to read NUMA node: /sys/bus/pci/devices/0000:01:00.0/numa_node\n",
      "Your kernel may have been built without NUMA support.\n",
      "2023-09-27 23:51:39.286922: I tensorflow/compiler/xla/stream_executor/cuda/cuda_gpu_executor.cc:981] could not open file to read NUMA node: /sys/bus/pci/devices/0000:01:00.0/numa_node\n",
      "Your kernel may have been built without NUMA support.\n",
      "2023-09-27 23:51:39.287000: I tensorflow/compiler/xla/stream_executor/cuda/cuda_gpu_executor.cc:981] could not open file to read NUMA node: /sys/bus/pci/devices/0000:01:00.0/numa_node\n",
      "Your kernel may have been built without NUMA support.\n",
      "2023-09-27 23:51:39.287010: I tensorflow/core/common_runtime/gpu/gpu_device.cc:1726] Could not identify NUMA node of platform GPU id 0, defaulting to 0.  Your kernel may not have been built with NUMA support.\n",
      "2023-09-27 23:51:39.287047: I tensorflow/compiler/xla/stream_executor/cuda/cuda_gpu_executor.cc:981] could not open file to read NUMA node: /sys/bus/pci/devices/0000:01:00.0/numa_node\n",
      "Your kernel may have been built without NUMA support.\n",
      "2023-09-27 23:51:39.287092: I tensorflow/core/common_runtime/gpu/gpu_device.cc:1639] Created device /job:localhost/replica:0/task:0/device:GPU:0 with 21784 MB memory:  -> device: 0, name: NVIDIA GeForce RTX 3090, pci bus id: 0000:01:00.0, compute capability: 8.6\n",
      "2023-09-27 23:51:55.832600: I tensorflow/compiler/xla/stream_executor/cuda/cuda_driver.cc:753] failed to allocate 21.27GiB (22842179584 bytes) from device: CUDA_ERROR_OUT_OF_MEMORY: out of memory\n"
     ]
    }
   ],
   "source": [
    "model_new = tf.keras.models.Sequential([\n",
    "    Conv2D(64,(5,5),padding='same',input_shape=(64,64,12)),\n",
    "    Conv2D(64,(5,5),padding='same'),\n",
    "    BatchNormalization(),\n",
    "    Activation('relu'),\n",
    "    MaxPooling2D(pool_size=(2,2)),\n",
    "    Dropout(0.5),\n",
    "\n",
    "    Conv2D(128,(5,5), padding='same'),\n",
    "    Conv2D(128,(5,5), padding='same'),\n",
    "    BatchNormalization(),\n",
    "    Activation('relu'),\n",
    "    MaxPooling2D(pool_size=(2,2),name='feature_layer'),\n",
    "    Dropout(0.5),\n",
    "\n",
    "    #We are naming this layer, as we will extract features from it in future, JUST WAIT !!!\n",
    "    Conv2D(256,(5,5), padding='same'),\n",
    "    Conv2D(256,(5,5), padding='same'),\n",
    "    BatchNormalization(),\n",
    "    Activation('relu'),\n",
    "    MaxPooling2D(pool_size=(2,2)),\n",
    "    #Flatten(),\n",
    "    #Dense(128),\n",
    "    Activation('relu'),\n",
    "    Dropout(0.5),\n",
    "    #Reshape((4,4,128)),\n",
    "    UpSampling2D((2,2)),\n",
    "    Conv2D(256,(5,5), padding='same'),\n",
    "    Conv2D(256,(5,5), padding='same'),\n",
    "    BatchNormalization(),\n",
    "    Activation('relu'),\n",
    "    UpSampling2D((2,2)),\n",
    "    Dropout(0.5),\n",
    "    Conv2D(128,(5,5), padding='same'),\n",
    "    Conv2D(128,(5,5), padding='same'),\n",
    "    BatchNormalization(),\n",
    "    Activation('relu'),\n",
    "    UpSampling2D((2,2)),\n",
    "    Dropout(0.5),\n",
    "    Conv2D(64,(5,5), padding='same'),\n",
    "    Conv2D(64,(5,5), padding='same'),\n",
    "    BatchNormalization(),\n",
    "    Activation('relu'),\n",
    "    Conv2D(7,3,padding='same'),\n",
    "    # model.add(Flatten())\n",
    "    # model.add(Dense(24))\n",
    "    # model.add(Activation('relu'))\n",
    "    # model.add(Dropout(0.5))\n",
    "    # model.add(Dense(6))\n",
    "    Activation('softmax'),\n",
    "])"
   ],
   "metadata": {
    "collapsed": false,
    "ExecuteTime": {
     "end_time": "2023-09-27T20:51:59.188860400Z",
     "start_time": "2023-09-27T20:51:37.611134400Z"
    }
   }
  },
  {
   "cell_type": "code",
   "execution_count": 16,
   "outputs": [
    {
     "ename": "NameError",
     "evalue": "name 'model_new' is not defined",
     "output_type": "error",
     "traceback": [
      "\u001B[0;31m---------------------------------------------------------------------------\u001B[0m",
      "\u001B[0;31mNameError\u001B[0m                                 Traceback (most recent call last)",
      "Cell \u001B[0;32mIn[16], line 1\u001B[0m\n\u001B[0;32m----> 1\u001B[0m \u001B[43mmodel_new\u001B[49m\u001B[38;5;241m.\u001B[39mcompile(loss\u001B[38;5;241m=\u001B[39m\u001B[38;5;124m'\u001B[39m\u001B[38;5;124mcategorical_crossentropy\u001B[39m\u001B[38;5;124m'\u001B[39m, optimizer\u001B[38;5;241m=\u001B[39m\u001B[38;5;124m'\u001B[39m\u001B[38;5;124mrmsprop\u001B[39m\u001B[38;5;124m'\u001B[39m, metrics\u001B[38;5;241m=\u001B[39m[\u001B[38;5;124m'\u001B[39m\u001B[38;5;124maccuracy\u001B[39m\u001B[38;5;124m'\u001B[39m,\u001B[38;5;124m'\u001B[39m\u001B[38;5;124mmse\u001B[39m\u001B[38;5;124m'\u001B[39m])\n\u001B[1;32m      2\u001B[0m model_new\u001B[38;5;241m.\u001B[39msummary()\n",
      "\u001B[0;31mNameError\u001B[0m: name 'model_new' is not defined"
     ]
    }
   ],
   "source": [
    "model_new.compile(loss='categorical_crossentropy', optimizer='rmsprop', metrics=['accuracy','mse'])\n",
    "model_new.summary()"
   ],
   "metadata": {
    "collapsed": false,
    "ExecuteTime": {
     "end_time": "2023-09-26T15:04:05.964251100Z",
     "start_time": "2023-09-26T15:04:05.919411100Z"
    }
   }
  },
  {
   "cell_type": "code",
   "execution_count": 20,
   "outputs": [],
   "source": [
    "from keras.preprocessing.image import ImageDataGenerator\n",
    "\n",
    "datagen = ImageDataGenerator(\n",
    "    rotation_range=70,      # Random rotations between 0 and 40 degrees\n",
    "    width_shift_range=0.2,  # Random horizontal shift up to 20%\n",
    "    height_shift_range=0.2, # Random vertical shift up to 20%\n",
    "    shear_range=0.2,        # Shear transformations\n",
    "    zoom_range=0.2,         # Random zooming up to 20%\n",
    "    horizontal_flip=True,   # Random horizontal flipping\n",
    "    fill_mode='nearest'     # How to fill missing pixels after transformation\n",
    ")"
   ],
   "metadata": {
    "collapsed": false,
    "ExecuteTime": {
     "end_time": "2023-09-24T08:02:39.929840300Z",
     "start_time": "2023-09-24T08:02:39.862167600Z"
    }
   }
  },
  {
   "cell_type": "code",
   "execution_count": 188,
   "outputs": [
    {
     "name": "stderr",
     "output_type": "stream",
     "text": [
      "2023-09-23 22:56:05.292375: W tensorflow/tsl/framework/cpu_allocator_impl.cc:83] Allocation of 556597248 exceeds 10% of free system memory.\n"
     ]
    },
    {
     "ename": "InvalidArgumentError",
     "evalue": "{{function_node __wrapped__Split_num_split_2264_device_/job:localhost/replica:0/task:0/device:GPU:0}} Number of ways to split should evenly divide the split dimension, but got split_dim 0 (size = 2831) and num_split 2264 [Op:Split] name: split",
     "output_type": "error",
     "traceback": [
      "\u001B[0;31m---------------------------------------------------------------------------\u001B[0m",
      "\u001B[0;31mInvalidArgumentError\u001B[0m                      Traceback (most recent call last)",
      "Cell \u001B[0;32mIn[188], line 7\u001B[0m\n\u001B[1;32m      3\u001B[0m num_to_train \u001B[38;5;241m=\u001B[39m \u001B[38;5;28mint\u001B[39m(x_data_cubes\u001B[38;5;241m.\u001B[39mshape[\u001B[38;5;241m0\u001B[39m]\u001B[38;5;241m*\u001B[39m\u001B[38;5;241m0.8\u001B[39m)\n\u001B[1;32m      5\u001B[0m \u001B[38;5;66;03m#x_train = x_data_cubes[:num_to_train,:,:,:]\u001B[39;00m\n\u001B[1;32m      6\u001B[0m \u001B[38;5;66;03m#y_train = y_data_cubes[:num_to_train,:,:]\u001B[39;00m\n\u001B[0;32m----> 7\u001B[0m x_train \u001B[38;5;241m=\u001B[39m \u001B[43mtf\u001B[49m\u001B[38;5;241;43m.\u001B[39;49m\u001B[43msplit\u001B[49m\u001B[43m(\u001B[49m\u001B[43mx_data_cubes\u001B[49m\u001B[43m,\u001B[49m\u001B[43m \u001B[49m\u001B[43mnum_to_train\u001B[49m\u001B[43m)\u001B[49m\n\u001B[1;32m      8\u001B[0m y_train \u001B[38;5;241m=\u001B[39m tf\u001B[38;5;241m.\u001B[39msplit(y_data_cubes, num_to_train)\n",
      "File \u001B[0;32m~/miniconda3/envs/segmentation-new/lib/python3.11/site-packages/tensorflow/python/util/traceback_utils.py:153\u001B[0m, in \u001B[0;36mfilter_traceback.<locals>.error_handler\u001B[0;34m(*args, **kwargs)\u001B[0m\n\u001B[1;32m    151\u001B[0m \u001B[38;5;28;01mexcept\u001B[39;00m \u001B[38;5;167;01mException\u001B[39;00m \u001B[38;5;28;01mas\u001B[39;00m e:\n\u001B[1;32m    152\u001B[0m   filtered_tb \u001B[38;5;241m=\u001B[39m _process_traceback_frames(e\u001B[38;5;241m.\u001B[39m__traceback__)\n\u001B[0;32m--> 153\u001B[0m   \u001B[38;5;28;01mraise\u001B[39;00m e\u001B[38;5;241m.\u001B[39mwith_traceback(filtered_tb) \u001B[38;5;28;01mfrom\u001B[39;00m \u001B[38;5;28;01mNone\u001B[39;00m\n\u001B[1;32m    154\u001B[0m \u001B[38;5;28;01mfinally\u001B[39;00m:\n\u001B[1;32m    155\u001B[0m   \u001B[38;5;28;01mdel\u001B[39;00m filtered_tb\n",
      "File \u001B[0;32m~/miniconda3/envs/segmentation-new/lib/python3.11/site-packages/tensorflow/python/framework/ops.py:6656\u001B[0m, in \u001B[0;36mraise_from_not_ok_status\u001B[0;34m(e, name)\u001B[0m\n\u001B[1;32m   6654\u001B[0m \u001B[38;5;28;01mdef\u001B[39;00m \u001B[38;5;21mraise_from_not_ok_status\u001B[39m(e, name):\n\u001B[1;32m   6655\u001B[0m   e\u001B[38;5;241m.\u001B[39mmessage \u001B[38;5;241m+\u001B[39m\u001B[38;5;241m=\u001B[39m (\u001B[38;5;124m\"\u001B[39m\u001B[38;5;124m name: \u001B[39m\u001B[38;5;124m\"\u001B[39m \u001B[38;5;241m+\u001B[39m \u001B[38;5;28mstr\u001B[39m(name \u001B[38;5;28;01mif\u001B[39;00m name \u001B[38;5;129;01mis\u001B[39;00m \u001B[38;5;129;01mnot\u001B[39;00m \u001B[38;5;28;01mNone\u001B[39;00m \u001B[38;5;28;01melse\u001B[39;00m \u001B[38;5;124m\"\u001B[39m\u001B[38;5;124m\"\u001B[39m))\n\u001B[0;32m-> 6656\u001B[0m   \u001B[38;5;28;01mraise\u001B[39;00m core\u001B[38;5;241m.\u001B[39m_status_to_exception(e) \u001B[38;5;28;01mfrom\u001B[39;00m \u001B[38;5;28;01mNone\u001B[39;00m\n",
      "\u001B[0;31mInvalidArgumentError\u001B[0m: {{function_node __wrapped__Split_num_split_2264_device_/job:localhost/replica:0/task:0/device:GPU:0}} Number of ways to split should evenly divide the split dimension, but got split_dim 0 (size = 2831) and num_split 2264 [Op:Split] name: split"
     ]
    }
   ],
   "source": [],
   "metadata": {
    "collapsed": false,
    "ExecuteTime": {
     "end_time": "2023-09-23T19:56:11.310078100Z",
     "start_time": "2023-09-23T19:56:01.400163500Z"
    }
   }
  },
  {
   "cell_type": "code",
   "execution_count": 21,
   "outputs": [
    {
     "name": "stderr",
     "output_type": "stream",
     "text": [
      "/home/andrew/miniconda3/envs/segmentation-new/lib/python3.11/site-packages/keras/src/preprocessing/image.py:766: UserWarning: NumpyArrayIterator is set to use the data format convention \"channels_last\" (channels on axis 3), i.e. expected either 1, 3, or 4 channels on axis 3. However, it was passed an array with shape (1, 64, 64, 12) (12 channels).\n",
      "  warnings.warn(\n"
     ]
    }
   ],
   "source": [
    "augmented_data = []\n",
    "\n",
    "for img in x_data_cubes:  # Assuming x_data is your numpy array\n",
    "    img = img.reshape((1,) + img.shape)  # Reshape image to (1, 64, 64, 12)\n",
    "    i = 0\n",
    "    for batch in datagen.flow(img, batch_size=1):  # Generate augmented images\n",
    "        augmented_data.append(batch[0])\n",
    "        i += 1\n",
    "        if i >= 2:  # Generate 3 augmented images for each original image\n",
    "            break\n",
    "\n",
    "# Convert the augmented data back to a numpy array\n",
    "augmented_data = np.array(augmented_data)\n"
   ],
   "metadata": {
    "collapsed": false,
    "ExecuteTime": {
     "end_time": "2023-09-24T08:02:58.206105300Z",
     "start_time": "2023-09-24T08:02:42.977949700Z"
    }
   }
  },
  {
   "cell_type": "code",
   "execution_count": 22,
   "outputs": [
    {
     "name": "stdout",
     "output_type": "stream",
     "text": [
      "Min 0.0 and max 1.5371034145355225\n"
     ]
    }
   ],
   "source": [
    "print(f\"Min {augmented_data.min()} and max {augmented_data.max()}\")"
   ],
   "metadata": {
    "collapsed": false,
    "ExecuteTime": {
     "end_time": "2023-09-24T08:03:11.528429600Z",
     "start_time": "2023-09-24T08:03:11.341122100Z"
    }
   }
  },
  {
   "cell_type": "code",
   "execution_count": 21,
   "outputs": [
    {
     "data": {
      "text/plain": "(2831, 64, 64, 12)"
     },
     "execution_count": 21,
     "metadata": {},
     "output_type": "execute_result"
    }
   ],
   "source": [
    "x_data_cubes.shape"
   ],
   "metadata": {
    "collapsed": false,
    "ExecuteTime": {
     "end_time": "2023-09-23T21:47:42.375471200Z",
     "start_time": "2023-09-23T21:47:42.365462500Z"
    }
   }
  },
  {
   "cell_type": "code",
   "execution_count": 21,
   "outputs": [],
   "source": [],
   "metadata": {
    "collapsed": false,
    "ExecuteTime": {
     "end_time": "2023-09-23T21:47:43.151098900Z",
     "start_time": "2023-09-23T21:47:43.142062800Z"
    }
   }
  },
  {
   "cell_type": "code",
   "execution_count": 23,
   "outputs": [],
   "source": [
    "x_data_combined = np.vstack((x_data_cubes, augmented_data))"
   ],
   "metadata": {
    "collapsed": false,
    "ExecuteTime": {
     "end_time": "2023-09-24T08:04:55.251506200Z",
     "start_time": "2023-09-24T08:04:53.216689200Z"
    }
   }
  },
  {
   "cell_type": "code",
   "execution_count": 24,
   "outputs": [],
   "source": [
    "x_data_mean = np.mean(x_data_combined)"
   ],
   "metadata": {
    "collapsed": false,
    "ExecuteTime": {
     "end_time": "2023-09-24T08:04:56.604350200Z",
     "start_time": "2023-09-24T08:04:56.438050600Z"
    }
   }
  },
  {
   "cell_type": "code",
   "execution_count": 25,
   "outputs": [],
   "source": [
    "x_data_std = np.std(x_data_combined)"
   ],
   "metadata": {
    "collapsed": false,
    "ExecuteTime": {
     "end_time": "2023-09-24T08:04:59.678192800Z",
     "start_time": "2023-09-24T08:04:57.203784Z"
    }
   }
  },
  {
   "cell_type": "code",
   "execution_count": 21,
   "outputs": [],
   "source": [
    "x_data_stadartized = x_data_cubes/x_data_cubes.max()"
   ],
   "metadata": {
    "collapsed": false,
    "ExecuteTime": {
     "end_time": "2023-09-28T09:53:03.067987200Z",
     "start_time": "2023-09-28T09:53:02.665461300Z"
    }
   }
  },
  {
   "cell_type": "code",
   "execution_count": 18,
   "outputs": [
    {
     "name": "stdout",
     "output_type": "stream",
     "text": [
      "Min 0.0 and max 1.0\n"
     ]
    }
   ],
   "source": [
    "print(f\"Min {x_data_stadartized.min()} and max {x_data_stadartized.max()}\")"
   ],
   "metadata": {
    "collapsed": false,
    "ExecuteTime": {
     "end_time": "2023-09-26T15:04:16.109673700Z",
     "start_time": "2023-09-26T15:04:15.978967400Z"
    }
   }
  },
  {
   "cell_type": "code",
   "execution_count": 18,
   "outputs": [
    {
     "ename": "NameError",
     "evalue": "name 'x_data_combined' is not defined",
     "output_type": "error",
     "traceback": [
      "\u001B[0;31m---------------------------------------------------------------------------\u001B[0m",
      "\u001B[0;31mNameError\u001B[0m                                 Traceback (most recent call last)",
      "Cell \u001B[0;32mIn[18], line 1\u001B[0m\n\u001B[0;32m----> 1\u001B[0m num_toextend \u001B[38;5;241m=\u001B[39m \u001B[43mx_data_combined\u001B[49m\u001B[38;5;241m.\u001B[39mshape[\u001B[38;5;241m0\u001B[39m]\u001B[38;5;241m/\u001B[39mx_data_cubes\u001B[38;5;241m.\u001B[39mshape[\u001B[38;5;241m0\u001B[39m]\n",
      "\u001B[0;31mNameError\u001B[0m: name 'x_data_combined' is not defined"
     ]
    }
   ],
   "source": [
    "num_toextend = x_data_combined.shape[0]/x_data_cubes.shape[0]"
   ],
   "metadata": {
    "collapsed": false,
    "ExecuteTime": {
     "end_time": "2023-09-24T15:34:29.700871900Z",
     "start_time": "2023-09-24T15:34:29.605662100Z"
    }
   }
  },
  {
   "cell_type": "code",
   "execution_count": 19,
   "outputs": [
    {
     "ename": "NameError",
     "evalue": "name 'num_toextend' is not defined",
     "output_type": "error",
     "traceback": [
      "\u001B[0;31m---------------------------------------------------------------------------\u001B[0m",
      "\u001B[0;31mNameError\u001B[0m                                 Traceback (most recent call last)",
      "Cell \u001B[0;32mIn[19], line 1\u001B[0m\n\u001B[0;32m----> 1\u001B[0m y_data_augmented \u001B[38;5;241m=\u001B[39m np\u001B[38;5;241m.\u001B[39mrepeat(y_data_cubes, \u001B[43mnum_toextend\u001B[49m, axis\u001B[38;5;241m=\u001B[39m\u001B[38;5;241m0\u001B[39m)\n",
      "\u001B[0;31mNameError\u001B[0m: name 'num_toextend' is not defined"
     ]
    }
   ],
   "source": [
    "y_data_augmented = np.repeat(y_data_cubes, num_toextend, axis=0)"
   ],
   "metadata": {
    "collapsed": false,
    "ExecuteTime": {
     "end_time": "2023-09-24T15:34:30.208607100Z",
     "start_time": "2023-09-24T15:34:30.163021Z"
    }
   }
  },
  {
   "cell_type": "code",
   "execution_count": 30,
   "outputs": [
    {
     "data": {
      "text/plain": "(8493, 64, 64)"
     },
     "execution_count": 30,
     "metadata": {},
     "output_type": "execute_result"
    }
   ],
   "source": [
    "y_data_augmented.shape"
   ],
   "metadata": {
    "collapsed": false,
    "ExecuteTime": {
     "end_time": "2023-09-24T08:05:15.925638Z",
     "start_time": "2023-09-24T08:05:15.876872600Z"
    }
   }
  },
  {
   "cell_type": "code",
   "execution_count": 22,
   "outputs": [],
   "source": [
    "y_data_train_cate = tf.keras.utils.to_categorical(y_data_cubes)"
   ],
   "metadata": {
    "collapsed": false,
    "ExecuteTime": {
     "end_time": "2023-09-28T09:53:09.900327800Z",
     "start_time": "2023-09-28T09:53:09.528777300Z"
    }
   }
  },
  {
   "cell_type": "code",
   "execution_count": 24,
   "outputs": [
    {
     "data": {
      "text/plain": "6"
     },
     "execution_count": 24,
     "metadata": {},
     "output_type": "execute_result"
    }
   ],
   "source": [
    "y_data_cubes.max()"
   ],
   "metadata": {
    "collapsed": false,
    "ExecuteTime": {
     "end_time": "2023-09-27T20:53:42.400631200Z",
     "start_time": "2023-09-27T20:53:42.315687Z"
    }
   }
  },
  {
   "cell_type": "code",
   "execution_count": 25,
   "outputs": [
    {
     "data": {
      "text/plain": "(2825, 64, 64, 7)"
     },
     "execution_count": 25,
     "metadata": {},
     "output_type": "execute_result"
    }
   ],
   "source": [
    "y_data_train_cate.shape"
   ],
   "metadata": {
    "collapsed": false,
    "ExecuteTime": {
     "end_time": "2023-09-27T20:53:42.764730700Z",
     "start_time": "2023-09-27T20:53:42.689828900Z"
    }
   }
  },
  {
   "cell_type": "code",
   "execution_count": 23,
   "outputs": [
    {
     "name": "stderr",
     "output_type": "stream",
     "text": [
      "2023-09-28 12:53:15.878845: I tensorflow/compiler/xla/stream_executor/cuda/cuda_gpu_executor.cc:981] could not open file to read NUMA node: /sys/bus/pci/devices/0000:01:00.0/numa_node\n",
      "Your kernel may have been built without NUMA support.\n",
      "2023-09-28 12:53:16.250263: I tensorflow/compiler/xla/stream_executor/cuda/cuda_gpu_executor.cc:981] could not open file to read NUMA node: /sys/bus/pci/devices/0000:01:00.0/numa_node\n",
      "Your kernel may have been built without NUMA support.\n",
      "2023-09-28 12:53:16.250330: I tensorflow/compiler/xla/stream_executor/cuda/cuda_gpu_executor.cc:981] could not open file to read NUMA node: /sys/bus/pci/devices/0000:01:00.0/numa_node\n",
      "Your kernel may have been built without NUMA support.\n",
      "2023-09-28 12:53:16.256027: I tensorflow/compiler/xla/stream_executor/cuda/cuda_gpu_executor.cc:981] could not open file to read NUMA node: /sys/bus/pci/devices/0000:01:00.0/numa_node\n",
      "Your kernel may have been built without NUMA support.\n",
      "2023-09-28 12:53:16.256114: I tensorflow/compiler/xla/stream_executor/cuda/cuda_gpu_executor.cc:981] could not open file to read NUMA node: /sys/bus/pci/devices/0000:01:00.0/numa_node\n",
      "Your kernel may have been built without NUMA support.\n",
      "2023-09-28 12:53:16.256161: I tensorflow/compiler/xla/stream_executor/cuda/cuda_gpu_executor.cc:981] could not open file to read NUMA node: /sys/bus/pci/devices/0000:01:00.0/numa_node\n",
      "Your kernel may have been built without NUMA support.\n",
      "2023-09-28 12:53:16.570894: I tensorflow/compiler/xla/stream_executor/cuda/cuda_gpu_executor.cc:981] could not open file to read NUMA node: /sys/bus/pci/devices/0000:01:00.0/numa_node\n",
      "Your kernel may have been built without NUMA support.\n",
      "2023-09-28 12:53:16.570975: I tensorflow/compiler/xla/stream_executor/cuda/cuda_gpu_executor.cc:981] could not open file to read NUMA node: /sys/bus/pci/devices/0000:01:00.0/numa_node\n",
      "Your kernel may have been built without NUMA support.\n",
      "2023-09-28 12:53:16.570985: I tensorflow/core/common_runtime/gpu/gpu_device.cc:1726] Could not identify NUMA node of platform GPU id 0, defaulting to 0.  Your kernel may not have been built with NUMA support.\n",
      "2023-09-28 12:53:16.571022: I tensorflow/compiler/xla/stream_executor/cuda/cuda_gpu_executor.cc:981] could not open file to read NUMA node: /sys/bus/pci/devices/0000:01:00.0/numa_node\n",
      "Your kernel may have been built without NUMA support.\n",
      "2023-09-28 12:53:16.571068: I tensorflow/core/common_runtime/gpu/gpu_device.cc:1639] Created device /job:localhost/replica:0/task:0/device:GPU:0 with 21784 MB memory:  -> device: 0, name: NVIDIA GeForce RTX 3090, pci bus id: 0000:01:00.0, compute capability: 8.6\n"
     ]
    }
   ],
   "source": [
    "tf_dataset = tf.data.Dataset.from_tensor_slices((x_data_stadartized, y_data_train_cate))"
   ],
   "metadata": {
    "collapsed": false,
    "ExecuteTime": {
     "end_time": "2023-09-28T09:53:25.092252800Z",
     "start_time": "2023-09-28T09:53:14.256117Z"
    }
   }
  },
  {
   "cell_type": "code",
   "execution_count": 24,
   "outputs": [],
   "source": [
    "DATASET_SIZE = x_data_cubes.shape[0]\n",
    "\n",
    "train_size = int(0.8 * DATASET_SIZE)\n",
    "val_size = int(0.1 * DATASET_SIZE)\n",
    "test_size = int(0.1 * DATASET_SIZE)\n",
    "\n",
    "tf_dataset = tf_dataset.shuffle(buffer_size=1000)\n",
    "train_dataset = tf_dataset.take(train_size)\n",
    "test_dataset = tf_dataset.skip(train_size)\n",
    "val_dataset = test_dataset.skip(test_size)\n",
    "test_dataset = test_dataset.take(test_size)"
   ],
   "metadata": {
    "collapsed": false,
    "ExecuteTime": {
     "end_time": "2023-09-28T09:53:27.586823400Z",
     "start_time": "2023-09-28T09:53:27.336703800Z"
    }
   }
  },
  {
   "cell_type": "code",
   "execution_count": 25,
   "outputs": [
    {
     "data": {
      "text/plain": "2260"
     },
     "execution_count": 25,
     "metadata": {},
     "output_type": "execute_result"
    }
   ],
   "source": [
    "train_size"
   ],
   "metadata": {
    "collapsed": false,
    "ExecuteTime": {
     "end_time": "2023-09-25T18:50:41.174153500Z",
     "start_time": "2023-09-25T18:50:41.140721900Z"
    }
   }
  },
  {
   "cell_type": "code",
   "execution_count": 25,
   "outputs": [],
   "source": [],
   "metadata": {
    "collapsed": false,
    "ExecuteTime": {
     "end_time": "2023-09-25T18:50:47.662087700Z",
     "start_time": "2023-09-25T18:50:47.544733100Z"
    }
   }
  },
  {
   "cell_type": "code",
   "execution_count": 25,
   "outputs": [],
   "source": [
    "train_dataset = train_dataset.shuffle(buffer_size=1000).batch(128).prefetch(buffer_size=tf.data.experimental.AUTOTUNE)"
   ],
   "metadata": {
    "collapsed": false,
    "ExecuteTime": {
     "end_time": "2023-09-28T09:53:31.890944600Z",
     "start_time": "2023-09-28T09:53:31.836281600Z"
    }
   }
  },
  {
   "cell_type": "code",
   "execution_count": 26,
   "outputs": [
    {
     "ename": "NameError",
     "evalue": "name 'model_new' is not defined",
     "output_type": "error",
     "traceback": [
      "\u001B[0;31m---------------------------------------------------------------------------\u001B[0m",
      "\u001B[0;31mNameError\u001B[0m                                 Traceback (most recent call last)",
      "Cell \u001B[0;32mIn[26], line 1\u001B[0m\n\u001B[0;32m----> 1\u001B[0m history2 \u001B[38;5;241m=\u001B[39m \u001B[43mmodel_new\u001B[49m\u001B[38;5;241m.\u001B[39mfit(train_dataset, epochs\u001B[38;5;241m=\u001B[39m\u001B[38;5;241m600\u001B[39m)\n",
      "\u001B[0;31mNameError\u001B[0m: name 'model_new' is not defined"
     ]
    }
   ],
   "source": [
    "history2 = model_new.fit(train_dataset, epochs=600)"
   ],
   "metadata": {
    "collapsed": false,
    "ExecuteTime": {
     "end_time": "2023-09-28T09:53:32.951963400Z",
     "start_time": "2023-09-28T09:53:32.889480600Z"
    }
   }
  },
  {
   "cell_type": "code",
   "execution_count": 36,
   "outputs": [
    {
     "name": "stderr",
     "output_type": "stream",
     "text": [
      "2023-09-24 00:51:23.413826: W tensorflow/tsl/framework/cpu_allocator_impl.cc:83] Allocation of 1669791744 exceeds 10% of free system memory.\n"
     ]
    },
    {
     "ename": "ValueError",
     "evalue": "in user code:\n\n    File \"/home/andrew/miniconda3/envs/segmentation-new/lib/python3.11/site-packages/keras/src/engine/training.py\", line 2341, in predict_function  *\n        return step_function(self, iterator)\n    File \"/home/andrew/miniconda3/envs/segmentation-new/lib/python3.11/site-packages/keras/src/engine/training.py\", line 2327, in step_function  **\n        outputs = model.distribute_strategy.run(run_step, args=(data,))\n    File \"/home/andrew/miniconda3/envs/segmentation-new/lib/python3.11/site-packages/keras/src/engine/training.py\", line 2315, in run_step  **\n        outputs = model.predict_step(data)\n    File \"/home/andrew/miniconda3/envs/segmentation-new/lib/python3.11/site-packages/keras/src/engine/training.py\", line 2283, in predict_step\n        return self(x, training=False)\n    File \"/home/andrew/miniconda3/envs/segmentation-new/lib/python3.11/site-packages/keras/src/utils/traceback_utils.py\", line 70, in error_handler\n        raise e.with_traceback(filtered_tb) from None\n    File \"/home/andrew/miniconda3/envs/segmentation-new/lib/python3.11/site-packages/keras/src/engine/input_spec.py\", line 298, in assert_input_compatibility\n        raise ValueError(\n\n    ValueError: Input 0 of layer \"sequential\" is incompatible with the layer: expected shape=(None, 64, 64, 12), found shape=(32, 64, 12)\n",
     "output_type": "error",
     "traceback": [
      "\u001B[0;31m---------------------------------------------------------------------------\u001B[0m",
      "\u001B[0;31mValueError\u001B[0m                                Traceback (most recent call last)",
      "Cell \u001B[0;32mIn[36], line 2\u001B[0m\n\u001B[1;32m      1\u001B[0m testtt, \u001B[38;5;241m=\u001B[39m test_dataset\u001B[38;5;241m.\u001B[39mtake(\u001B[38;5;241m1\u001B[39m)\n\u001B[0;32m----> 2\u001B[0m pred_res \u001B[38;5;241m=\u001B[39m \u001B[43mmodel_new\u001B[49m\u001B[38;5;241;43m.\u001B[39;49m\u001B[43mpredict\u001B[49m\u001B[43m(\u001B[49m\u001B[43mtesttt\u001B[49m\u001B[43m[\u001B[49m\u001B[38;5;241;43m0\u001B[39;49m\u001B[43m]\u001B[49m\u001B[43m)\u001B[49m\n",
      "File \u001B[0;32m~/miniconda3/envs/segmentation-new/lib/python3.11/site-packages/keras/src/utils/traceback_utils.py:70\u001B[0m, in \u001B[0;36mfilter_traceback.<locals>.error_handler\u001B[0;34m(*args, **kwargs)\u001B[0m\n\u001B[1;32m     67\u001B[0m     filtered_tb \u001B[38;5;241m=\u001B[39m _process_traceback_frames(e\u001B[38;5;241m.\u001B[39m__traceback__)\n\u001B[1;32m     68\u001B[0m     \u001B[38;5;66;03m# To get the full stack trace, call:\u001B[39;00m\n\u001B[1;32m     69\u001B[0m     \u001B[38;5;66;03m# `tf.debugging.disable_traceback_filtering()`\u001B[39;00m\n\u001B[0;32m---> 70\u001B[0m     \u001B[38;5;28;01mraise\u001B[39;00m e\u001B[38;5;241m.\u001B[39mwith_traceback(filtered_tb) \u001B[38;5;28;01mfrom\u001B[39;00m \u001B[38;5;28;01mNone\u001B[39;00m\n\u001B[1;32m     71\u001B[0m \u001B[38;5;28;01mfinally\u001B[39;00m:\n\u001B[1;32m     72\u001B[0m     \u001B[38;5;28;01mdel\u001B[39;00m filtered_tb\n",
      "File \u001B[0;32m/tmp/__autograph_generated_filefodt11vv.py:15\u001B[0m, in \u001B[0;36mouter_factory.<locals>.inner_factory.<locals>.tf__predict_function\u001B[0;34m(iterator)\u001B[0m\n\u001B[1;32m     13\u001B[0m \u001B[38;5;28;01mtry\u001B[39;00m:\n\u001B[1;32m     14\u001B[0m     do_return \u001B[38;5;241m=\u001B[39m \u001B[38;5;28;01mTrue\u001B[39;00m\n\u001B[0;32m---> 15\u001B[0m     retval_ \u001B[38;5;241m=\u001B[39m ag__\u001B[38;5;241m.\u001B[39mconverted_call(ag__\u001B[38;5;241m.\u001B[39mld(step_function), (ag__\u001B[38;5;241m.\u001B[39mld(\u001B[38;5;28mself\u001B[39m), ag__\u001B[38;5;241m.\u001B[39mld(iterator)), \u001B[38;5;28;01mNone\u001B[39;00m, fscope)\n\u001B[1;32m     16\u001B[0m \u001B[38;5;28;01mexcept\u001B[39;00m:\n\u001B[1;32m     17\u001B[0m     do_return \u001B[38;5;241m=\u001B[39m \u001B[38;5;28;01mFalse\u001B[39;00m\n",
      "\u001B[0;31mValueError\u001B[0m: in user code:\n\n    File \"/home/andrew/miniconda3/envs/segmentation-new/lib/python3.11/site-packages/keras/src/engine/training.py\", line 2341, in predict_function  *\n        return step_function(self, iterator)\n    File \"/home/andrew/miniconda3/envs/segmentation-new/lib/python3.11/site-packages/keras/src/engine/training.py\", line 2327, in step_function  **\n        outputs = model.distribute_strategy.run(run_step, args=(data,))\n    File \"/home/andrew/miniconda3/envs/segmentation-new/lib/python3.11/site-packages/keras/src/engine/training.py\", line 2315, in run_step  **\n        outputs = model.predict_step(data)\n    File \"/home/andrew/miniconda3/envs/segmentation-new/lib/python3.11/site-packages/keras/src/engine/training.py\", line 2283, in predict_step\n        return self(x, training=False)\n    File \"/home/andrew/miniconda3/envs/segmentation-new/lib/python3.11/site-packages/keras/src/utils/traceback_utils.py\", line 70, in error_handler\n        raise e.with_traceback(filtered_tb) from None\n    File \"/home/andrew/miniconda3/envs/segmentation-new/lib/python3.11/site-packages/keras/src/engine/input_spec.py\", line 298, in assert_input_compatibility\n        raise ValueError(\n\n    ValueError: Input 0 of layer \"sequential\" is incompatible with the layer: expected shape=(None, 64, 64, 12), found shape=(32, 64, 12)\n"
     ]
    }
   ],
   "source": [
    "testtt, = test_dataset.take(1)\n",
    "pred_res = model_new.predict(testtt[0])"
   ],
   "metadata": {
    "collapsed": false,
    "ExecuteTime": {
     "end_time": "2023-09-23T21:51:25.247926200Z",
     "start_time": "2023-09-23T21:51:23.412549700Z"
    }
   }
  },
  {
   "cell_type": "code",
   "execution_count": 80,
   "outputs": [
    {
     "ename": "ValueError",
     "evalue": "too many values to unpack (expected 1)",
     "output_type": "error",
     "traceback": [
      "\u001B[0;31m---------------------------------------------------------------------------\u001B[0m",
      "\u001B[0;31mValueError\u001B[0m                                Traceback (most recent call last)",
      "Cell \u001B[0;32mIn[80], line 1\u001B[0m\n\u001B[0;32m----> 1\u001B[0m test_x, \u001B[38;5;241m=\u001B[39m test_dataset\u001B[38;5;241m.\u001B[39mtake(\u001B[38;5;241m2\u001B[39m)\n",
      "\u001B[0;31mValueError\u001B[0m: too many values to unpack (expected 1)"
     ]
    }
   ],
   "source": [],
   "metadata": {
    "collapsed": false,
    "ExecuteTime": {
     "end_time": "2023-09-23T20:52:53.578344900Z",
     "start_time": "2023-09-23T20:52:52.138705100Z"
    }
   }
  },
  {
   "cell_type": "code",
   "execution_count": 79,
   "outputs": [
    {
     "data": {
      "text/plain": "(<tf.Tensor: shape=(64, 64, 12), dtype=float32, numpy=\n array([[[0.0356, 0.0502, 0.0618, ..., 0.2688, 0.1903, 0.1742],\n         [0.0356, 0.0495, 0.0607, ..., 0.2708, 0.1914, 0.1816],\n         [0.0353, 0.0448, 0.0566, ..., 0.269 , 0.1929, 0.1856],\n         ...,\n         [0.0256, 0.033 , 0.0442, ..., 0.2079, 0.1384, 0.1532],\n         [0.026 , 0.0334, 0.0433, ..., 0.2054, 0.1357, 0.158 ],\n         [0.0264, 0.0311, 0.0441, ..., 0.2047, 0.1328, 0.1665]],\n \n        [[0.0268, 0.0339, 0.0458, ..., 0.2059, 0.1295, 0.1783],\n         [0.0271, 0.0371, 0.0455, ..., 0.2072, 0.13  , 0.1784],\n         [0.0275, 0.0364, 0.0472, ..., 0.2087, 0.1342, 0.1677],\n         ...,\n         [0.034 , 0.0371, 0.0452, ..., 0.2251, 0.1537, 0.1754],\n         [0.0335, 0.0383, 0.0441, ..., 0.2211, 0.1517, 0.162 ],\n         [0.0329, 0.0375, 0.0449, ..., 0.2243, 0.1516, 0.1733]],\n \n        [[0.0323, 0.04  , 0.0526, ..., 0.2329, 0.1564, 0.1829],\n         [0.0315, 0.0413, 0.0532, ..., 0.2431, 0.1629, 0.1913],\n         [0.0307, 0.0482, 0.0596, ..., 0.2342, 0.1555, 0.1933],\n         ...,\n         [0.0336, 0.0462, 0.061 , ..., 0.2606, 0.1783, 0.1966],\n         [0.0339, 0.047 , 0.064 , ..., 0.2638, 0.1786, 0.2015],\n         [0.0343, 0.046 , 0.0578, ..., 0.2662, 0.1835, 0.2006]],\n \n        ...,\n \n        [[0.0345, 0.0491, 0.0571, ..., 0.2676, 0.2012, 0.1704],\n         [0.0343, 0.0482, 0.0596, ..., 0.2684, 0.2016, 0.1709],\n         [0.034 , 0.0438, 0.0592, ..., 0.2644, 0.1959, 0.1704],\n         ...,\n         [0.0213, 0.0247, 0.0403, ..., 0.1691, 0.082 , 0.3227],\n         [0.022 , 0.0293, 0.0526, ..., 0.1741, 0.0857, 0.2694],\n         [0.0228, 0.0283, 0.0476, ..., 0.1868, 0.0991, 0.2477]],\n \n        [[0.0238, 0.0298, 0.0416, ..., 0.2046, 0.1187, 0.2437],\n         [0.0248, 0.0393, 0.0531, ..., 0.2232, 0.1364, 0.2293],\n         [0.0258, 0.035 , 0.0505, ..., 0.2363, 0.1493, 0.2135],\n         ...,\n         [0.0317, 0.0348, 0.0543, ..., 0.2294, 0.1326, 0.2377],\n         [0.0312, 0.0386, 0.0536, ..., 0.2342, 0.1415, 0.2085],\n         [0.0308, 0.0378, 0.0557, ..., 0.2345, 0.1459, 0.1867]],\n \n        [[0.0305, 0.0363, 0.0551, ..., 0.2255, 0.1393, 0.1816],\n         [0.0303, 0.0357, 0.0492, ..., 0.2249, 0.1372, 0.193 ],\n         [0.0303, 0.0376, 0.0565, ..., 0.2329, 0.1393, 0.2212],\n         ...,\n         [0.0341, 0.048 , 0.0584, ..., 0.2757, 0.2104, 0.1705],\n         [0.0341, 0.0486, 0.0568, ..., 0.2746, 0.2103, 0.1729],\n         [0.0341, 0.0464, 0.0563, ..., 0.2721, 0.2098, 0.171 ]]],\n       dtype=float32)>,\n <tf.Tensor: shape=(64, 64, 6), dtype=float32, numpy=\n array([[[1., 0., 0., 0., 0., 0.],\n         [1., 0., 0., 0., 0., 0.],\n         [1., 0., 0., 0., 0., 0.],\n         ...,\n         [1., 0., 0., 0., 0., 0.],\n         [1., 0., 0., 0., 0., 0.],\n         [1., 0., 0., 0., 0., 0.]],\n \n        [[1., 0., 0., 0., 0., 0.],\n         [1., 0., 0., 0., 0., 0.],\n         [1., 0., 0., 0., 0., 0.],\n         ...,\n         [1., 0., 0., 0., 0., 0.],\n         [1., 0., 0., 0., 0., 0.],\n         [1., 0., 0., 0., 0., 0.]],\n \n        [[1., 0., 0., 0., 0., 0.],\n         [1., 0., 0., 0., 0., 0.],\n         [1., 0., 0., 0., 0., 0.],\n         ...,\n         [1., 0., 0., 0., 0., 0.],\n         [1., 0., 0., 0., 0., 0.],\n         [1., 0., 0., 0., 0., 0.]],\n \n        ...,\n \n        [[1., 0., 0., 0., 0., 0.],\n         [1., 0., 0., 0., 0., 0.],\n         [1., 0., 0., 0., 0., 0.],\n         ...,\n         [1., 0., 0., 0., 0., 0.],\n         [1., 0., 0., 0., 0., 0.],\n         [1., 0., 0., 0., 0., 0.]],\n \n        [[1., 0., 0., 0., 0., 0.],\n         [1., 0., 0., 0., 0., 0.],\n         [1., 0., 0., 0., 0., 0.],\n         ...,\n         [1., 0., 0., 0., 0., 0.],\n         [1., 0., 0., 0., 0., 0.],\n         [1., 0., 0., 0., 0., 0.]],\n \n        [[1., 0., 0., 0., 0., 0.],\n         [1., 0., 0., 0., 0., 0.],\n         [1., 0., 0., 0., 0., 0.],\n         ...,\n         [1., 0., 0., 0., 0., 0.],\n         [1., 0., 0., 0., 0., 0.],\n         [1., 0., 0., 0., 0., 0.]]], dtype=float32)>)"
     },
     "execution_count": 79,
     "metadata": {},
     "output_type": "execute_result"
    }
   ],
   "source": [
    "test_x"
   ],
   "metadata": {
    "collapsed": false,
    "ExecuteTime": {
     "end_time": "2023-09-23T20:52:39.671439Z",
     "start_time": "2023-09-23T20:52:39.648887500Z"
    }
   }
  },
  {
   "cell_type": "code",
   "execution_count": 27,
   "outputs": [],
   "source": [
    "x_tt = []\n",
    "y_tt = []\n",
    "\n",
    "for x,y in train_dataset:\n",
    "    x_tt.append(x.numpy())\n",
    "    y_tt.append(y.numpy())"
   ],
   "metadata": {
    "collapsed": false,
    "ExecuteTime": {
     "end_time": "2023-09-25T18:51:10.325722200Z",
     "start_time": "2023-09-25T18:51:08.989114500Z"
    }
   }
  },
  {
   "cell_type": "code",
   "execution_count": 28,
   "outputs": [],
   "source": [
    "x_ttt = np.concatenate(x_tt)"
   ],
   "metadata": {
    "collapsed": false,
    "ExecuteTime": {
     "end_time": "2023-09-25T18:51:11.358425Z",
     "start_time": "2023-09-25T18:51:11.004741100Z"
    }
   }
  },
  {
   "cell_type": "code",
   "execution_count": 29,
   "outputs": [],
   "source": [
    "y_ttt = np.concatenate(y_tt)"
   ],
   "metadata": {
    "collapsed": false,
    "ExecuteTime": {
     "end_time": "2023-09-25T18:51:11.570311Z",
     "start_time": "2023-09-25T18:51:11.332619100Z"
    }
   }
  },
  {
   "cell_type": "code",
   "execution_count": 31,
   "outputs": [
    {
     "data": {
      "text/plain": "(2260, 64, 64, 12)"
     },
     "execution_count": 31,
     "metadata": {},
     "output_type": "execute_result"
    }
   ],
   "source": [
    "x_ttt.shape"
   ],
   "metadata": {
    "collapsed": false,
    "ExecuteTime": {
     "end_time": "2023-09-24T14:48:50.125209900Z",
     "start_time": "2023-09-24T14:48:49.975059700Z"
    }
   }
  },
  {
   "cell_type": "code",
   "execution_count": 105,
   "outputs": [
    {
     "data": {
      "text/plain": "(2260, 64, 64, 7)"
     },
     "execution_count": 105,
     "metadata": {},
     "output_type": "execute_result"
    }
   ],
   "source": [
    "y_ttt.shape"
   ],
   "metadata": {
    "collapsed": false,
    "ExecuteTime": {
     "end_time": "2023-09-24T08:39:33.972138500Z",
     "start_time": "2023-09-24T08:39:33.940855300Z"
    }
   }
  },
  {
   "cell_type": "code",
   "execution_count": 106,
   "outputs": [
    {
     "name": "stdout",
     "output_type": "stream",
     "text": [
      "71/71 [==============================] - 2s 27ms/step\n"
     ]
    }
   ],
   "source": [
    "ffff = model_new.predict(x_ttt)"
   ],
   "metadata": {
    "collapsed": false,
    "ExecuteTime": {
     "end_time": "2023-09-24T08:39:38.805726900Z",
     "start_time": "2023-09-24T08:39:34.732037200Z"
    }
   }
  },
  {
   "cell_type": "code",
   "execution_count": 26,
   "outputs": [],
   "source": [
    "y_tttt = tf.argmax(y_ttt, axis=-1).numpy().flatten()"
   ],
   "metadata": {
    "collapsed": false,
    "ExecuteTime": {
     "end_time": "2023-09-24T19:36:29.804263Z",
     "start_time": "2023-09-24T19:36:29.628813Z"
    }
   }
  },
  {
   "cell_type": "code",
   "execution_count": 108,
   "outputs": [],
   "source": [
    "fff_t = tf.argmax(ffff, axis=-1).numpy().flatten()"
   ],
   "metadata": {
    "collapsed": false,
    "ExecuteTime": {
     "end_time": "2023-09-24T08:39:41.425068100Z",
     "start_time": "2023-09-24T08:39:41.383230Z"
    }
   }
  },
  {
   "cell_type": "code",
   "execution_count": 109,
   "outputs": [
    {
     "data": {
      "text/plain": "0.9917584174502212"
     },
     "execution_count": 109,
     "metadata": {},
     "output_type": "execute_result"
    }
   ],
   "source": [
    "from sklearn.metrics import accuracy_score, classification_report\n",
    "\n",
    "accuracy_score(y_tttt, fff_t)"
   ],
   "metadata": {
    "collapsed": false,
    "ExecuteTime": {
     "end_time": "2023-09-24T08:39:43.254014400Z",
     "start_time": "2023-09-24T08:39:41.861253Z"
    }
   }
  },
  {
   "cell_type": "code",
   "execution_count": 32,
   "outputs": [
    {
     "ename": "NameError",
     "evalue": "name 'model_new' is not defined",
     "output_type": "error",
     "traceback": [
      "\u001B[0;31m---------------------------------------------------------------------------\u001B[0m",
      "\u001B[0;31mNameError\u001B[0m                                 Traceback (most recent call last)",
      "Cell \u001B[0;32mIn[32], line 1\u001B[0m\n\u001B[0;32m----> 1\u001B[0m \u001B[43mmodel_new\u001B[49m\u001B[38;5;241m.\u001B[39msave(\u001B[38;5;124m\"\u001B[39m\u001B[38;5;124mdataset6_new_1.keras\u001B[39m\u001B[38;5;124m\"\u001B[39m)\n",
      "\u001B[0;31mNameError\u001B[0m: name 'model_new' is not defined"
     ]
    }
   ],
   "source": [
    "model_new.save(\"dataset6_new_1.keras\")"
   ],
   "metadata": {
    "collapsed": false,
    "ExecuteTime": {
     "end_time": "2023-09-24T14:48:54.006447700Z",
     "start_time": "2023-09-24T14:48:53.946469600Z"
    }
   }
  },
  {
   "cell_type": "code",
   "execution_count": 33,
   "outputs": [],
   "source": [
    "##TEST"
   ],
   "metadata": {
    "collapsed": false,
    "ExecuteTime": {
     "end_time": "2023-09-24T14:48:54.505818900Z",
     "start_time": "2023-09-24T14:48:54.452712500Z"
    }
   }
  },
  {
   "cell_type": "code",
   "execution_count": 27,
   "outputs": [
    {
     "data": {
      "text/plain": "['/mnt/d/shared_folder/test_images2/2022-08-24-00_00_2022-08-24-23_59_Sentinel-2_L2A_B01_(Raw).tiff',\n '/mnt/d/shared_folder/test_images2/2022-08-24-00_00_2022-08-24-23_59_Sentinel-2_L2A_B02_(Raw).tiff',\n '/mnt/d/shared_folder/test_images2/2022-08-24-00_00_2022-08-24-23_59_Sentinel-2_L2A_B03_(Raw).tiff',\n '/mnt/d/shared_folder/test_images2/2022-08-24-00_00_2022-08-24-23_59_Sentinel-2_L2A_B04_(Raw).tiff',\n '/mnt/d/shared_folder/test_images2/2022-08-24-00_00_2022-08-24-23_59_Sentinel-2_L2A_B05_(Raw).tiff',\n '/mnt/d/shared_folder/test_images2/2022-08-24-00_00_2022-08-24-23_59_Sentinel-2_L2A_B06_(Raw).tiff',\n '/mnt/d/shared_folder/test_images2/2022-08-24-00_00_2022-08-24-23_59_Sentinel-2_L2A_B07_(Raw).tiff',\n '/mnt/d/shared_folder/test_images2/2022-08-24-00_00_2022-08-24-23_59_Sentinel-2_L2A_B08_(Raw).tiff',\n '/mnt/d/shared_folder/test_images2/2022-08-24-00_00_2022-08-24-23_59_Sentinel-2_L2A_B09_(Raw).tiff',\n '/mnt/d/shared_folder/test_images2/2022-08-24-00_00_2022-08-24-23_59_Sentinel-2_L2A_B11_(Raw).tiff',\n '/mnt/d/shared_folder/test_images2/2022-08-24-00_00_2022-08-24-23_59_Sentinel-2_L2A_B12_(Raw).tiff',\n '/mnt/d/shared_folder/test_images2/2022-08-24-00_00_2022-08-24-23_59_Sentinel-2_L2A_B8A_(Raw).tiff']"
     },
     "execution_count": 27,
     "metadata": {},
     "output_type": "execute_result"
    }
   ],
   "source": [
    "from glob import glob\n",
    "image_bands_1 = glob(\"/mnt/d/shared_folder/test_images2/*B?*.tiff\", recursive=True)\n",
    "image_bands_1.sort()\n",
    "image_bands_1"
   ],
   "metadata": {
    "collapsed": false,
    "ExecuteTime": {
     "end_time": "2023-09-28T09:53:44.573758300Z",
     "start_time": "2023-09-28T09:53:44.404937600Z"
    }
   }
  },
  {
   "cell_type": "code",
   "execution_count": 28,
   "outputs": [],
   "source": [
    "import rasterio as rio\n",
    "\n",
    "test_imgs_list = []\n",
    "\n",
    "for tst_img in image_bands_1:\n",
    "    with rio.open(tst_img, 'r') as img_file:\n",
    "        img_array = img_file.read(1)\n",
    "        test_imgs_list.append(img_array)\n",
    "\n",
    "test_imgs_array = np.asarray(test_imgs_list)"
   ],
   "metadata": {
    "collapsed": false,
    "ExecuteTime": {
     "end_time": "2023-09-28T09:53:48.265370300Z",
     "start_time": "2023-09-28T09:53:46.323277500Z"
    }
   }
  },
  {
   "cell_type": "code",
   "execution_count": 31,
   "outputs": [
    {
     "name": "stdout",
     "output_type": "stream",
     "text": [
      "Min 0.0 and max 0.7232000231742859\n"
     ]
    }
   ],
   "source": [
    "print(f\"Min {test_imgs_array.min()} and max {test_imgs_array.max()}\")"
   ],
   "metadata": {
    "collapsed": false,
    "ExecuteTime": {
     "end_time": "2023-09-24T15:03:08.458752Z",
     "start_time": "2023-09-24T15:03:08.383795800Z"
    }
   }
  },
  {
   "cell_type": "code",
   "execution_count": 28,
   "outputs": [
    {
     "name": "stdout",
     "output_type": "stream",
     "text": [
      "x: 9 y: 17\n"
     ]
    }
   ],
   "source": [
    "def createImageCubes(img_array, blk_width, blk_height):\n",
    "    arrray = []\n",
    "    imageShape = img_array.shape\n",
    "    for w in range(0, imageShape[0], blk_width):\n",
    "        for h in range(0, imageShape[1], blk_height):\n",
    "            arrr = img_array[w:w + blk_width, h:h + blk_height]\n",
    "            arrray.append(np.asarray(arrr))\n",
    "    return np.asarray(arrray)\n",
    "\n",
    "\n",
    "test_image_shape = test_imgs_array[0].shape\n",
    "test_image_shape\n",
    "import math\n",
    "\n",
    "test_image_shape_0_parts = math.floor(test_image_shape[0] / 64)\n",
    "test_image_shape_1_parts = math.floor(test_image_shape[1] / 64)\n",
    "print(f\"x: {test_image_shape_0_parts} y: {test_image_shape_1_parts}\")\n",
    "\n",
    "test_imgs_fixed_list = []\n",
    "for img in test_imgs_array:\n",
    "    test_img_fixed_new = img[:64*test_image_shape_0_parts, :64*test_image_shape_1_parts]\n",
    "    test_imgs_fixed_list.append(test_img_fixed_new)\n",
    "test_imgs_fixed_array = np.asarray(test_imgs_fixed_list)\n"
   ],
   "metadata": {
    "collapsed": false,
    "ExecuteTime": {
     "end_time": "2023-09-24T15:35:20.336682400Z",
     "start_time": "2023-09-24T15:35:20.293666400Z"
    }
   }
  },
  {
   "cell_type": "code",
   "execution_count": 29,
   "outputs": [],
   "source": [
    "cubes_list = []\n",
    "for lstt in test_imgs_fixed_array:\n",
    "    cubes = createImageCubes(lstt,64,64)\n",
    "    cubes_list.append(cubes)\n",
    "cubes_array = np.asarray(cubes_list)"
   ],
   "metadata": {
    "collapsed": false,
    "ExecuteTime": {
     "end_time": "2023-09-24T15:35:21.223556500Z",
     "start_time": "2023-09-24T15:35:21.156032800Z"
    }
   }
  },
  {
   "cell_type": "code",
   "execution_count": 30,
   "outputs": [],
   "source": [
    "cubes_array = np.moveaxis(cubes_array, 0, 3)"
   ],
   "metadata": {
    "collapsed": false,
    "ExecuteTime": {
     "end_time": "2023-09-24T15:35:21.754967100Z",
     "start_time": "2023-09-24T15:35:21.702112500Z"
    }
   }
  },
  {
   "cell_type": "code",
   "execution_count": 31,
   "outputs": [],
   "source": [
    "cubes_array = cubes_array/x_data_cubes.max()"
   ],
   "metadata": {
    "collapsed": false,
    "ExecuteTime": {
     "end_time": "2023-09-24T15:35:22.722473400Z",
     "start_time": "2023-09-24T15:35:22.509959500Z"
    }
   }
  },
  {
   "cell_type": "code",
   "execution_count": 41,
   "outputs": [
    {
     "ename": "NameError",
     "evalue": "name 'model_new' is not defined",
     "output_type": "error",
     "traceback": [
      "\u001B[0;31m---------------------------------------------------------------------------\u001B[0m",
      "\u001B[0;31mNameError\u001B[0m                                 Traceback (most recent call last)",
      "Cell \u001B[0;32mIn[41], line 1\u001B[0m\n\u001B[0;32m----> 1\u001B[0m resss \u001B[38;5;241m=\u001B[39m \u001B[43mmodel_new\u001B[49m\u001B[38;5;241m.\u001B[39mpredict(cubes_array)\n",
      "\u001B[0;31mNameError\u001B[0m: name 'model_new' is not defined"
     ]
    }
   ],
   "source": [
    "resss = model_new.predict(cubes_array)"
   ],
   "metadata": {
    "collapsed": false,
    "ExecuteTime": {
     "end_time": "2023-09-24T14:49:13.573775500Z",
     "start_time": "2023-09-24T14:49:13.520650400Z"
    }
   }
  },
  {
   "cell_type": "code",
   "execution_count": 118,
   "outputs": [],
   "source": [
    "resss_pred = tf.argmax(resss, axis=-1).numpy()"
   ],
   "metadata": {
    "collapsed": false,
    "ExecuteTime": {
     "end_time": "2023-09-24T08:40:05.478130200Z",
     "start_time": "2023-09-24T08:40:05.439698500Z"
    }
   }
  },
  {
   "cell_type": "code",
   "execution_count": 119,
   "outputs": [],
   "source": [
    "def imageFromCube(cubes, imageWidth, imageHeight):\n",
    "    arrrr = np.empty((imageWidth, imageHeight,12))\n",
    "    cubesShape = cubes.shape\n",
    "    items_per_row = int(imageWidth/cubesShape[1])\n",
    "    items_per_col = int(imageHeight/cubesShape[2])\n",
    "    for el in range(0,cubesShape[0]):\n",
    "        num_row = int(el/items_per_col)\n",
    "        num_col = int(el%items_per_col)\n",
    "        #print(\"Row: \", num_row, \" column: \", num_col)\n",
    "        for i in range(0,cubesShape[1]):\n",
    "            for j in range(0, cubesShape[2]):\n",
    "                x = int(i+num_row*cubesShape[1])\n",
    "                y = int(j+num_col*cubesShape[2])\n",
    "                #print(\"X: \", x, \" Y: \", y)\n",
    "                arrrr[x,y] = cubes[el,i,j]\n",
    "        #arrrr[num_row, num_col] = cubes[el,:, :, :]\n",
    "        #num_col = int(int(el*cubesShape[1]%imageWidth)/imageHeight)\n",
    "    return arrrr"
   ],
   "metadata": {
    "collapsed": false,
    "ExecuteTime": {
     "end_time": "2023-09-24T08:40:06.287198100Z",
     "start_time": "2023-09-24T08:40:06.280191900Z"
    }
   }
  },
  {
   "cell_type": "code",
   "execution_count": 120,
   "outputs": [],
   "source": [
    "resss_img = imageFromCube(resss_pred,576,1088)"
   ],
   "metadata": {
    "collapsed": false,
    "ExecuteTime": {
     "end_time": "2023-09-24T08:40:08.753646500Z",
     "start_time": "2023-09-24T08:40:08.157281100Z"
    }
   }
  },
  {
   "cell_type": "code",
   "execution_count": 121,
   "outputs": [
    {
     "data": {
      "text/plain": "<Figure size 1200x1200 with 2 Axes>",
      "image/png": "[encoded data removed]"
     },
     "metadata": {},
     "output_type": "display_data"
    },
    {
     "data": {
      "text/plain": "<Axes: >"
     },
     "execution_count": 121,
     "metadata": {},
     "output_type": "execute_result"
    }
   ],
   "source": [
    "from matplotlib.colors import ListedColormap\n",
    "import earthpy.plot as ep\n",
    "\n",
    "ep.plot_bands(resss_img[:,:,0],\n",
    "              cmap=ListedColormap(['green', 'purple', 'orange', 'blue', 'yellow']))"
   ],
   "metadata": {
    "collapsed": false,
    "ExecuteTime": {
     "end_time": "2023-09-24T08:40:09.504606100Z",
     "start_time": "2023-09-24T08:40:09.310486900Z"
    }
   }
  },
  {
   "cell_type": "code",
   "execution_count": 122,
   "outputs": [
    {
     "data": {
      "text/plain": "{'water': 1, 'forest': 2, 'fields': 3, 'city': 4, 'sands': 5, 'mountains': 6}"
     },
     "execution_count": 122,
     "metadata": {},
     "output_type": "execute_result"
    }
   ],
   "source": [
    "categories_map"
   ],
   "metadata": {
    "collapsed": false,
    "ExecuteTime": {
     "end_time": "2023-09-24T08:42:09.711211100Z",
     "start_time": "2023-09-24T08:42:09.614148900Z"
    }
   }
  },
  {
   "cell_type": "markdown",
   "source": [
    "### TRY to use naive bayes"
   ],
   "metadata": {
    "collapsed": false
   }
  },
  {
   "cell_type": "code",
   "source": [
    "import layers.naive_bayes\n",
    "importlib.reload(layers.naive_bayes)\n",
    "import tensorflow as tf\n",
    "# from keras.models import Model, save_model\n",
    "# from keras.layers import Input\n",
    "\n",
    "# Create the model\n",
    "# model_new_1 = tf.keras.models.Sequential()\n",
    "# model_new_1.add(tf.keras.models.InputLayer(shape=(12,)))  # Input layer\n",
    "# model_new_1.add(layers.naive_bayes.MultiClassNaiveBayesLayer(num_features=12, num_of_categories=7))  # Naive Bayes layer\n",
    "# model_new_1.add(tf.keras.models.Softmax())  #\n",
    "\n",
    "model_new_gnb = tf.keras.models.Sequential([\n",
    "    layers.naive_bayes.MultiClassNaiveBayesLayer(num_features=12, num_of_categories=6, input_shape=(12,)),\n",
    "    Activation(\"softmax\")\n",
    "    ])\n",
    "\n",
    "# Assuming you've trained or set the weights, you can then save the model:\n",
    "#save_model(model, 'naive_bayes_model.h5')"
   ],
   "metadata": {
    "collapsed": false,
    "ExecuteTime": {
     "end_time": "2024-05-15T12:55:36.243761Z",
     "start_time": "2024-05-15T12:55:26.147102Z"
    }
   },
   "outputs": [
    {
     "name": "stderr",
     "output_type": "stream",
     "text": [
      "2024-05-15 15:55:26.617798: I tensorflow/compiler/xla/stream_executor/cuda/cuda_gpu_executor.cc:981] could not open file to read NUMA node: /sys/bus/pci/devices/0000:01:00.0/numa_node\n",
      "Your kernel may have been built without NUMA support.\n",
      "2024-05-15 15:55:26.992508: I tensorflow/compiler/xla/stream_executor/cuda/cuda_gpu_executor.cc:981] could not open file to read NUMA node: /sys/bus/pci/devices/0000:01:00.0/numa_node\n",
      "Your kernel may have been built without NUMA support.\n",
      "2024-05-15 15:55:26.992574: I tensorflow/compiler/xla/stream_executor/cuda/cuda_gpu_executor.cc:981] could not open file to read NUMA node: /sys/bus/pci/devices/0000:01:00.0/numa_node\n",
      "Your kernel may have been built without NUMA support.\n",
      "2024-05-15 15:55:26.999694: I tensorflow/compiler/xla/stream_executor/cuda/cuda_gpu_executor.cc:981] could not open file to read NUMA node: /sys/bus/pci/devices/0000:01:00.0/numa_node\n",
      "Your kernel may have been built without NUMA support.\n",
      "2024-05-15 15:55:26.999811: I tensorflow/compiler/xla/stream_executor/cuda/cuda_gpu_executor.cc:981] could not open file to read NUMA node: /sys/bus/pci/devices/0000:01:00.0/numa_node\n",
      "Your kernel may have been built without NUMA support.\n",
      "2024-05-15 15:55:26.999851: I tensorflow/compiler/xla/stream_executor/cuda/cuda_gpu_executor.cc:981] could not open file to read NUMA node: /sys/bus/pci/devices/0000:01:00.0/numa_node\n",
      "Your kernel may have been built without NUMA support.\n",
      "2024-05-15 15:55:28.109578: I tensorflow/compiler/xla/stream_executor/cuda/cuda_gpu_executor.cc:981] could not open file to read NUMA node: /sys/bus/pci/devices/0000:01:00.0/numa_node\n",
      "Your kernel may have been built without NUMA support.\n",
      "2024-05-15 15:55:28.109748: I tensorflow/compiler/xla/stream_executor/cuda/cuda_gpu_executor.cc:981] could not open file to read NUMA node: /sys/bus/pci/devices/0000:01:00.0/numa_node\n",
      "Your kernel may have been built without NUMA support.\n",
      "2024-05-15 15:55:28.109809: I tensorflow/core/common_runtime/gpu/gpu_device.cc:1726] Could not identify NUMA node of platform GPU id 0, defaulting to 0.  Your kernel may not have been built with NUMA support.\n",
      "2024-05-15 15:55:28.109942: I tensorflow/compiler/xla/stream_executor/cuda/cuda_gpu_executor.cc:981] could not open file to read NUMA node: /sys/bus/pci/devices/0000:01:00.0/numa_node\n",
      "Your kernel may have been built without NUMA support.\n",
      "2024-05-15 15:55:28.110583: I tensorflow/core/common_runtime/gpu/gpu_device.cc:1639] Created device /job:localhost/replica:0/task:0/device:GPU:0 with 21770 MB memory:  -> device: 0, name: NVIDIA GeForce RTX 3090, pci bus id: 0000:01:00.0, compute capability: 8.6\n"
     ]
    }
   ],
   "execution_count": 23
  },
  {
   "cell_type": "code",
   "source": [
    "model_new_gnb.compile(loss='categorical_crossentropy', optimizer='adam', metrics=['accuracy','mse'])\n",
    "model_new_gnb.summary()"
   ],
   "metadata": {
    "collapsed": false,
    "ExecuteTime": {
     "end_time": "2024-05-15T12:55:45.401973Z",
     "start_time": "2024-05-15T12:55:45.358444Z"
    }
   },
   "outputs": [
    {
     "name": "stdout",
     "output_type": "stream",
     "text": [
      "Model: \"sequential\"\n",
      "_________________________________________________________________\n",
      " Layer (type)                Output Shape              Param #   \n",
      "=================================================================\n",
      " multi_class_naive_bayes_la  (None, 6)                 144       \n",
      " yer (MultiClassNaiveBayesL                                      \n",
      " ayer)                                                           \n",
      "                                                                 \n",
      " activation (Activation)     (None, 6)                 0         \n",
      "                                                                 \n",
      "=================================================================\n",
      "Total params: 144 (576.00 Byte)\n",
      "Trainable params: 0 (0.00 Byte)\n",
      "Non-trainable params: 144 (576.00 Byte)\n",
      "_________________________________________________________________\n"
     ]
    }
   ],
   "execution_count": 24
  },
  {
   "cell_type": "code",
   "execution_count": 29,
   "outputs": [],
   "source": [
    "x_tain_1 = []\n",
    "y_train_1 = []\n",
    "\n",
    "for x_d, y_d in train_dataset:\n",
    "    x_tain_1.append(x_d.numpy())\n",
    "    y_train_1.append((y_d.numpy()))\n",
    "\n",
    "x_train_11 = np.concatenate(x_tain_1)\n",
    "y_train_11 = np.concatenate(y_train_1)"
   ],
   "metadata": {
    "collapsed": false,
    "ExecuteTime": {
     "end_time": "2023-09-28T09:54:05.521749Z",
     "start_time": "2023-09-28T09:54:03.613843Z"
    }
   }
  },
  {
   "cell_type": "code",
   "execution_count": 30,
   "outputs": [
    {
     "data": {
      "text/plain": "(2260, 64, 64, 7)"
     },
     "execution_count": 30,
     "metadata": {},
     "output_type": "execute_result"
    }
   ],
   "source": [
    "y_train_11.shape"
   ],
   "metadata": {
    "collapsed": false,
    "ExecuteTime": {
     "end_time": "2023-09-28T09:54:05.629925600Z",
     "start_time": "2023-09-28T09:54:05.521749Z"
    }
   }
  },
  {
   "cell_type": "code",
   "execution_count": 31,
   "outputs": [],
   "source": [
    "x_train_111 = x_train_11.reshape(x_train_11.shape[0]*x_train_11.shape[1]*x_train_11.shape[2],12)\n",
    "y_train_111 = y_train_11.reshape(x_train_11.shape[0]*x_train_11.shape[1]*x_train_11.shape[2],7)"
   ],
   "metadata": {
    "collapsed": false,
    "ExecuteTime": {
     "end_time": "2023-09-28T09:54:05.659998800Z",
     "start_time": "2023-09-28T09:54:05.573258600Z"
    }
   }
  },
  {
   "cell_type": "code",
   "execution_count": 169,
   "outputs": [
    {
     "data": {
      "text/plain": "array([[[[0., 1., 0., ..., 0., 0., 0.],\n         [0., 1., 0., ..., 0., 0., 0.],\n         [0., 1., 0., ..., 0., 0., 0.],\n         ...,\n         [0., 1., 0., ..., 0., 0., 0.],\n         [0., 1., 0., ..., 0., 0., 0.],\n         [0., 1., 0., ..., 0., 0., 0.]],\n\n        [[0., 1., 0., ..., 0., 0., 0.],\n         [0., 1., 0., ..., 0., 0., 0.],\n         [0., 1., 0., ..., 0., 0., 0.],\n         ...,\n         [0., 1., 0., ..., 0., 0., 0.],\n         [0., 1., 0., ..., 0., 0., 0.],\n         [0., 1., 0., ..., 0., 0., 0.]],\n\n        [[0., 1., 0., ..., 0., 0., 0.],\n         [0., 1., 0., ..., 0., 0., 0.],\n         [0., 1., 0., ..., 0., 0., 0.],\n         ...,\n         [0., 1., 0., ..., 0., 0., 0.],\n         [0., 1., 0., ..., 0., 0., 0.],\n         [0., 1., 0., ..., 0., 0., 0.]],\n\n        ...,\n\n        [[0., 1., 0., ..., 0., 0., 0.],\n         [0., 1., 0., ..., 0., 0., 0.],\n         [0., 1., 0., ..., 0., 0., 0.],\n         ...,\n         [0., 1., 0., ..., 0., 0., 0.],\n         [0., 1., 0., ..., 0., 0., 0.],\n         [0., 1., 0., ..., 0., 0., 0.]],\n\n        [[0., 1., 0., ..., 0., 0., 0.],\n         [0., 1., 0., ..., 0., 0., 0.],\n         [0., 1., 0., ..., 0., 0., 0.],\n         ...,\n         [0., 1., 0., ..., 0., 0., 0.],\n         [0., 1., 0., ..., 0., 0., 0.],\n         [0., 1., 0., ..., 0., 0., 0.]],\n\n        [[0., 1., 0., ..., 0., 0., 0.],\n         [0., 1., 0., ..., 0., 0., 0.],\n         [0., 1., 0., ..., 0., 0., 0.],\n         ...,\n         [0., 1., 0., ..., 0., 0., 0.],\n         [0., 1., 0., ..., 0., 0., 0.],\n         [0., 1., 0., ..., 0., 0., 0.]]],\n\n\n       [[[0., 1., 0., ..., 0., 0., 0.],\n         [0., 1., 0., ..., 0., 0., 0.],\n         [0., 1., 0., ..., 0., 0., 0.],\n         ...,\n         [0., 1., 0., ..., 0., 0., 0.],\n         [0., 1., 0., ..., 0., 0., 0.],\n         [0., 1., 0., ..., 0., 0., 0.]],\n\n        [[0., 1., 0., ..., 0., 0., 0.],\n         [0., 1., 0., ..., 0., 0., 0.],\n         [0., 1., 0., ..., 0., 0., 0.],\n         ...,\n         [0., 1., 0., ..., 0., 0., 0.],\n         [0., 1., 0., ..., 0., 0., 0.],\n         [0., 1., 0., ..., 0., 0., 0.]],\n\n        [[0., 1., 0., ..., 0., 0., 0.],\n         [0., 1., 0., ..., 0., 0., 0.],\n         [0., 1., 0., ..., 0., 0., 0.],\n         ...,\n         [0., 1., 0., ..., 0., 0., 0.],\n         [0., 1., 0., ..., 0., 0., 0.],\n         [0., 1., 0., ..., 0., 0., 0.]],\n\n        ...,\n\n        [[0., 1., 0., ..., 0., 0., 0.],\n         [0., 1., 0., ..., 0., 0., 0.],\n         [0., 1., 0., ..., 0., 0., 0.],\n         ...,\n         [0., 1., 0., ..., 0., 0., 0.],\n         [0., 1., 0., ..., 0., 0., 0.],\n         [0., 1., 0., ..., 0., 0., 0.]],\n\n        [[0., 1., 0., ..., 0., 0., 0.],\n         [0., 1., 0., ..., 0., 0., 0.],\n         [0., 1., 0., ..., 0., 0., 0.],\n         ...,\n         [0., 1., 0., ..., 0., 0., 0.],\n         [0., 1., 0., ..., 0., 0., 0.],\n         [0., 1., 0., ..., 0., 0., 0.]],\n\n        [[0., 1., 0., ..., 0., 0., 0.],\n         [0., 1., 0., ..., 0., 0., 0.],\n         [0., 1., 0., ..., 0., 0., 0.],\n         ...,\n         [0., 1., 0., ..., 0., 0., 0.],\n         [0., 1., 0., ..., 0., 0., 0.],\n         [0., 1., 0., ..., 0., 0., 0.]]],\n\n\n       [[[0., 1., 0., ..., 0., 0., 0.],\n         [0., 1., 0., ..., 0., 0., 0.],\n         [0., 1., 0., ..., 0., 0., 0.],\n         ...,\n         [0., 1., 0., ..., 0., 0., 0.],\n         [0., 1., 0., ..., 0., 0., 0.],\n         [0., 1., 0., ..., 0., 0., 0.]],\n\n        [[0., 1., 0., ..., 0., 0., 0.],\n         [0., 1., 0., ..., 0., 0., 0.],\n         [0., 1., 0., ..., 0., 0., 0.],\n         ...,\n         [0., 1., 0., ..., 0., 0., 0.],\n         [0., 1., 0., ..., 0., 0., 0.],\n         [0., 1., 0., ..., 0., 0., 0.]],\n\n        [[0., 1., 0., ..., 0., 0., 0.],\n         [0., 1., 0., ..., 0., 0., 0.],\n         [0., 1., 0., ..., 0., 0., 0.],\n         ...,\n         [0., 1., 0., ..., 0., 0., 0.],\n         [0., 1., 0., ..., 0., 0., 0.],\n         [0., 1., 0., ..., 0., 0., 0.]],\n\n        ...,\n\n        [[0., 1., 0., ..., 0., 0., 0.],\n         [0., 1., 0., ..., 0., 0., 0.],\n         [0., 1., 0., ..., 0., 0., 0.],\n         ...,\n         [0., 1., 0., ..., 0., 0., 0.],\n         [0., 1., 0., ..., 0., 0., 0.],\n         [0., 1., 0., ..., 0., 0., 0.]],\n\n        [[0., 1., 0., ..., 0., 0., 0.],\n         [0., 1., 0., ..., 0., 0., 0.],\n         [0., 1., 0., ..., 0., 0., 0.],\n         ...,\n         [0., 1., 0., ..., 0., 0., 0.],\n         [0., 1., 0., ..., 0., 0., 0.],\n         [0., 1., 0., ..., 0., 0., 0.]],\n\n        [[0., 1., 0., ..., 0., 0., 0.],\n         [0., 1., 0., ..., 0., 0., 0.],\n         [0., 1., 0., ..., 0., 0., 0.],\n         ...,\n         [0., 1., 0., ..., 0., 0., 0.],\n         [0., 1., 0., ..., 0., 0., 0.],\n         [0., 1., 0., ..., 0., 0., 0.]]],\n\n\n       ...,\n\n\n       [[[0., 1., 0., ..., 0., 0., 0.],\n         [0., 1., 0., ..., 0., 0., 0.],\n         [0., 1., 0., ..., 0., 0., 0.],\n         ...,\n         [0., 1., 0., ..., 0., 0., 0.],\n         [0., 1., 0., ..., 0., 0., 0.],\n         [0., 1., 0., ..., 0., 0., 0.]],\n\n        [[0., 1., 0., ..., 0., 0., 0.],\n         [0., 1., 0., ..., 0., 0., 0.],\n         [0., 1., 0., ..., 0., 0., 0.],\n         ...,\n         [0., 1., 0., ..., 0., 0., 0.],\n         [0., 1., 0., ..., 0., 0., 0.],\n         [0., 1., 0., ..., 0., 0., 0.]],\n\n        [[0., 1., 0., ..., 0., 0., 0.],\n         [0., 1., 0., ..., 0., 0., 0.],\n         [0., 1., 0., ..., 0., 0., 0.],\n         ...,\n         [0., 1., 0., ..., 0., 0., 0.],\n         [0., 1., 0., ..., 0., 0., 0.],\n         [0., 1., 0., ..., 0., 0., 0.]],\n\n        ...,\n\n        [[0., 1., 0., ..., 0., 0., 0.],\n         [0., 1., 0., ..., 0., 0., 0.],\n         [0., 1., 0., ..., 0., 0., 0.],\n         ...,\n         [0., 1., 0., ..., 0., 0., 0.],\n         [0., 1., 0., ..., 0., 0., 0.],\n         [0., 1., 0., ..., 0., 0., 0.]],\n\n        [[0., 1., 0., ..., 0., 0., 0.],\n         [0., 1., 0., ..., 0., 0., 0.],\n         [0., 1., 0., ..., 0., 0., 0.],\n         ...,\n         [0., 1., 0., ..., 0., 0., 0.],\n         [0., 1., 0., ..., 0., 0., 0.],\n         [0., 1., 0., ..., 0., 0., 0.]],\n\n        [[0., 1., 0., ..., 0., 0., 0.],\n         [0., 1., 0., ..., 0., 0., 0.],\n         [0., 1., 0., ..., 0., 0., 0.],\n         ...,\n         [0., 1., 0., ..., 0., 0., 0.],\n         [0., 1., 0., ..., 0., 0., 0.],\n         [0., 1., 0., ..., 0., 0., 0.]]],\n\n\n       [[[0., 1., 0., ..., 0., 0., 0.],\n         [0., 1., 0., ..., 0., 0., 0.],\n         [0., 1., 0., ..., 0., 0., 0.],\n         ...,\n         [0., 1., 0., ..., 0., 0., 0.],\n         [0., 1., 0., ..., 0., 0., 0.],\n         [0., 1., 0., ..., 0., 0., 0.]],\n\n        [[0., 1., 0., ..., 0., 0., 0.],\n         [0., 1., 0., ..., 0., 0., 0.],\n         [0., 1., 0., ..., 0., 0., 0.],\n         ...,\n         [0., 1., 0., ..., 0., 0., 0.],\n         [0., 1., 0., ..., 0., 0., 0.],\n         [0., 1., 0., ..., 0., 0., 0.]],\n\n        [[0., 1., 0., ..., 0., 0., 0.],\n         [0., 1., 0., ..., 0., 0., 0.],\n         [0., 1., 0., ..., 0., 0., 0.],\n         ...,\n         [0., 1., 0., ..., 0., 0., 0.],\n         [0., 1., 0., ..., 0., 0., 0.],\n         [0., 1., 0., ..., 0., 0., 0.]],\n\n        ...,\n\n        [[0., 1., 0., ..., 0., 0., 0.],\n         [0., 1., 0., ..., 0., 0., 0.],\n         [0., 1., 0., ..., 0., 0., 0.],\n         ...,\n         [0., 1., 0., ..., 0., 0., 0.],\n         [0., 1., 0., ..., 0., 0., 0.],\n         [0., 1., 0., ..., 0., 0., 0.]],\n\n        [[0., 1., 0., ..., 0., 0., 0.],\n         [0., 1., 0., ..., 0., 0., 0.],\n         [0., 1., 0., ..., 0., 0., 0.],\n         ...,\n         [0., 1., 0., ..., 0., 0., 0.],\n         [0., 1., 0., ..., 0., 0., 0.],\n         [0., 1., 0., ..., 0., 0., 0.]],\n\n        [[0., 1., 0., ..., 0., 0., 0.],\n         [0., 1., 0., ..., 0., 0., 0.],\n         [0., 1., 0., ..., 0., 0., 0.],\n         ...,\n         [0., 1., 0., ..., 0., 0., 0.],\n         [0., 1., 0., ..., 0., 0., 0.],\n         [0., 1., 0., ..., 0., 0., 0.]]],\n\n\n       [[[0., 0., 0., ..., 0., 1., 0.],\n         [0., 0., 0., ..., 0., 1., 0.],\n         [0., 0., 0., ..., 0., 1., 0.],\n         ...,\n         [0., 0., 0., ..., 0., 1., 0.],\n         [0., 0., 0., ..., 0., 1., 0.],\n         [0., 0., 0., ..., 0., 1., 0.]],\n\n        [[0., 0., 0., ..., 0., 1., 0.],\n         [0., 0., 0., ..., 0., 1., 0.],\n         [0., 0., 0., ..., 0., 1., 0.],\n         ...,\n         [0., 0., 0., ..., 0., 1., 0.],\n         [0., 0., 0., ..., 0., 1., 0.],\n         [0., 0., 0., ..., 0., 1., 0.]],\n\n        [[0., 0., 0., ..., 0., 1., 0.],\n         [0., 0., 0., ..., 0., 1., 0.],\n         [0., 0., 0., ..., 0., 1., 0.],\n         ...,\n         [0., 0., 0., ..., 0., 1., 0.],\n         [0., 0., 0., ..., 0., 1., 0.],\n         [0., 0., 0., ..., 0., 1., 0.]],\n\n        ...,\n\n        [[0., 0., 0., ..., 0., 1., 0.],\n         [0., 0., 0., ..., 0., 1., 0.],\n         [0., 0., 0., ..., 0., 1., 0.],\n         ...,\n         [0., 0., 0., ..., 0., 1., 0.],\n         [0., 0., 0., ..., 0., 1., 0.],\n         [0., 0., 0., ..., 0., 1., 0.]],\n\n        [[0., 0., 0., ..., 0., 1., 0.],\n         [0., 0., 0., ..., 0., 1., 0.],\n         [0., 0., 0., ..., 0., 1., 0.],\n         ...,\n         [0., 0., 0., ..., 0., 1., 0.],\n         [0., 0., 0., ..., 0., 1., 0.],\n         [0., 0., 0., ..., 0., 1., 0.]],\n\n        [[0., 0., 0., ..., 0., 1., 0.],\n         [0., 0., 0., ..., 0., 1., 0.],\n         [0., 0., 0., ..., 0., 1., 0.],\n         ...,\n         [0., 0., 0., ..., 0., 1., 0.],\n         [0., 0., 0., ..., 0., 1., 0.],\n         [0., 0., 0., ..., 0., 1., 0.]]]], dtype=float32)"
     },
     "execution_count": 169,
     "metadata": {},
     "output_type": "execute_result"
    }
   ],
   "source": [
    "y_train_11"
   ],
   "metadata": {
    "collapsed": false,
    "ExecuteTime": {
     "end_time": "2023-09-24T10:16:52.036396600Z",
     "start_time": "2023-09-24T10:16:51.998443900Z"
    }
   }
  },
  {
   "cell_type": "code",
   "execution_count": 175,
   "outputs": [
    {
     "data": {
      "text/plain": "(9256960, 7)"
     },
     "execution_count": 175,
     "metadata": {},
     "output_type": "execute_result"
    }
   ],
   "source": [
    "y_train_111.shape"
   ],
   "metadata": {
    "collapsed": false,
    "ExecuteTime": {
     "end_time": "2023-09-24T10:19:45.900876200Z",
     "start_time": "2023-09-24T10:19:45.810669200Z"
    }
   }
  },
  {
   "cell_type": "code",
   "execution_count": 163,
   "outputs": [
    {
     "name": "stdout",
     "output_type": "stream",
     "text": [
      "7232/7232 [==============================] - 56s 8ms/step - loss: 1.9460 - accuracy: 0.0000e+00 - mse: 0.1224 - val_loss: 1.9459 - val_accuracy: 0.0000e+00 - val_mse: 0.1225\n"
     ]
    }
   ],
   "source": [
    "#bayes_h = model_new_gnb.fit(x_train_111, y_train_111, epochs=1,batch_size=1024, validation_split=0.2)"
   ],
   "metadata": {
    "collapsed": false,
    "ExecuteTime": {
     "end_time": "2023-09-24T10:13:53.124756800Z",
     "start_time": "2023-09-24T10:12:55.813252600Z"
    }
   }
  },
  {
   "cell_type": "code",
   "execution_count": 194,
   "outputs": [
    {
     "data": {
      "text/plain": "(9256960, 7)"
     },
     "execution_count": 194,
     "metadata": {},
     "output_type": "execute_result"
    }
   ],
   "source": [
    "y_train_111.shape"
   ],
   "metadata": {
    "collapsed": false,
    "ExecuteTime": {
     "end_time": "2023-09-24T10:37:40.279506400Z",
     "start_time": "2023-09-24T10:37:40.232114500Z"
    }
   }
  },
  {
   "cell_type": "code",
   "execution_count": 32,
   "outputs": [],
   "source": [
    "y_int_labels = np.argmax(y_train_111, axis=-1)\n",
    "y_int_labels = y_int_labels-1\n",
    "means = []\n",
    "variances = []\n",
    "\n",
    "num_classes = 6  # or however many you have\n",
    "\n",
    "for i in range(num_classes):\n",
    "    means.append(np.mean(x_train_111[y_int_labels == i], axis=0))\n",
    "    variances.append(np.var(x_train_111[y_int_labels == i], axis=0))\n",
    "\n",
    "means = np.array(means)\n",
    "variances = np.array(variances)"
   ],
   "metadata": {
    "collapsed": false,
    "ExecuteTime": {
     "end_time": "2023-09-27T20:54:23.041801600Z",
     "start_time": "2023-09-27T20:54:20.321228300Z"
    }
   }
  },
  {
   "cell_type": "code",
   "execution_count": 33,
   "outputs": [
    {
     "ename": "NameError",
     "evalue": "name 'x_ttt' is not defined",
     "output_type": "error",
     "traceback": [
      "\u001B[0;31m---------------------------------------------------------------------------\u001B[0m",
      "\u001B[0;31mNameError\u001B[0m                                 Traceback (most recent call last)",
      "Cell \u001B[0;32mIn[33], line 1\u001B[0m\n\u001B[0;32m----> 1\u001B[0m x_tttt \u001B[38;5;241m=\u001B[39m \u001B[43mx_ttt\u001B[49m\u001B[38;5;241m.\u001B[39mreshape(x_ttt\u001B[38;5;241m.\u001B[39mshape[\u001B[38;5;241m0\u001B[39m]\u001B[38;5;241m*\u001B[39mx_ttt\u001B[38;5;241m.\u001B[39mshape[\u001B[38;5;241m1\u001B[39m]\u001B[38;5;241m*\u001B[39mx_ttt\u001B[38;5;241m.\u001B[39mshape[\u001B[38;5;241m2\u001B[39m],\u001B[38;5;241m12\u001B[39m)\n",
      "\u001B[0;31mNameError\u001B[0m: name 'x_ttt' is not defined"
     ]
    }
   ],
   "source": [
    "x_tttt = x_ttt.reshape(x_ttt.shape[0]*x_ttt.shape[1]*x_ttt.shape[2],12)"
   ],
   "metadata": {
    "collapsed": false,
    "ExecuteTime": {
     "end_time": "2023-09-27T20:54:23.151767Z",
     "start_time": "2023-09-27T20:54:23.035265600Z"
    }
   }
  },
  {
   "cell_type": "code",
   "execution_count": 225,
   "outputs": [],
   "source": [
    "means[0,:] = 0"
   ],
   "metadata": {
    "collapsed": false,
    "ExecuteTime": {
     "end_time": "2023-09-24T10:51:13.523462300Z",
     "start_time": "2023-09-24T10:51:13.480892500Z"
    }
   }
  },
  {
   "cell_type": "code",
   "execution_count": 226,
   "outputs": [],
   "source": [
    "variances[0,:] = 0"
   ],
   "metadata": {
    "collapsed": false,
    "ExecuteTime": {
     "end_time": "2023-09-24T10:51:15.389102300Z",
     "start_time": "2023-09-24T10:51:15.339124800Z"
    }
   }
  },
  {
   "cell_type": "code",
   "execution_count": 246,
   "outputs": [
    {
     "data": {
      "text/plain": "array([[          nan,           nan,           nan,           nan,\n                  nan,           nan,           nan,           nan,\n                  nan,           nan,           nan,           nan],\n       [7.5072714e-04, 7.1359624e-04, 1.3902313e-03, 3.0582945e-03,\n        3.5373361e-03, 1.4280407e-03, 1.3056325e-03, 1.2161554e-03,\n        9.1588026e-04, 3.5124566e-04, 2.8814946e-04, 9.3785825e-04],\n       [1.3390444e-05, 1.6815497e-05, 2.4349943e-05, 2.9035853e-05,\n        5.9771624e-05, 3.3204668e-04, 6.1731291e-04, 7.5976737e-04,\n        5.8099267e-04, 2.6931742e-04, 9.9144927e-05, 7.7060715e-04],\n       [6.6382570e-05, 1.2958462e-04, 2.0797949e-04, 4.5792671e-04,\n        4.7978957e-04, 7.9541467e-04, 1.0104702e-03, 1.1524193e-03,\n        1.0566724e-03, 1.0603979e-03, 1.2097897e-03, 1.1417950e-03],\n       [2.3635397e-04, 5.0459383e-04, 5.1512226e-04, 6.4966630e-04,\n        4.8016667e-04, 7.2053948e-04, 9.7518112e-04, 1.3310516e-03,\n        9.1753475e-04, 1.0548948e-03, 8.7359938e-04, 1.1406080e-03],\n       [4.4157662e-04, 1.1091701e-03, 2.9202562e-03, 6.7251748e-03,\n        7.5777322e-03, 6.4148903e-03, 6.6822055e-03, 6.4525362e-03,\n        5.9128515e-03, 1.0920437e-02, 1.2780761e-02, 6.2963488e-03]],\n      dtype=float32)"
     },
     "execution_count": 246,
     "metadata": {},
     "output_type": "execute_result"
    }
   ],
   "source": [
    "variances"
   ],
   "metadata": {
    "collapsed": false,
    "ExecuteTime": {
     "end_time": "2023-09-24T10:55:55.024695300Z",
     "start_time": "2023-09-24T10:55:54.949663Z"
    }
   }
  },
  {
   "cell_type": "code",
   "execution_count": 239,
   "outputs": [
    {
     "data": {
      "text/plain": "array([[0.02915865, 0.03312196, 0.03894535, 0.03473867, 0.03876298,\n        0.02387872, 0.02318608, 0.0209069 , 0.01605026, 0.01059942,\n        0.00965033, 0.01814351],\n       [0.01150276, 0.01467091, 0.02134492, 0.01352438, 0.03531998,\n        0.10759359, 0.13688509, 0.14326456, 0.15282534, 0.07436027,\n        0.03238188, 0.15238105],\n       [0.0272764 , 0.03468506, 0.04632021, 0.05880858, 0.07405695,\n        0.09216123, 0.10208715, 0.11047029, 0.1162836 , 0.15326554,\n        0.12305496, 0.1156451 ],\n       [0.03545165, 0.04030988, 0.04910934, 0.05284545, 0.06868093,\n        0.09916554, 0.11136083, 0.11593673, 0.12217683, 0.12035356,\n        0.09544441, 0.12089972],\n       [0.09082571, 0.11970866, 0.17434332, 0.23805812, 0.26639113,\n        0.27266017, 0.28622344, 0.29023218, 0.3006949 , 0.3668648 ,\n        0.3540075 , 0.29408118],\n       [0.03951728, 0.04714312, 0.06380208, 0.07952226, 0.09414418,\n        0.10468826, 0.11244895, 0.12240051, 0.1254742 , 0.20080724,\n        0.16093574, 0.12367606]], dtype=float32)"
     },
     "execution_count": 239,
     "metadata": {},
     "output_type": "execute_result"
    }
   ],
   "source": [
    "means"
   ],
   "metadata": {
    "collapsed": false,
    "ExecuteTime": {
     "end_time": "2023-09-24T10:53:22.021224500Z",
     "start_time": "2023-09-24T10:53:21.953632400Z"
    }
   }
  },
  {
   "cell_type": "code",
   "execution_count": 197,
   "outputs": [
    {
     "data": {
      "text/plain": "[<layers.naive_bayes.MultiClassNaiveBayesLayer at 0x7fb7161a3050>,\n <keras.src.layers.core.activation.Activation at 0x7fb6d8f8e550>]"
     },
     "execution_count": 197,
     "metadata": {},
     "output_type": "execute_result"
    }
   ],
   "source": [
    "model_new_gnb.layers"
   ],
   "metadata": {
    "collapsed": false,
    "ExecuteTime": {
     "end_time": "2023-09-24T10:38:52.152184100Z",
     "start_time": "2023-09-24T10:38:52.090895500Z"
    }
   }
  },
  {
   "cell_type": "code",
   "execution_count": 36,
   "outputs": [],
   "source": [
    "model_new_gnb.layers[0].set_weights([means, variances])"
   ],
   "metadata": {
    "collapsed": false,
    "ExecuteTime": {
     "end_time": "2023-09-25T18:58:20.488784Z",
     "start_time": "2023-09-25T18:58:20.449871700Z"
    }
   }
  },
  {
   "cell_type": "code",
   "execution_count": 261,
   "outputs": [],
   "source": "#model_new_gnb.save(\"model_gnb.keras\")",
   "metadata": {
    "collapsed": false,
    "ExecuteTime": {
     "end_time": "2023-09-24T11:04:14.683760400Z",
     "start_time": "2023-09-24T11:04:14.624153600Z"
    }
   }
  },
  {
   "cell_type": "code",
   "execution_count": 32,
   "outputs": [],
   "source": [
    "x_tests = []\n",
    "y_tests = []\n",
    "\n",
    "for xtest, ytest in test_dataset:\n",
    "    x_tests.append(xtest.numpy())\n",
    "    y_tests.append(ytest.numpy())"
   ],
   "metadata": {
    "collapsed": false,
    "ExecuteTime": {
     "end_time": "2023-09-28T09:54:27.360436400Z",
     "start_time": "2023-09-28T09:54:24.923910500Z"
    }
   }
  },
  {
   "cell_type": "code",
   "execution_count": 33,
   "outputs": [],
   "source": [
    "x_tests_1 = np.concatenate(x_tests)\n",
    "y_tests_1 = np.concatenate(y_tests)"
   ],
   "metadata": {
    "collapsed": false,
    "ExecuteTime": {
     "end_time": "2023-09-28T09:54:27.380537600Z",
     "start_time": "2023-09-28T09:54:27.362947800Z"
    }
   }
  },
  {
   "cell_type": "code",
   "execution_count": 458,
   "outputs": [
    {
     "data": {
      "text/plain": "(18048, 64, 12)"
     },
     "execution_count": 458,
     "metadata": {},
     "output_type": "execute_result"
    }
   ],
   "source": [
    "x_tests_1.shape"
   ],
   "metadata": {
    "collapsed": false,
    "ExecuteTime": {
     "end_time": "2023-09-28T19:11:48.100377200Z",
     "start_time": "2023-09-28T19:11:47.927079100Z"
    }
   }
  },
  {
   "cell_type": "code",
   "execution_count": 44,
   "outputs": [
    {
     "name": "stdout",
     "output_type": "stream",
     "text": [
      "4520/4520 [==============================] - 18s 4ms/step\n"
     ]
    }
   ],
   "source": [
    "nb_pred_res = model_new_gnb.predict(x_tttt, batch_size=2048)"
   ],
   "metadata": {
    "collapsed": false,
    "ExecuteTime": {
     "end_time": "2023-09-25T19:02:45.412994Z",
     "start_time": "2023-09-25T19:02:20.529735400Z"
    }
   }
  },
  {
   "cell_type": "code",
   "execution_count": 46,
   "outputs": [
    {
     "data": {
      "text/plain": "(18048, 64, 7)"
     },
     "execution_count": 46,
     "metadata": {},
     "output_type": "execute_result"
    }
   ],
   "source": [
    "y_tests_1.shape"
   ],
   "metadata": {
    "collapsed": false,
    "ExecuteTime": {
     "end_time": "2023-09-25T19:03:54.059216500Z",
     "start_time": "2023-09-25T19:03:53.976007200Z"
    }
   }
  },
  {
   "cell_type": "code",
   "execution_count": 34,
   "outputs": [],
   "source": [
    "x_tests_1_vector = x_tests_1.reshape(x_tests_1.shape[0]*x_tests_1.shape[1],12)"
   ],
   "metadata": {
    "collapsed": false,
    "ExecuteTime": {
     "end_time": "2023-09-28T09:54:31.280265200Z",
     "start_time": "2023-09-28T09:54:31.071994100Z"
    }
   }
  },
  {
   "cell_type": "code",
   "execution_count": 35,
   "outputs": [],
   "source": [
    "y_tests_1_vector = y_tests_1.reshape(x_tests_1.shape[0]*x_tests_1.shape[1],7)"
   ],
   "metadata": {
    "collapsed": false,
    "ExecuteTime": {
     "end_time": "2023-09-28T09:54:31.364110400Z",
     "start_time": "2023-09-28T09:54:31.219356Z"
    }
   }
  },
  {
   "cell_type": "code",
   "execution_count": 36,
   "outputs": [],
   "source": [
    "from sklearn.metrics import accuracy_score, classification_report, roc_curve, auc, precision_recall_curve, precision_score, average_precision_score"
   ],
   "metadata": {
    "collapsed": false,
    "ExecuteTime": {
     "end_time": "2023-09-28T09:54:33.004216200Z",
     "start_time": "2023-09-28T09:54:32.040845800Z"
    }
   }
  },
  {
   "cell_type": "code",
   "execution_count": 50,
   "outputs": [
    {
     "name": "stdout",
     "output_type": "stream",
     "text": [
      "564/564 [==============================] - 2s 4ms/step\n"
     ]
    }
   ],
   "source": [
    "nb_pred_res_core = model_new_gnb.predict(x_tests_1_vector, batch_size=2048)"
   ],
   "metadata": {
    "collapsed": false,
    "ExecuteTime": {
     "end_time": "2023-09-25T19:05:14.917363700Z",
     "start_time": "2023-09-25T19:05:12.177532700Z"
    }
   }
  },
  {
   "cell_type": "code",
   "execution_count": 51,
   "outputs": [],
   "source": [
    "nb_pred_res_core_categoriesed = tf.argmax(nb_pred_res_core,axis=-1).numpy()"
   ],
   "metadata": {
    "collapsed": false,
    "ExecuteTime": {
     "end_time": "2023-09-25T19:07:29.510636500Z",
     "start_time": "2023-09-25T19:07:29.455265Z"
    }
   }
  },
  {
   "cell_type": "code",
   "execution_count": 37,
   "outputs": [],
   "source": [
    "y_tests_1_vector_categories = np.argmax(y_tests_1_vector, axis=-1)"
   ],
   "metadata": {
    "collapsed": false,
    "ExecuteTime": {
     "end_time": "2023-09-28T09:54:36.746603700Z",
     "start_time": "2023-09-28T09:54:36.611603900Z"
    }
   }
  },
  {
   "cell_type": "code",
   "execution_count": 38,
   "outputs": [],
   "source": [
    "y_tests_1_vector_categories = y_tests_1_vector_categories -1"
   ],
   "metadata": {
    "collapsed": false,
    "ExecuteTime": {
     "end_time": "2023-09-28T09:54:37.180911800Z",
     "start_time": "2023-09-28T09:54:37.119384100Z"
    }
   }
  },
  {
   "cell_type": "code",
   "execution_count": 69,
   "outputs": [
    {
     "name": "stdout",
     "output_type": "stream",
     "text": [
      "Length of category 0 for real test dataset: 356352\n",
      "Length of category 1 for real test dataset: 167936\n",
      "Length of category 2 for real test dataset: 344064\n",
      "Length of category 3 for real test dataset: 114688\n",
      "Length of category 4 for real test dataset: 167936\n",
      "Length of category 5 for real test dataset: 4096\n"
     ]
    }
   ],
   "source": [
    "dataset_values = []\n",
    "\n",
    "for i in range(0,6):\n",
    "    ll = len(y_tests_1_vector_categories[y_tests_1_vector_categories == i])\n",
    "    print(f\"Length of category {i} for real test dataset: {ll}\")\n",
    "    dataset_values.append(ll)"
   ],
   "metadata": {
    "collapsed": false,
    "ExecuteTime": {
     "end_time": "2023-09-25T19:36:49.973233900Z",
     "start_time": "2023-09-25T19:36:49.891283700Z"
    }
   }
  },
  {
   "cell_type": "code",
   "execution_count": 57,
   "outputs": [
    {
     "data": {
      "text/plain": "0.7930735053745568"
     },
     "execution_count": 57,
     "metadata": {},
     "output_type": "execute_result"
    }
   ],
   "source": [
    "accuracy_score(nb_pred_res_core_categoriesed.flatten(), y_tests_1_vector_categories.flatten())"
   ],
   "metadata": {
    "collapsed": false,
    "ExecuteTime": {
     "end_time": "2023-09-25T19:09:14.101332300Z",
     "start_time": "2023-09-25T19:09:13.989197600Z"
    }
   }
  },
  {
   "cell_type": "markdown",
   "source": [],
   "metadata": {
    "collapsed": false
   }
  },
  {
   "cell_type": "code",
   "execution_count": 70,
   "outputs": [
    {
     "name": "stdout",
     "output_type": "stream",
     "text": [
      "Length of category 0 for nb prediction: 315187\n",
      "Length of category 1 for nb prediction: 169280\n",
      "Length of category 2 for nb prediction: 262001\n",
      "Length of category 3 for nb prediction: 171641\n",
      "Length of category 4 for nb prediction: 156886\n",
      "Length of category 5 for nb prediction: 80077\n"
     ]
    }
   ],
   "source": [
    "gnb_values = []\n",
    "\n",
    "for i in range(0,6):\n",
    "    ll = len(nb_pred_res_core_categoriesed[nb_pred_res_core_categoriesed == i])\n",
    "    print(f\"Length of category {i} for nb prediction: {ll}\")\n",
    "    gnb_values.append(len(nb_pred_res_core_categoriesed[nb_pred_res_core_categoriesed == i]))"
   ],
   "metadata": {
    "collapsed": false,
    "ExecuteTime": {
     "end_time": "2023-09-25T19:37:59.315591900Z",
     "start_time": "2023-09-25T19:37:59.225185200Z"
    }
   }
  },
  {
   "cell_type": "code",
   "execution_count": 72,
   "outputs": [],
   "source": [
    "categories_values = []\n",
    "\n",
    "for categorie, num in categories_map.items():\n",
    "    categories_values.append(categorie)"
   ],
   "metadata": {
    "collapsed": false,
    "ExecuteTime": {
     "end_time": "2023-09-25T19:38:11.379474Z",
     "start_time": "2023-09-25T19:38:11.331273100Z"
    }
   }
  },
  {
   "cell_type": "code",
   "execution_count": 73,
   "outputs": [
    {
     "data": {
      "text/plain": "['water', 'forest', 'fields', 'city', 'sands', 'mountains']"
     },
     "execution_count": 73,
     "metadata": {},
     "output_type": "execute_result"
    }
   ],
   "source": [
    "categories_values"
   ],
   "metadata": {
    "collapsed": false,
    "ExecuteTime": {
     "end_time": "2023-09-25T19:38:17.482121Z",
     "start_time": "2023-09-25T19:38:17.285305500Z"
    }
   }
  },
  {
   "cell_type": "code",
   "execution_count": 58,
   "outputs": [
    {
     "data": {
      "text/plain": "'              precision    recall  f1-score   support\\n\\n           0       0.87      0.99      0.93    315187\\n           1       0.94      0.94      0.94    169280\\n           2       0.64      0.84      0.73    262001\\n           3       0.63      0.42      0.50    171641\\n           4       0.89      0.96      0.92    156886\\n           5       0.86      0.04      0.08     80077\\n\\n    accuracy                           0.79   1155072\\n   macro avg       0.81      0.70      0.68   1155072\\nweighted avg       0.80      0.79      0.76   1155072\\n'"
     },
     "execution_count": 58,
     "metadata": {},
     "output_type": "execute_result"
    }
   ],
   "source": [
    "classification_report(nb_pred_res_core_categoriesed.flatten(), y_tests_1_vector_categories.flatten())"
   ],
   "metadata": {
    "collapsed": false,
    "ExecuteTime": {
     "end_time": "2023-09-25T19:09:29.050793700Z",
     "start_time": "2023-09-25T19:09:28.071645600Z"
    }
   }
  },
  {
   "cell_type": "code",
   "execution_count": 64,
   "outputs": [
    {
     "data": {
      "text/plain": "<Figure size 640x480 with 1 Axes>",
      "image/png": "[encoded data removed]"
     },
     "metadata": {},
     "output_type": "display_data"
    }
   ],
   "source": [
    "import matplotlib.pyplot as plt\n",
    "\n",
    "plt.hist(nb_pred_res_core[:, 1], bins=50, edgecolor='k')\n",
    "plt.title('Histogram of predicted probabilities for class 1')\n",
    "plt.xlabel('Probability')\n",
    "plt.ylabel('Frequency')\n",
    "plt.show()"
   ],
   "metadata": {
    "collapsed": false,
    "ExecuteTime": {
     "end_time": "2023-09-25T19:25:48.010970Z",
     "start_time": "2023-09-25T19:25:46.346881400Z"
    }
   }
  },
  {
   "cell_type": "code",
   "execution_count": 65,
   "outputs": [],
   "source": [
    "import dataset_tool.graph_utils"
   ],
   "metadata": {
    "collapsed": false,
    "ExecuteTime": {
     "end_time": "2023-09-25T19:27:26.810166900Z",
     "start_time": "2023-09-25T19:27:26.721430200Z"
    }
   }
  },
  {
   "cell_type": "code",
   "execution_count": 67,
   "outputs": [],
   "source": [
    "nb_hist_data = nb_pred_res_core + 1"
   ],
   "metadata": {
    "collapsed": false,
    "ExecuteTime": {
     "end_time": "2023-09-25T19:30:29.504619300Z",
     "start_time": "2023-09-25T19:30:29.427572500Z"
    }
   }
  },
  {
   "cell_type": "markdown",
   "source": [],
   "metadata": {
    "collapsed": false
   }
  },
  {
   "cell_type": "code",
   "execution_count": 123,
   "outputs": [
    {
     "data": {
      "text/plain": "<Figure size 640x480 with 6 Axes>",
      "image/png": "[encoded data removed]"
     },
     "metadata": {},
     "output_type": "display_data"
    }
   ],
   "source": [
    "dataset_tool.graph_utils.createHistGraph(nb_pred_res_core, categories_map)"
   ],
   "metadata": {
    "collapsed": false,
    "ExecuteTime": {
     "end_time": "2023-09-25T20:23:14.388055300Z",
     "start_time": "2023-09-25T20:23:13.756961400Z"
    }
   }
  },
  {
   "cell_type": "code",
   "execution_count": 75,
   "outputs": [
    {
     "data": {
      "text/plain": "<matplotlib.legend.Legend at 0x7f6b0c27e0d0>"
     },
     "execution_count": 75,
     "metadata": {},
     "output_type": "execute_result"
    },
    {
     "data": {
      "text/plain": "<Figure size 640x480 with 1 Axes>",
      "image/png": "[encoded data removed]"
     },
     "metadata": {},
     "output_type": "display_data"
    }
   ],
   "source": [
    "x = np.arange(len(categories_values))  # the label locations\n",
    "width = 0.35  # the width of the bars\n",
    "\n",
    "fig, ax = plt.subplots()\n",
    "rects1 = ax.bar(x - width/2, dataset_values, width, label='Dataset values')\n",
    "rects2 = ax.bar(x + width/2, gnb_values, width, label='NB values')\n",
    "\n",
    "# Add some text for labels, title and custom x-axis tick labels, etc.\n",
    "ax.set_ylabel('Number of points')\n",
    "ax.set_title('Classification result compare')\n",
    "ax.set_xticks(x)\n",
    "ax.set_xticklabels(categories_values)\n",
    "ax.legend()"
   ],
   "metadata": {
    "collapsed": false,
    "ExecuteTime": {
     "end_time": "2023-09-25T19:41:29.579366400Z",
     "start_time": "2023-09-25T19:41:29.384492800Z"
    }
   }
  },
  {
   "cell_type": "code",
   "execution_count": 59,
   "outputs": [
    {
     "ename": "ValueError",
     "evalue": "Data cardinality is ambiguous:\n  x sizes: 1155072\n  y sizes: 18048\nMake sure all arrays contain the same number of samples.",
     "output_type": "error",
     "traceback": [
      "\u001B[0;31m---------------------------------------------------------------------------\u001B[0m",
      "\u001B[0;31mValueError\u001B[0m                                Traceback (most recent call last)",
      "Cell \u001B[0;32mIn[59], line 1\u001B[0m\n\u001B[0;32m----> 1\u001B[0m gnb_eval \u001B[38;5;241m=\u001B[39m \u001B[43mmodel_new_gnb\u001B[49m\u001B[38;5;241;43m.\u001B[39;49m\u001B[43mevaluate\u001B[49m\u001B[43m(\u001B[49m\u001B[43mnb_pred_res_core\u001B[49m\u001B[43m,\u001B[49m\u001B[43m \u001B[49m\u001B[43my_tests_1\u001B[49m\u001B[43m)\u001B[49m\n",
      "File \u001B[0;32m~/miniconda3/envs/segmentation-new/lib/python3.11/site-packages/keras/src/utils/traceback_utils.py:70\u001B[0m, in \u001B[0;36mfilter_traceback.<locals>.error_handler\u001B[0;34m(*args, **kwargs)\u001B[0m\n\u001B[1;32m     67\u001B[0m     filtered_tb \u001B[38;5;241m=\u001B[39m _process_traceback_frames(e\u001B[38;5;241m.\u001B[39m__traceback__)\n\u001B[1;32m     68\u001B[0m     \u001B[38;5;66;03m# To get the full stack trace, call:\u001B[39;00m\n\u001B[1;32m     69\u001B[0m     \u001B[38;5;66;03m# `tf.debugging.disable_traceback_filtering()`\u001B[39;00m\n\u001B[0;32m---> 70\u001B[0m     \u001B[38;5;28;01mraise\u001B[39;00m e\u001B[38;5;241m.\u001B[39mwith_traceback(filtered_tb) \u001B[38;5;28;01mfrom\u001B[39;00m \u001B[38;5;28;01mNone\u001B[39;00m\n\u001B[1;32m     71\u001B[0m \u001B[38;5;28;01mfinally\u001B[39;00m:\n\u001B[1;32m     72\u001B[0m     \u001B[38;5;28;01mdel\u001B[39;00m filtered_tb\n",
      "File \u001B[0;32m~/miniconda3/envs/segmentation-new/lib/python3.11/site-packages/keras/src/engine/data_adapter.py:1950\u001B[0m, in \u001B[0;36m_check_data_cardinality\u001B[0;34m(data)\u001B[0m\n\u001B[1;32m   1943\u001B[0m     msg \u001B[38;5;241m+\u001B[39m\u001B[38;5;241m=\u001B[39m \u001B[38;5;124m\"\u001B[39m\u001B[38;5;124m  \u001B[39m\u001B[38;5;132;01m{}\u001B[39;00m\u001B[38;5;124m sizes: \u001B[39m\u001B[38;5;132;01m{}\u001B[39;00m\u001B[38;5;130;01m\\n\u001B[39;00m\u001B[38;5;124m\"\u001B[39m\u001B[38;5;241m.\u001B[39mformat(\n\u001B[1;32m   1944\u001B[0m         label,\n\u001B[1;32m   1945\u001B[0m         \u001B[38;5;124m\"\u001B[39m\u001B[38;5;124m, \u001B[39m\u001B[38;5;124m\"\u001B[39m\u001B[38;5;241m.\u001B[39mjoin(\n\u001B[1;32m   1946\u001B[0m             \u001B[38;5;28mstr\u001B[39m(i\u001B[38;5;241m.\u001B[39mshape[\u001B[38;5;241m0\u001B[39m]) \u001B[38;5;28;01mfor\u001B[39;00m i \u001B[38;5;129;01min\u001B[39;00m tf\u001B[38;5;241m.\u001B[39mnest\u001B[38;5;241m.\u001B[39mflatten(single_data)\n\u001B[1;32m   1947\u001B[0m         ),\n\u001B[1;32m   1948\u001B[0m     )\n\u001B[1;32m   1949\u001B[0m msg \u001B[38;5;241m+\u001B[39m\u001B[38;5;241m=\u001B[39m \u001B[38;5;124m\"\u001B[39m\u001B[38;5;124mMake sure all arrays contain the same number of samples.\u001B[39m\u001B[38;5;124m\"\u001B[39m\n\u001B[0;32m-> 1950\u001B[0m \u001B[38;5;28;01mraise\u001B[39;00m \u001B[38;5;167;01mValueError\u001B[39;00m(msg)\n",
      "\u001B[0;31mValueError\u001B[0m: Data cardinality is ambiguous:\n  x sizes: 1155072\n  y sizes: 18048\nMake sure all arrays contain the same number of samples."
     ]
    }
   ],
   "source": [
    "gnb_eval = model_new_gnb.evaluate(nb_pred_res_core, y_tests_1)"
   ],
   "metadata": {
    "collapsed": false,
    "ExecuteTime": {
     "end_time": "2023-09-25T19:10:50.385818100Z",
     "start_time": "2023-09-25T19:10:50.204094800Z"
    }
   }
  },
  {
   "cell_type": "code",
   "execution_count": 125,
   "outputs": [
    {
     "name": "stderr",
     "output_type": "stream",
     "text": [
      "/home/andrew/miniconda3/envs/segmentation-new/lib/python3.11/site-packages/sklearn/metrics/_ranking.py:1132: UndefinedMetricWarning: No positive samples in y_true, true positive value should be meaningless\n",
      "  warnings.warn(\n"
     ]
    },
    {
     "data": {
      "text/plain": "<Figure size 640x480 with 1 Axes>",
      "image/png": "[encoded data removed]"
     },
     "metadata": {},
     "output_type": "display_data"
    }
   ],
   "source": [
    "n_classes = nb_pred_res_core.shape[1]\n",
    "\n",
    "# Для ROC\n",
    "plt.figure()\n",
    "for i in range(n_classes):\n",
    "    fpr, tpr, _ = roc_curve(y_tests_1_vector[:, i], nb_pred_res_core[:, i])\n",
    "    roc_auc = auc(fpr, tpr)\n",
    "    plt.plot(fpr, tpr, label=f'ROC curve of class {i} (area = {roc_auc:.2f})')\n",
    "\n",
    "plt.plot([0, 1], [0, 1], 'k--')\n",
    "plt.xlabel('False Positive Rate')\n",
    "plt.ylabel('True Positive Rate')\n",
    "plt.title('Receiver Operating Characteristic (ROC) Curve')\n",
    "plt.legend(loc=\"lower right\")\n",
    "plt.show()"
   ],
   "metadata": {
    "collapsed": false,
    "ExecuteTime": {
     "end_time": "2023-09-25T20:37:53.238062600Z",
     "start_time": "2023-09-25T20:37:52.367403900Z"
    }
   }
  },
  {
   "cell_type": "code",
   "execution_count": 127,
   "outputs": [
    {
     "name": "stderr",
     "output_type": "stream",
     "text": [
      "/home/andrew/miniconda3/envs/segmentation-new/lib/python3.11/site-packages/sklearn/metrics/_ranking.py:979: UserWarning: No positive class found in y_true, recall is set to one for all thresholds.\n",
      "  warnings.warn(\n",
      "/home/andrew/miniconda3/envs/segmentation-new/lib/python3.11/site-packages/sklearn/metrics/_ranking.py:979: UserWarning: No positive class found in y_true, recall is set to one for all thresholds.\n",
      "  warnings.warn(\n"
     ]
    },
    {
     "data": {
      "text/plain": "<Figure size 640x480 with 1 Axes>",
      "image/png": "[encoded data removed]"
     },
     "metadata": {},
     "output_type": "display_data"
    }
   ],
   "source": [
    "# Для Precision-Recall\n",
    "plt.figure()\n",
    "for i in range(n_classes):\n",
    "    precision, recall, _ = precision_recall_curve(y_tests_1_vector[:, i], nb_pred_res_core[:, i])\n",
    "    average_precision = average_precision_score(y_tests_1_vector[:, i], nb_pred_res_core[:, i])\n",
    "    plt.plot(recall, precision, label=f'Precision-Recall curve of class {i} (area = {average_precision:.2f})')\n",
    "\n",
    "plt.xlabel('Recall')\n",
    "plt.ylabel('Precision')\n",
    "plt.title('Precision-Recall Curve')\n",
    "plt.legend(loc=\"upper right\")\n",
    "plt.show()"
   ],
   "metadata": {
    "collapsed": false,
    "ExecuteTime": {
     "end_time": "2023-09-25T20:40:15.438185600Z",
     "start_time": "2023-09-25T20:40:13.843743Z"
    }
   }
  },
  {
   "cell_type": "code",
   "execution_count": 241,
   "outputs": [],
   "source": [
    "nb_pres_res_1 = tf.argmax(nb_pred_res,axis=-1).numpy()"
   ],
   "metadata": {
    "collapsed": false,
    "ExecuteTime": {
     "end_time": "2023-09-24T10:53:59.354346Z",
     "start_time": "2023-09-24T10:53:59.034797200Z"
    }
   }
  },
  {
   "cell_type": "code",
   "execution_count": 242,
   "outputs": [
    {
     "data": {
      "text/plain": "5"
     },
     "execution_count": 242,
     "metadata": {},
     "output_type": "execute_result"
    }
   ],
   "source": [
    "nb_pres_res_1.max()"
   ],
   "metadata": {
    "collapsed": false,
    "ExecuteTime": {
     "end_time": "2023-09-24T10:53:59.440689200Z",
     "start_time": "2023-09-24T10:53:59.368403Z"
    }
   }
  },
  {
   "cell_type": "code",
   "execution_count": 248,
   "outputs": [],
   "source": [
    "y_testtt = y_tttt - 1"
   ],
   "metadata": {
    "collapsed": false,
    "ExecuteTime": {
     "end_time": "2023-09-24T10:56:21.958946900Z",
     "start_time": "2023-09-24T10:56:21.896853300Z"
    }
   }
  },
  {
   "cell_type": "code",
   "execution_count": 244,
   "outputs": [
    {
     "data": {
      "text/plain": "(9256960,)"
     },
     "execution_count": 244,
     "metadata": {},
     "output_type": "execute_result"
    }
   ],
   "source": [
    "y_tttt.shape"
   ],
   "metadata": {
    "collapsed": false,
    "ExecuteTime": {
     "end_time": "2023-09-24T10:54:02.175903100Z",
     "start_time": "2023-09-24T10:54:02.134712800Z"
    }
   }
  },
  {
   "cell_type": "code",
   "execution_count": 250,
   "outputs": [
    {
     "data": {
      "text/plain": "(12, 638, 1094)"
     },
     "execution_count": 250,
     "metadata": {},
     "output_type": "execute_result"
    }
   ],
   "source": [
    "test_imgs_array.shape"
   ],
   "metadata": {
    "collapsed": false,
    "ExecuteTime": {
     "end_time": "2023-09-24T10:58:02.555617300Z",
     "start_time": "2023-09-24T10:58:02.477177800Z"
    }
   }
  },
  {
   "cell_type": "code",
   "execution_count": 61,
   "outputs": [],
   "source": [
    "test_arr_nb = test_imgs_array/x_data_cubes.max()"
   ],
   "metadata": {
    "collapsed": false,
    "ExecuteTime": {
     "end_time": "2023-09-28T09:56:46.596701700Z",
     "start_time": "2023-09-28T09:56:44.591213Z"
    }
   }
  },
  {
   "cell_type": "code",
   "execution_count": 62,
   "outputs": [],
   "source": [
    "test_arr_nb = np.moveaxis(test_arr_nb, 0, 2)"
   ],
   "metadata": {
    "collapsed": false,
    "ExecuteTime": {
     "end_time": "2023-09-28T09:56:46.603497Z",
     "start_time": "2023-09-28T09:56:46.598988300Z"
    }
   }
  },
  {
   "cell_type": "code",
   "execution_count": 63,
   "outputs": [
    {
     "data": {
      "text/plain": "(733, 1250, 12)"
     },
     "execution_count": 63,
     "metadata": {},
     "output_type": "execute_result"
    }
   ],
   "source": [
    "test_arr_nb.shape"
   ],
   "metadata": {
    "collapsed": false,
    "ExecuteTime": {
     "end_time": "2023-09-28T09:56:47.750500800Z",
     "start_time": "2023-09-28T09:56:47.684766100Z"
    }
   }
  },
  {
   "cell_type": "code",
   "execution_count": 64,
   "outputs": [],
   "source": [
    "test_arr_to_pred = test_arr_nb.reshape(test_arr_nb.shape[0]*test_arr_nb.shape[1],12)"
   ],
   "metadata": {
    "collapsed": false,
    "ExecuteTime": {
     "end_time": "2023-09-28T09:56:48.218318100Z",
     "start_time": "2023-09-28T09:56:48.152676200Z"
    }
   }
  },
  {
   "cell_type": "code",
   "execution_count": 82,
   "outputs": [
    {
     "name": "stdout",
     "output_type": "stream",
     "text": [
      "448/448 [==============================] - 2s 4ms/step\n"
     ]
    }
   ],
   "source": [
    "test_arr_nb_pred_res = model_new_gnb.predict(test_arr_to_pred,batch_size=2048)"
   ],
   "metadata": {
    "collapsed": false,
    "ExecuteTime": {
     "end_time": "2023-09-25T19:43:30.835119600Z",
     "start_time": "2023-09-25T19:43:26.604741800Z"
    }
   }
  },
  {
   "cell_type": "code",
   "execution_count": 83,
   "outputs": [],
   "source": [
    "test_arr_nb_pred = tf.argmax(test_arr_nb_pred_res, axis=-1)"
   ],
   "metadata": {
    "collapsed": false,
    "ExecuteTime": {
     "end_time": "2023-09-25T19:43:43.132568500Z",
     "start_time": "2023-09-25T19:43:43.065662200Z"
    }
   }
  },
  {
   "cell_type": "code",
   "execution_count": 100,
   "outputs": [],
   "source": [
    "test_arr_nb_pred_ss = test_arr_nb_pred.numpy().reshape(733,1250)"
   ],
   "metadata": {
    "collapsed": false,
    "ExecuteTime": {
     "end_time": "2023-09-25T19:59:23.042456700Z",
     "start_time": "2023-09-25T19:59:22.997428100Z"
    }
   }
  },
  {
   "cell_type": "code",
   "execution_count": 102,
   "outputs": [
    {
     "data": {
      "text/plain": "5"
     },
     "execution_count": 102,
     "metadata": {},
     "output_type": "execute_result"
    }
   ],
   "source": [
    "test_arr_nb_pred_ss.max()"
   ],
   "metadata": {
    "collapsed": false,
    "ExecuteTime": {
     "end_time": "2023-09-25T19:59:36.336135600Z",
     "start_time": "2023-09-25T19:59:36.208290800Z"
    }
   }
  },
  {
   "cell_type": "code",
   "execution_count": 103,
   "outputs": [],
   "source": [
    "test_arr_nb_pred_ss = test_arr_nb_pred_ss + 1"
   ],
   "metadata": {
    "collapsed": false,
    "ExecuteTime": {
     "end_time": "2023-09-25T19:59:38.448752Z",
     "start_time": "2023-09-25T19:59:38.326359500Z"
    }
   }
  },
  {
   "cell_type": "code",
   "execution_count": 104,
   "outputs": [],
   "source": [
    "test_arr_nb_pred_ss [test_arr_nb_pred_ss == 6] = 3"
   ],
   "metadata": {
    "collapsed": false,
    "ExecuteTime": {
     "end_time": "2023-09-25T19:59:39.245838700Z",
     "start_time": "2023-09-25T19:59:39.198334400Z"
    }
   }
  },
  {
   "cell_type": "code",
   "execution_count": 89,
   "outputs": [],
   "source": [
    "categoreis_map_inverted = {v: k for k, v in categories_map.items()}"
   ],
   "metadata": {
    "collapsed": false,
    "ExecuteTime": {
     "end_time": "2023-09-25T19:47:21.428145700Z",
     "start_time": "2023-09-25T19:47:21.370917100Z"
    }
   }
  },
  {
   "cell_type": "code",
   "execution_count": 107,
   "outputs": [
    {
     "data": {
      "text/plain": "1"
     },
     "execution_count": 107,
     "metadata": {},
     "output_type": "execute_result"
    }
   ],
   "source": [
    "test_arr_nb_pred_ss.min()"
   ],
   "metadata": {
    "collapsed": false,
    "ExecuteTime": {
     "end_time": "2023-09-25T20:01:30.825488800Z",
     "start_time": "2023-09-25T20:01:30.741144500Z"
    }
   }
  },
  {
   "cell_type": "code",
   "execution_count": 108,
   "outputs": [
    {
     "data": {
      "text/plain": "dict_keys([1, 2, 3, 4, 5, 6])"
     },
     "execution_count": 108,
     "metadata": {},
     "output_type": "execute_result"
    }
   ],
   "source": [
    "categoreis_map_inverted.keys()"
   ],
   "metadata": {
    "collapsed": false,
    "ExecuteTime": {
     "end_time": "2023-09-25T20:02:04.812209Z",
     "start_time": "2023-09-25T20:02:04.719723600Z"
    }
   }
  },
  {
   "cell_type": "code",
   "execution_count": 122,
   "outputs": [
    {
     "data": {
      "text/plain": "<Figure size 640x480 with 1 Axes>",
      "image/png": "[encoded data removed]"
     },
     "metadata": {},
     "output_type": "display_data"
    }
   ],
   "source": [
    "from matplotlib.colors import ListedColormap\n",
    "import earthpy.plot as ep\n",
    "\n",
    "# im = ep.plot_bands(test_arr_nb_pred_ss,\n",
    "#                    vmin=1, vmax=6,\n",
    "#               cmap=ListedColormap(['green', 'purple', 'orange', 'blue', 'yellow','red']))\n",
    "#ep.make_col_list()\n",
    "im = plt.imshow(test_arr_nb_pred_ss,\n",
    "           vmin=1,vmax=6,\n",
    "               cmap=ListedColormap(['blue', 'green', 'orange', 'grey', 'yellow','brown']))\n",
    "ep.draw_legend(im_ax = im, titles = [\"water\",\"forest\",\"fields\",\"city\",\"sands\"])\n",
    "# leg_neg = ep.draw_legend(im_ax = im, titles = categoreis_map_inverted.values())\n",
    "#plt.show()\n",
    "#im.legend(list(categoreis_map_inverted.values()))\n",
    "# cbar = plt.colorbar(fraction=0.046, pad=0.04)\n",
    "# #\n",
    "# cbar.set_ticks(list(categoreis_map_inverted.keys()))\n",
    "# cbar.set_ticklabels(list(categoreis_map_inverted.values()))\n",
    "\n",
    "plt.show()"
   ],
   "metadata": {
    "collapsed": false,
    "ExecuteTime": {
     "end_time": "2023-09-25T20:16:50.228543200Z",
     "start_time": "2023-09-25T20:16:50.050655900Z"
    }
   }
  },
  {
   "cell_type": "code",
   "execution_count": 262,
   "outputs": [
    {
     "data": {
      "text/plain": "{'water': 1, 'forest': 2, 'fields': 3, 'city': 4, 'sands': 5, 'mountains': 6}"
     },
     "execution_count": 262,
     "metadata": {},
     "output_type": "execute_result"
    }
   ],
   "source": [
    "categories_map"
   ],
   "metadata": {
    "collapsed": false,
    "ExecuteTime": {
     "end_time": "2023-09-24T11:05:16.604876500Z",
     "start_time": "2023-09-24T11:05:16.491626700Z"
    }
   }
  },
  {
   "cell_type": "code",
   "execution_count": null,
   "outputs": [],
   "source": [],
   "metadata": {
    "collapsed": false
   }
  },
  {
   "cell_type": "markdown",
   "source": [
    "### Test KNNC"
   ],
   "metadata": {
    "collapsed": false
   }
  },
  {
   "cell_type": "code",
   "execution_count": 293,
   "outputs": [
    {
     "data": {
      "text/plain": "(9256960, 7)"
     },
     "execution_count": 293,
     "metadata": {},
     "output_type": "execute_result"
    }
   ],
   "source": [
    "y_train_111.shape"
   ],
   "metadata": {
    "collapsed": false,
    "ExecuteTime": {
     "end_time": "2023-09-24T14:31:14.327592800Z",
     "start_time": "2023-09-24T14:31:14.274974800Z"
    }
   }
  },
  {
   "cell_type": "code",
   "execution_count": 41,
   "outputs": [
    {
     "ename": "KeyboardInterrupt",
     "evalue": "",
     "output_type": "error",
     "traceback": [
      "\u001B[0;31m---------------------------------------------------------------------------\u001B[0m",
      "\u001B[0;31mKeyboardInterrupt\u001B[0m                         Traceback (most recent call last)",
      "Cell \u001B[0;32mIn[41], line 11\u001B[0m\n\u001B[1;32m      2\u001B[0m importlib\u001B[38;5;241m.\u001B[39mreload(layers\u001B[38;5;241m.\u001B[39mknnc)\n\u001B[1;32m      3\u001B[0m \u001B[38;5;66;03m# model_new_knn = tf.keras.models.Sequential([\u001B[39;00m\n\u001B[1;32m      4\u001B[0m \u001B[38;5;66;03m#     layers.knnc.KNNLayer(k=3, num_classes=6,input_shape=(12,)),\u001B[39;00m\n\u001B[1;32m      5\u001B[0m \u001B[38;5;66;03m#     Activation(\"softmax\")\u001B[39;00m\n\u001B[1;32m      6\u001B[0m \u001B[38;5;66;03m#     ])\u001B[39;00m\n\u001B[1;32m      7\u001B[0m \n\u001B[1;32m      8\u001B[0m \u001B[38;5;66;03m# Sample usage\u001B[39;00m\n\u001B[1;32m     10\u001B[0m model_knnc \u001B[38;5;241m=\u001B[39m tf\u001B[38;5;241m.\u001B[39mkeras\u001B[38;5;241m.\u001B[39mmodels\u001B[38;5;241m.\u001B[39mSequential([\n\u001B[0;32m---> 11\u001B[0m     \u001B[43mlayers\u001B[49m\u001B[38;5;241;43m.\u001B[39;49m\u001B[43mknnc\u001B[49m\u001B[38;5;241;43m.\u001B[39;49m\u001B[43mKNNClassifierLayer2\u001B[49m\u001B[43m(\u001B[49m\u001B[43mk\u001B[49m\u001B[38;5;241;43m=\u001B[39;49m\u001B[38;5;241;43m3\u001B[39;49m\u001B[43m,\u001B[49m\u001B[43mX_train\u001B[49m\u001B[43m \u001B[49m\u001B[38;5;241;43m=\u001B[39;49m\u001B[43m \u001B[49m\u001B[43mx_train_111\u001B[49m\u001B[43m,\u001B[49m\u001B[43m \u001B[49m\u001B[43my_train\u001B[49m\u001B[43m \u001B[49m\u001B[38;5;241;43m=\u001B[39;49m\u001B[43m \u001B[49m\u001B[43my_int_labels\u001B[49m\u001B[43m,\u001B[49m\u001B[43m \u001B[49m\u001B[43minput_shape\u001B[49m\u001B[38;5;241;43m=\u001B[39;49m\u001B[43m(\u001B[49m\u001B[38;5;241;43m12\u001B[39;49m\u001B[43m,\u001B[49m\u001B[43m)\u001B[49m\u001B[43m)\u001B[49m,\n\u001B[1;32m     12\u001B[0m     Activation(\u001B[38;5;124m\"\u001B[39m\u001B[38;5;124msoftmax\u001B[39m\u001B[38;5;124m\"\u001B[39m)\n\u001B[1;32m     13\u001B[0m ])\n\u001B[1;32m     15\u001B[0m \u001B[38;5;66;03m# Assuming you've trained or set the weights, you can then save the model:\u001B[39;00m\n\u001B[1;32m     16\u001B[0m \u001B[38;5;66;03m#save_model(model, 'naive_bayes_model.h5')\u001B[39;00m\n",
      "File \u001B[0;32m/mnt/d/aspiranture/Satellite_Imagery_Analysis/Classification/layers/knnc.py:127\u001B[0m, in \u001B[0;36mKNNClassifierLayer2.__init__\u001B[0;34m(self, X_train, y_train, k, num_classes, **kwargs)\u001B[0m\n\u001B[1;32m    125\u001B[0m \u001B[38;5;28mself\u001B[39m\u001B[38;5;241m.\u001B[39mX_train_np \u001B[38;5;241m=\u001B[39m np\u001B[38;5;241m.\u001B[39marray(X_train)  \u001B[38;5;66;03m# Convert to numpy for KDTree\u001B[39;00m\n\u001B[1;32m    126\u001B[0m \u001B[38;5;28mself\u001B[39m\u001B[38;5;241m.\u001B[39my_train_np \u001B[38;5;241m=\u001B[39m np\u001B[38;5;241m.\u001B[39marray(y_train)\n\u001B[0;32m--> 127\u001B[0m \u001B[38;5;28mself\u001B[39m\u001B[38;5;241m.\u001B[39mkdtree \u001B[38;5;241m=\u001B[39m \u001B[43mKDTree\u001B[49m\u001B[43m(\u001B[49m\u001B[38;5;28;43mself\u001B[39;49m\u001B[38;5;241;43m.\u001B[39;49m\u001B[43mX_train_np\u001B[49m\u001B[43m)\u001B[49m\n\u001B[1;32m    128\u001B[0m \u001B[38;5;28mself\u001B[39m\u001B[38;5;241m.\u001B[39mk \u001B[38;5;241m=\u001B[39m k\n\u001B[1;32m    129\u001B[0m \u001B[38;5;28mself\u001B[39m\u001B[38;5;241m.\u001B[39mnum_classes \u001B[38;5;241m=\u001B[39m num_classes\n",
      "\u001B[0;31mKeyboardInterrupt\u001B[0m: "
     ]
    }
   ],
   "source": [
    "import layers.knnc\n",
    "importlib.reload(layers.knnc)\n",
    "# model_new_knn = tf.keras.models.Sequential([\n",
    "#     layers.knnc.KNNLayer(k=3, num_classes=6,input_shape=(12,)),\n",
    "#     Activation(\"softmax\")\n",
    "#     ])\n",
    "\n",
    "# Sample usage\n",
    "\n",
    "model_knnc = tf.keras.models.Sequential([\n",
    "    layers.knnc.KNNClassifierLayer2(k=3,X_train = x_train_111, y_train = y_int_labels, input_shape=(12,)),\n",
    "    Activation(\"softmax\")\n",
    "])\n",
    "\n",
    "# Assuming you've trained or set the weights, you can then save the model:\n",
    "#save_model(model, 'naive_bayes_model.h5')"
   ],
   "metadata": {
    "collapsed": false,
    "ExecuteTime": {
     "end_time": "2023-09-27T20:55:34.521521200Z",
     "start_time": "2023-09-27T20:54:56.822430600Z"
    }
   }
  },
  {
   "cell_type": "code",
   "execution_count": 62,
   "outputs": [
    {
     "data": {
      "text/plain": "<module 'layers.knnc' from '/mnt/d/aspiranture/Satellite_Imagery_Analysis/Classification/layers/knnc.py'>"
     },
     "execution_count": 62,
     "metadata": {},
     "output_type": "execute_result"
    }
   ],
   "source": [
    "importlib.reload(layers.knnc)"
   ],
   "metadata": {
    "collapsed": false,
    "ExecuteTime": {
     "end_time": "2023-09-24T18:07:31.743477700Z",
     "start_time": "2023-09-24T18:07:31.558839700Z"
    }
   }
  },
  {
   "cell_type": "code",
   "execution_count": 35,
   "outputs": [
    {
     "name": "stdout",
     "output_type": "stream",
     "text": [
      "Model: \"sequential\"\n",
      "_________________________________________________________________\n",
      " Layer (type)                Output Shape              Param #   \n",
      "=================================================================\n",
      " knn_classifier_layer2 (KNN  (None, 6)                 0         \n",
      " ClassifierLayer2)                                               \n",
      "                                                                 \n",
      " activation (Activation)     (None, 6)                 0         \n",
      "                                                                 \n",
      "=================================================================\n",
      "Total params: 0 (0.00 Byte)\n",
      "Trainable params: 0 (0.00 Byte)\n",
      "Non-trainable params: 0 (0.00 Byte)\n",
      "_________________________________________________________________\n"
     ]
    }
   ],
   "source": [
    "model_knnc.compile(loss='categorical_crossentropy', optimizer='adam', metrics=['accuracy','mse'])\n",
    "model_knnc.summary()"
   ],
   "metadata": {
    "collapsed": false,
    "ExecuteTime": {
     "end_time": "2023-09-24T19:38:40.064865700Z",
     "start_time": "2023-09-24T19:38:39.983772Z"
    }
   }
  },
  {
   "cell_type": "code",
   "execution_count": null,
   "outputs": [
    {
     "name": "stderr",
     "output_type": "stream",
     "text": [
      "/home/andrew/miniconda3/envs/segmentation-new/lib/python3.11/site-packages/keras/src/engine/training.py:3000: UserWarning: You are saving your model as an HDF5 file via `model.save()`. This file format is considered legacy. We recommend using instead the native Keras format, e.g. `model.save('my_model.keras')`.\n",
      "  saving_api.save_model(\n"
     ]
    }
   ],
   "source": [
    "model_knnc.save(\"kncc.h5\", save_format='h5')"
   ],
   "metadata": {
    "collapsed": false,
    "ExecuteTime": {
     "start_time": "2023-09-24T19:48:02.752050700Z"
    }
   }
  },
  {
   "cell_type": "code",
   "execution_count": 69,
   "outputs": [
    {
     "name": "stdout",
     "output_type": "stream",
     "text": [
      "   1/1364 [..............................] - ETA: 3:29"
     ]
    },
    {
     "name": "stderr",
     "output_type": "stream",
     "text": [
      "2023-09-24 21:18:12.386453: W tensorflow/core/grappler/costs/op_level_cost_estimator.cc:693] Error in PredictCost() for the op: op: \"Softmax\" attr { key: \"T\" value { type: DT_FLOAT } } attr { key: \"_has_manual_control_dependencies\" value { b: true } } inputs { dtype: DT_FLOAT shape { unknown_rank: true } } device { type: \"GPU\" vendor: \"NVIDIA\" model: \"NVIDIA GeForce RTX 3090\" frequency: 1740 num_cores: 82 environment { key: \"architecture\" value: \"8.6\" } environment { key: \"cuda\" value: \"11080\" } environment { key: \"cudnn\" value: \"8600\" } num_registers: 65536 l1_cache_size: 24576 l2_cache_size: 6291456 shared_memory_size_per_multiprocessor: 102400 memory_size: 22842179584 bandwidth: 936096000 } outputs { dtype: DT_FLOAT shape { unknown_rank: true } }\n"
     ]
    },
    {
     "name": "stdout",
     "output_type": "stream",
     "text": [
      "1364/1364 [==============================] - 166s 122ms/step\n"
     ]
    }
   ],
   "source": [
    "predictions_knnc = model_knnc.predict(test_arr_to_pred, batch_size=512)"
   ],
   "metadata": {
    "collapsed": false,
    "ExecuteTime": {
     "end_time": "2023-09-24T18:20:59.064258100Z",
     "start_time": "2023-09-24T18:18:12.239077100Z"
    }
   }
  },
  {
   "cell_type": "code",
   "execution_count": 70,
   "outputs": [
    {
     "data": {
      "text/plain": "(697972, 6)"
     },
     "execution_count": 70,
     "metadata": {},
     "output_type": "execute_result"
    }
   ],
   "source": [
    "predictions_knnc.shape"
   ],
   "metadata": {
    "collapsed": false,
    "ExecuteTime": {
     "end_time": "2023-09-24T18:21:02.426696300Z",
     "start_time": "2023-09-24T18:21:02.373375500Z"
    }
   }
  },
  {
   "cell_type": "code",
   "execution_count": 1,
   "outputs": [
    {
     "ename": "NameError",
     "evalue": "name 'test_arr_knn_pred_ss' is not defined",
     "output_type": "error",
     "traceback": [
      "\u001B[0;31m---------------------------------------------------------------------------\u001B[0m",
      "\u001B[0;31mNameError\u001B[0m                                 Traceback (most recent call last)",
      "Cell \u001B[0;32mIn[1], line 1\u001B[0m\n\u001B[0;32m----> 1\u001B[0m test_arr_knn_pred_ss \u001B[38;5;241m=\u001B[39m \u001B[43mtest_arr_knn_pred_ss\u001B[49m \u001B[38;5;241m+\u001B[39m \u001B[38;5;241m1\u001B[39m\n",
      "\u001B[0;31mNameError\u001B[0m: name 'test_arr_knn_pred_ss' is not defined"
     ]
    }
   ],
   "source": [],
   "metadata": {
    "collapsed": false,
    "ExecuteTime": {
     "end_time": "2023-09-24T20:16:01.228713500Z",
     "start_time": "2023-09-24T20:16:01.118141300Z"
    }
   }
  },
  {
   "cell_type": "code",
   "execution_count": 2,
   "outputs": [
    {
     "ename": "NameError",
     "evalue": "name 'tf' is not defined",
     "output_type": "error",
     "traceback": [
      "\u001B[0;31m---------------------------------------------------------------------------\u001B[0m",
      "\u001B[0;31mNameError\u001B[0m                                 Traceback (most recent call last)",
      "Cell \u001B[0;32mIn[2], line 1\u001B[0m\n\u001B[0;32m----> 1\u001B[0m test_arr_knn_pred \u001B[38;5;241m=\u001B[39m \u001B[43mtf\u001B[49m\u001B[38;5;241m.\u001B[39margmax(predictions_knnc, axis\u001B[38;5;241m=\u001B[39m\u001B[38;5;241m-\u001B[39m\u001B[38;5;241m1\u001B[39m)\n\u001B[1;32m      2\u001B[0m test_arr_knn_pred_ss \u001B[38;5;241m=\u001B[39m test_arr_knn_pred\u001B[38;5;241m.\u001B[39mnumpy()\u001B[38;5;241m.\u001B[39mreshape(\u001B[38;5;241m638\u001B[39m, \u001B[38;5;241m1094\u001B[39m)\n\u001B[1;32m      3\u001B[0m \u001B[38;5;28;01mfrom\u001B[39;00m \u001B[38;5;21;01mmatplotlib\u001B[39;00m\u001B[38;5;21;01m.\u001B[39;00m\u001B[38;5;21;01mcolors\u001B[39;00m \u001B[38;5;28;01mimport\u001B[39;00m ListedColormap\n",
      "\u001B[0;31mNameError\u001B[0m: name 'tf' is not defined"
     ]
    }
   ],
   "source": [
    "test_arr_knn_pred = tf.argmax(predictions_knnc, axis=-1)\n",
    "test_arr_knn_pred_ss = test_arr_knn_pred.numpy().reshape(638, 1094)\n",
    "from matplotlib.colors import ListedColormap\n",
    "import earthpy.plot as ep\n",
    "\n",
    "test_arr_knn_pred_ss = test_arr_knn_pred_ss + 1\n",
    "\n",
    "ep.plot_bands(test_arr_knn_pred_ss,\n",
    "              cmap=ListedColormap(['green', 'purple', 'orange', 'blue', 'yellow']))"
   ],
   "metadata": {
    "collapsed": false,
    "ExecuteTime": {
     "end_time": "2023-09-24T20:16:07.513336100Z",
     "start_time": "2023-09-24T20:16:07.465153900Z"
    }
   }
  },
  {
   "cell_type": "markdown",
   "source": [
    "# Binary tree method"
   ],
   "metadata": {
    "collapsed": false
   }
  },
  {
   "cell_type": "markdown",
   "source": [
    "## Naive bayes"
   ],
   "metadata": {
    "collapsed": false
   }
  },
  {
   "cell_type": "markdown",
   "source": [
    "### Water - no-water"
   ],
   "metadata": {
    "collapsed": false
   }
  },
  {
   "cell_type": "code",
   "source": [
    "from sklearn.model_selection import train_test_split"
   ],
   "metadata": {
    "collapsed": false,
    "ExecuteTime": {
     "end_time": "2024-05-15T13:05:57.071140Z",
     "start_time": "2024-05-15T13:05:56.372650Z"
    }
   },
   "outputs": [],
   "execution_count": 25
  },
  {
   "cell_type": "code",
   "source": [
    "x_data_stadartized.shape"
   ],
   "metadata": {
    "collapsed": false,
    "ExecuteTime": {
     "end_time": "2024-05-15T13:05:58.090838Z",
     "start_time": "2024-05-15T13:05:58.074553Z"
    }
   },
   "outputs": [
    {
     "ename": "NameError",
     "evalue": "name 'x_data_stadartized' is not defined",
     "output_type": "error",
     "traceback": [
      "\u001B[0;31m---------------------------------------------------------------------------\u001B[0m",
      "\u001B[0;31mNameError\u001B[0m                                 Traceback (most recent call last)",
      "Cell \u001B[0;32mIn[26], line 1\u001B[0m\n\u001B[0;32m----> 1\u001B[0m \u001B[43mx_data_stadartized\u001B[49m\u001B[38;5;241m.\u001B[39mshape\n",
      "\u001B[0;31mNameError\u001B[0m: name 'x_data_stadartized' is not defined"
     ]
    }
   ],
   "execution_count": 26
  },
  {
   "cell_type": "code",
   "source": [
    "x_data_stadartized_vec = x_data_stadartized.reshape(x_data_stadartized.shape[0]*x_data_stadartized.shape[1]*x_data_stadartized.shape[2],12)"
   ],
   "metadata": {
    "collapsed": false,
    "ExecuteTime": {
     "end_time": "2024-05-15T13:05:59.192890Z",
     "start_time": "2024-05-15T13:05:59.174450Z"
    }
   },
   "outputs": [
    {
     "ename": "NameError",
     "evalue": "name 'x_data_stadartized' is not defined",
     "output_type": "error",
     "traceback": [
      "\u001B[0;31m---------------------------------------------------------------------------\u001B[0m",
      "\u001B[0;31mNameError\u001B[0m                                 Traceback (most recent call last)",
      "Cell \u001B[0;32mIn[27], line 1\u001B[0m\n\u001B[0;32m----> 1\u001B[0m x_data_stadartized_vec \u001B[38;5;241m=\u001B[39m \u001B[43mx_data_stadartized\u001B[49m\u001B[38;5;241m.\u001B[39mreshape(x_data_stadartized\u001B[38;5;241m.\u001B[39mshape[\u001B[38;5;241m0\u001B[39m]\u001B[38;5;241m*\u001B[39mx_data_stadartized\u001B[38;5;241m.\u001B[39mshape[\u001B[38;5;241m1\u001B[39m]\u001B[38;5;241m*\u001B[39mx_data_stadartized\u001B[38;5;241m.\u001B[39mshape[\u001B[38;5;241m2\u001B[39m],\u001B[38;5;241m12\u001B[39m)\n",
      "\u001B[0;31mNameError\u001B[0m: name 'x_data_stadartized' is not defined"
     ]
    }
   ],
   "execution_count": 27
  },
  {
   "cell_type": "code",
   "source": [
    "y_data_cubes.shape"
   ],
   "metadata": {
    "collapsed": false,
    "ExecuteTime": {
     "end_time": "2024-05-15T13:06:09.550960Z",
     "start_time": "2024-05-15T13:06:09.546304Z"
    }
   },
   "outputs": [
    {
     "data": {
      "text/plain": [
       "(2825, 64, 64)"
      ]
     },
     "execution_count": 28,
     "metadata": {},
     "output_type": "execute_result"
    }
   ],
   "execution_count": 28
  },
  {
   "cell_type": "code",
   "source": [
    "y_data_cubes_vec = y_data_cubes.reshape(y_data_cubes.shape[0]*y_data_cubes.shape[1]*y_data_cubes.shape[2])"
   ],
   "metadata": {
    "collapsed": false,
    "ExecuteTime": {
     "end_time": "2024-05-15T13:06:11.429525Z",
     "start_time": "2024-05-15T13:06:11.426383Z"
    }
   },
   "outputs": [],
   "execution_count": 29
  },
  {
   "cell_type": "code",
   "source": [
    "y_data_cubes_vec.min()"
   ],
   "metadata": {
    "collapsed": false,
    "ExecuteTime": {
     "end_time": "2024-05-15T13:06:12.536487Z",
     "start_time": "2024-05-15T13:06:12.522260Z"
    }
   },
   "outputs": [
    {
     "data": {
      "text/plain": [
       "1"
      ]
     },
     "execution_count": 30,
     "metadata": {},
     "output_type": "execute_result"
    }
   ],
   "execution_count": 30
  },
  {
   "cell_type": "code",
   "source": [
    "x_binary_cl_train,x_binary_cl_test, y_binary_cl_train, y_binary_cl_test = train_test_split(x_data_stadartized_vec, y_data_cubes_vec, test_size=0.15, stratify=y_data_cubes_vec)"
   ],
   "metadata": {
    "collapsed": false,
    "ExecuteTime": {
     "end_time": "2024-05-15T13:06:13.865762Z",
     "start_time": "2024-05-15T13:06:13.848808Z"
    }
   },
   "outputs": [
    {
     "ename": "NameError",
     "evalue": "name 'x_data_stadartized_vec' is not defined",
     "output_type": "error",
     "traceback": [
      "\u001B[0;31m---------------------------------------------------------------------------\u001B[0m",
      "\u001B[0;31mNameError\u001B[0m                                 Traceback (most recent call last)",
      "Cell \u001B[0;32mIn[31], line 1\u001B[0m\n\u001B[0;32m----> 1\u001B[0m x_binary_cl_train,x_binary_cl_test, y_binary_cl_train, y_binary_cl_test \u001B[38;5;241m=\u001B[39m train_test_split(\u001B[43mx_data_stadartized_vec\u001B[49m, y_data_cubes_vec, test_size\u001B[38;5;241m=\u001B[39m\u001B[38;5;241m0.15\u001B[39m, stratify\u001B[38;5;241m=\u001B[39my_data_cubes_vec)\n",
      "\u001B[0;31mNameError\u001B[0m: name 'x_data_stadartized_vec' is not defined"
     ]
    }
   ],
   "execution_count": 31
  },
  {
   "cell_type": "code",
   "source": [
    "y_binary_cl_train.max()"
   ],
   "metadata": {
    "collapsed": false,
    "ExecuteTime": {
     "end_time": "2024-05-15T13:06:14.954312Z",
     "start_time": "2024-05-15T13:06:14.935771Z"
    }
   },
   "outputs": [
    {
     "ename": "NameError",
     "evalue": "name 'y_binary_cl_train' is not defined",
     "output_type": "error",
     "traceback": [
      "\u001B[0;31m---------------------------------------------------------------------------\u001B[0m",
      "\u001B[0;31mNameError\u001B[0m                                 Traceback (most recent call last)",
      "Cell \u001B[0;32mIn[32], line 1\u001B[0m\n\u001B[0;32m----> 1\u001B[0m \u001B[43my_binary_cl_train\u001B[49m\u001B[38;5;241m.\u001B[39mmax()\n",
      "\u001B[0;31mNameError\u001B[0m: name 'y_binary_cl_train' is not defined"
     ]
    }
   ],
   "execution_count": 32
  },
  {
   "cell_type": "code",
   "source": [
    "model_new_gnb_binary_1 = tf.keras.models.Sequential([\n",
    "    layers.naive_bayes.MultiClassNaiveBayesLayer(num_features=12, num_of_categories=2, input_shape=(12,)),\n",
    "    Activation(\"softmax\")\n",
    "])\n",
    "\n",
    "# Assuming you've trained or set the weights, you can then save the model:\n",
    "#save_model(model, 'naive_bayes_model.h5')\n",
    "model_new_gnb_binary_1.compile(loss='categorical_crossentropy', optimizer='adam', metrics=['accuracy', 'mse'])\n",
    "model_new_gnb_binary_1.summary()"
   ],
   "metadata": {
    "collapsed": false,
    "ExecuteTime": {
     "end_time": "2024-05-15T13:06:18.777193Z",
     "start_time": "2024-05-15T13:06:18.722410Z"
    }
   },
   "outputs": [
    {
     "name": "stdout",
     "output_type": "stream",
     "text": [
      "Model: \"sequential_1\"\n",
      "_________________________________________________________________\n",
      " Layer (type)                Output Shape              Param #   \n",
      "=================================================================\n",
      " multi_class_naive_bayes_la  (None, 2)                 48        \n",
      " yer_1 (MultiClassNaiveBaye                                      \n",
      " sLayer)                                                         \n",
      "                                                                 \n",
      " activation_1 (Activation)   (None, 2)                 0         \n",
      "                                                                 \n",
      "=================================================================\n",
      "Total params: 48 (192.00 Byte)\n",
      "Trainable params: 0 (0.00 Byte)\n",
      "Non-trainable params: 48 (192.00 Byte)\n",
      "_________________________________________________________________\n"
     ]
    }
   ],
   "execution_count": 33
  },
  {
   "cell_type": "code",
   "source": [
    "categories_map"
   ],
   "metadata": {
    "collapsed": false,
    "ExecuteTime": {
     "end_time": "2024-05-15T13:06:22.953599Z",
     "start_time": "2024-05-15T13:06:22.949020Z"
    }
   },
   "outputs": [
    {
     "data": {
      "text/plain": [
       "{'water': 1, 'forest': 2, 'fields': 3, 'city': 4, 'sands': 5, 'mountains': 6}"
      ]
     },
     "execution_count": 34,
     "metadata": {},
     "output_type": "execute_result"
    }
   ],
   "execution_count": 34
  },
  {
   "cell_type": "code",
   "source": [
    "y_int_labels_1 = np.argmax(y_train_111, axis=-1)"
   ],
   "metadata": {
    "collapsed": false,
    "ExecuteTime": {
     "end_time": "2024-05-15T13:06:27.012529Z",
     "start_time": "2024-05-15T13:06:26.975350Z"
    }
   },
   "outputs": [
    {
     "ename": "NameError",
     "evalue": "name 'y_train_111' is not defined",
     "output_type": "error",
     "traceback": [
      "\u001B[0;31m---------------------------------------------------------------------------\u001B[0m",
      "\u001B[0;31mNameError\u001B[0m                                 Traceback (most recent call last)",
      "Cell \u001B[0;32mIn[35], line 1\u001B[0m\n\u001B[0;32m----> 1\u001B[0m y_int_labels_1 \u001B[38;5;241m=\u001B[39m np\u001B[38;5;241m.\u001B[39margmax(\u001B[43my_train_111\u001B[49m, axis\u001B[38;5;241m=\u001B[39m\u001B[38;5;241m-\u001B[39m\u001B[38;5;241m1\u001B[39m)\n",
      "\u001B[0;31mNameError\u001B[0m: name 'y_train_111' is not defined"
     ]
    }
   ],
   "execution_count": 35
  },
  {
   "cell_type": "code",
   "source": [
    "len(y_int_labels_1[y_int_labels_1 == 3])"
   ],
   "metadata": {
    "collapsed": false,
    "ExecuteTime": {
     "end_time": "2024-05-15T13:06:28.846469Z",
     "start_time": "2024-05-15T13:06:28.827397Z"
    }
   },
   "outputs": [
    {
     "ename": "NameError",
     "evalue": "name 'y_int_labels_1' is not defined",
     "output_type": "error",
     "traceback": [
      "\u001B[0;31m---------------------------------------------------------------------------\u001B[0m",
      "\u001B[0;31mNameError\u001B[0m                                 Traceback (most recent call last)",
      "Cell \u001B[0;32mIn[36], line 1\u001B[0m\n\u001B[0;32m----> 1\u001B[0m \u001B[38;5;28mlen\u001B[39m(\u001B[43my_int_labels_1\u001B[49m[y_int_labels_1 \u001B[38;5;241m==\u001B[39m \u001B[38;5;241m3\u001B[39m])\n",
      "\u001B[0;31mNameError\u001B[0m: name 'y_int_labels_1' is not defined"
     ]
    }
   ],
   "execution_count": 36
  },
  {
   "cell_type": "code",
   "source": [
    "y_train_111"
   ],
   "metadata": {
    "collapsed": false,
    "ExecuteTime": {
     "end_time": "2024-05-15T13:06:30.929226Z",
     "start_time": "2024-05-15T13:06:30.911989Z"
    }
   },
   "outputs": [
    {
     "ename": "NameError",
     "evalue": "name 'y_train_111' is not defined",
     "output_type": "error",
     "traceback": [
      "\u001B[0;31m---------------------------------------------------------------------------\u001B[0m",
      "\u001B[0;31mNameError\u001B[0m                                 Traceback (most recent call last)",
      "Cell \u001B[0;32mIn[37], line 1\u001B[0m\n\u001B[0;32m----> 1\u001B[0m \u001B[43my_train_111\u001B[49m\n",
      "\u001B[0;31mNameError\u001B[0m: name 'y_train_111' is not defined"
     ]
    }
   ],
   "execution_count": 37
  },
  {
   "cell_type": "code",
   "source": [
    "y_int_labels_1.max()"
   ],
   "metadata": {
    "collapsed": false,
    "ExecuteTime": {
     "end_time": "2024-05-15T13:06:32.202203Z",
     "start_time": "2024-05-15T13:06:32.184212Z"
    }
   },
   "outputs": [
    {
     "ename": "NameError",
     "evalue": "name 'y_int_labels_1' is not defined",
     "output_type": "error",
     "traceback": [
      "\u001B[0;31m---------------------------------------------------------------------------\u001B[0m",
      "\u001B[0;31mNameError\u001B[0m                                 Traceback (most recent call last)",
      "Cell \u001B[0;32mIn[38], line 1\u001B[0m\n\u001B[0;32m----> 1\u001B[0m \u001B[43my_int_labels_1\u001B[49m\u001B[38;5;241m.\u001B[39mmax()\n",
      "\u001B[0;31mNameError\u001B[0m: name 'y_int_labels_1' is not defined"
     ]
    }
   ],
   "execution_count": 38
  },
  {
   "cell_type": "code",
   "source": [
    "y_int_labels_1[y_int_labels_1 != 1] = 2"
   ],
   "metadata": {
    "collapsed": false,
    "ExecuteTime": {
     "end_time": "2024-05-15T13:06:34.627744Z",
     "start_time": "2024-05-15T13:06:34.610760Z"
    }
   },
   "outputs": [
    {
     "ename": "NameError",
     "evalue": "name 'y_int_labels_1' is not defined",
     "output_type": "error",
     "traceback": [
      "\u001B[0;31m---------------------------------------------------------------------------\u001B[0m",
      "\u001B[0;31mNameError\u001B[0m                                 Traceback (most recent call last)",
      "Cell \u001B[0;32mIn[39], line 1\u001B[0m\n\u001B[0;32m----> 1\u001B[0m \u001B[43my_int_labels_1\u001B[49m[y_int_labels_1 \u001B[38;5;241m!=\u001B[39m \u001B[38;5;241m1\u001B[39m] \u001B[38;5;241m=\u001B[39m \u001B[38;5;241m2\u001B[39m\n",
      "\u001B[0;31mNameError\u001B[0m: name 'y_int_labels_1' is not defined"
     ]
    }
   ],
   "execution_count": 39
  },
  {
   "cell_type": "code",
   "execution_count": 46,
   "outputs": [
    {
     "data": {
      "text/plain": "2"
     },
     "execution_count": 46,
     "metadata": {},
     "output_type": "execute_result"
    }
   ],
   "source": [
    "y_int_labels_1.max()"
   ],
   "metadata": {
    "collapsed": false,
    "ExecuteTime": {
     "end_time": "2023-09-28T09:55:43.295755600Z",
     "start_time": "2023-09-28T09:55:43.220296200Z"
    }
   }
  },
  {
   "cell_type": "code",
   "execution_count": 47,
   "outputs": [],
   "source": [
    "y_int_labels_1 = y_int_labels_1-1"
   ],
   "metadata": {
    "collapsed": false,
    "ExecuteTime": {
     "end_time": "2023-09-28T09:55:43.714225800Z",
     "start_time": "2023-09-28T09:55:43.569824Z"
    }
   }
  },
  {
   "cell_type": "code",
   "execution_count": 48,
   "outputs": [
    {
     "data": {
      "text/plain": "1"
     },
     "execution_count": 48,
     "metadata": {},
     "output_type": "execute_result"
    }
   ],
   "source": [
    "y_int_labels_1.max()"
   ],
   "metadata": {
    "collapsed": false,
    "ExecuteTime": {
     "end_time": "2023-09-28T09:55:43.979792900Z",
     "start_time": "2023-09-28T09:55:43.817190600Z"
    }
   }
  },
  {
   "cell_type": "code",
   "execution_count": 437,
   "outputs": [],
   "source": [
    "# from imblearn.over_sampling import SMOTE\n",
    "# sm = SMOTE(random_state=42)\n",
    "# x_resampled_1, y_resampled_1 = sm.fit_resample(x_train_111, y_int_labels_1)"
   ],
   "metadata": {
    "collapsed": false,
    "ExecuteTime": {
     "end_time": "2023-09-28T15:50:00.563426Z",
     "start_time": "2023-09-28T15:35:40.406257100Z"
    }
   }
  },
  {
   "cell_type": "code",
   "execution_count": 451,
   "outputs": [
    {
     "data": {
      "text/plain": "2564096"
     },
     "execution_count": 451,
     "metadata": {},
     "output_type": "execute_result"
    }
   ],
   "source": [
    "len(y_int_labels_1[y_int_labels_1 == 0])-len(y_int_labels_1[y_int_labels_1 == 1])"
   ],
   "metadata": {
    "collapsed": false,
    "ExecuteTime": {
     "end_time": "2023-09-28T19:01:09.033186500Z",
     "start_time": "2023-09-28T19:01:08.858678700Z"
    }
   }
  },
  {
   "cell_type": "code",
   "execution_count": 481,
   "outputs": [],
   "source": [
    "x_binary_train_0 = x_binary_cl_train.copy()\n",
    "y_binary_train_0 = y_binary_cl_train.copy()"
   ],
   "metadata": {
    "collapsed": false,
    "ExecuteTime": {
     "end_time": "2023-09-28T19:29:21.471023500Z",
     "start_time": "2023-09-28T19:29:21.068053600Z"
    }
   }
  },
  {
   "cell_type": "code",
   "execution_count": 482,
   "outputs": [],
   "source": [
    "y_binary_train_0 = y_binary_train_0 - 1"
   ],
   "metadata": {
    "collapsed": false,
    "ExecuteTime": {
     "end_time": "2023-09-28T19:29:21.788020100Z",
     "start_time": "2023-09-28T19:29:21.610881100Z"
    }
   }
  },
  {
   "cell_type": "code",
   "execution_count": 485,
   "outputs": [],
   "source": [
    "y_binary_train_0[y_binary_train_0!=0]= 1"
   ],
   "metadata": {
    "collapsed": false,
    "ExecuteTime": {
     "end_time": "2023-09-28T19:29:41.512897700Z",
     "start_time": "2023-09-28T19:29:41.337302700Z"
    }
   }
  },
  {
   "cell_type": "code",
   "execution_count": 486,
   "outputs": [],
   "source": [
    "means_1 = []\n",
    "variances_1 = []\n",
    "\n",
    "num_classes = 2  # or however many you have\n",
    "\n",
    "for i in range(num_classes):\n",
    "    means_1.append(np.mean(x_binary_train_0[y_binary_train_0 == i], axis=0))\n",
    "    variances_1.append(np.var(x_binary_train_0[y_binary_train_0 == i], axis=0))\n",
    "\n",
    "means_1 = np.array(means_1)\n",
    "variances_1 = np.array(variances_1)"
   ],
   "metadata": {
    "collapsed": false,
    "ExecuteTime": {
     "end_time": "2023-09-28T19:29:58.797436400Z",
     "start_time": "2023-09-28T19:29:56.695858600Z"
    }
   }
  },
  {
   "cell_type": "code",
   "execution_count": 50,
   "outputs": [
    {
     "data": {
      "text/plain": "array([[0.02933434, 0.03338125, 0.03916715, 0.03483061, 0.03903008,\n        0.02419031, 0.02348292, 0.0212318 , 0.01637849, 0.01084627,\n        0.00987053, 0.01845756],\n       [0.02788477, 0.03564478, 0.04901504, 0.05831729, 0.07696233,\n        0.11539255, 0.133244  , 0.14025955, 0.14743847, 0.14113662,\n        0.10868028, 0.14656533]], dtype=float32)"
     },
     "execution_count": 50,
     "metadata": {},
     "output_type": "execute_result"
    }
   ],
   "source": [
    "means_1"
   ],
   "metadata": {
    "collapsed": false,
    "ExecuteTime": {
     "end_time": "2023-09-28T09:55:46.949125800Z",
     "start_time": "2023-09-28T09:55:46.945386300Z"
    }
   }
  },
  {
   "cell_type": "code",
   "execution_count": 487,
   "outputs": [],
   "source": [
    "model_new_gnb_binary_1.layers[0].set_weights([means_1, variances_1])"
   ],
   "metadata": {
    "collapsed": false,
    "ExecuteTime": {
     "end_time": "2023-09-28T19:30:02.880161100Z",
     "start_time": "2023-09-28T19:30:02.685943100Z"
    }
   }
  },
  {
   "cell_type": "code",
   "execution_count": 488,
   "outputs": [
    {
     "name": "stdout",
     "output_type": "stream",
     "text": [
      "848/848 [==============================] - 3s 3ms/step\n"
     ]
    }
   ],
   "source": [
    "nb_pred_res_core_binary_1 = model_new_gnb_binary_1.predict(x_binary_cl_test, batch_size=2048)"
   ],
   "metadata": {
    "collapsed": false,
    "ExecuteTime": {
     "end_time": "2023-09-28T19:30:23.228756400Z",
     "start_time": "2023-09-28T19:30:18.833077300Z"
    }
   }
  },
  {
   "cell_type": "code",
   "execution_count": null,
   "outputs": [],
   "source": [],
   "metadata": {
    "collapsed": false
   }
  },
  {
   "cell_type": "code",
   "execution_count": 489,
   "outputs": [],
   "source": [
    "nb_pred_res_core_binary_1_cateries = tf.argmax(nb_pred_res_core_binary_1, axis=-1).numpy()"
   ],
   "metadata": {
    "collapsed": false,
    "ExecuteTime": {
     "end_time": "2023-09-28T19:30:35.289383800Z",
     "start_time": "2023-09-28T19:30:35.153382Z"
    }
   }
  },
  {
   "cell_type": "code",
   "execution_count": 442,
   "outputs": [
    {
     "name": "stdout",
     "output_type": "stream",
     "text": [
      "Num of water is 502363\n"
     ]
    }
   ],
   "source": [
    "print(f\"Num of water is {len(nb_pred_res_core_binary_1_cateries[nb_pred_res_core_binary_1_cateries == 0])}\")"
   ],
   "metadata": {
    "collapsed": false,
    "ExecuteTime": {
     "end_time": "2023-09-28T15:51:06.837125100Z",
     "start_time": "2023-09-28T15:51:06.672620Z"
    }
   }
  },
  {
   "cell_type": "code",
   "execution_count": 490,
   "outputs": [],
   "source": [
    "y_tests_1_vector_categories_1 = y_binary_cl_test.copy()"
   ],
   "metadata": {
    "collapsed": false,
    "ExecuteTime": {
     "end_time": "2023-09-28T19:31:07.820427700Z",
     "start_time": "2023-09-28T19:31:07.613964900Z"
    }
   }
  },
  {
   "cell_type": "code",
   "execution_count": 492,
   "outputs": [],
   "source": [
    "y_tests_1_vector_categories_1 = y_tests_1_vector_categories_1 - 1"
   ],
   "metadata": {
    "collapsed": false,
    "ExecuteTime": {
     "end_time": "2023-09-28T19:31:25.900567300Z",
     "start_time": "2023-09-28T19:31:25.773494900Z"
    }
   }
  },
  {
   "cell_type": "code",
   "execution_count": 493,
   "outputs": [],
   "source": [
    "y_tests_1_vector_categories_1[y_tests_1_vector_categories_1 != 0] = 1"
   ],
   "metadata": {
    "collapsed": false,
    "ExecuteTime": {
     "end_time": "2023-09-28T19:31:27.983311Z",
     "start_time": "2023-09-28T19:31:27.851985100Z"
    }
   }
  },
  {
   "cell_type": "code",
   "execution_count": 494,
   "outputs": [
    {
     "data": {
      "text/plain": "1"
     },
     "execution_count": 494,
     "metadata": {},
     "output_type": "execute_result"
    }
   ],
   "source": [
    "y_tests_1_vector_categories_1.max()"
   ],
   "metadata": {
    "collapsed": false,
    "ExecuteTime": {
     "end_time": "2023-09-28T19:31:28.548961300Z",
     "start_time": "2023-09-28T19:31:28.417202900Z"
    }
   }
  },
  {
   "cell_type": "code",
   "execution_count": 495,
   "outputs": [
    {
     "data": {
      "text/plain": "0.9275229304941003"
     },
     "execution_count": 495,
     "metadata": {},
     "output_type": "execute_result"
    }
   ],
   "source": [
    "accuracy_score(nb_pred_res_core_binary_1_cateries.flatten(), y_tests_1_vector_categories_1.flatten())"
   ],
   "metadata": {
    "collapsed": false,
    "ExecuteTime": {
     "end_time": "2023-09-28T19:31:29.794985Z",
     "start_time": "2023-09-28T19:31:29.588018500Z"
    }
   }
  },
  {
   "cell_type": "code",
   "execution_count": 496,
   "outputs": [
    {
     "name": "stdout",
     "output_type": "stream",
     "text": [
      "448/448 [==============================] - 2s 3ms/step\n"
     ]
    }
   ],
   "source": [
    "nb_binary_pic_1 = model_new_gnb_binary_1.predict(test_arr_to_pred, batch_size=2048)"
   ],
   "metadata": {
    "collapsed": false,
    "ExecuteTime": {
     "end_time": "2023-09-28T19:31:53.062322Z",
     "start_time": "2023-09-28T19:31:50.228258500Z"
    }
   }
  },
  {
   "cell_type": "code",
   "execution_count": 497,
   "outputs": [],
   "source": [
    "nb_binary_pic_1_cat = tf.argmax(nb_binary_pic_1, axis=-1).numpy()"
   ],
   "metadata": {
    "collapsed": false,
    "ExecuteTime": {
     "end_time": "2023-09-28T19:31:54.431761100Z",
     "start_time": "2023-09-28T19:31:54.257441800Z"
    }
   }
  },
  {
   "cell_type": "code",
   "execution_count": 498,
   "outputs": [
    {
     "data": {
      "text/plain": "1"
     },
     "execution_count": 498,
     "metadata": {},
     "output_type": "execute_result"
    }
   ],
   "source": [
    "nb_binary_pic_1_cat.max()"
   ],
   "metadata": {
    "collapsed": false,
    "ExecuteTime": {
     "end_time": "2023-09-28T19:31:55.295362700Z",
     "start_time": "2023-09-28T19:31:55.190913400Z"
    }
   }
  },
  {
   "cell_type": "code",
   "execution_count": 499,
   "outputs": [],
   "source": [
    "nb_binary_pic_1_pic = nb_binary_pic_1_cat.reshape(733,1250)"
   ],
   "metadata": {
    "collapsed": false,
    "ExecuteTime": {
     "end_time": "2023-09-28T19:31:55.787071200Z",
     "start_time": "2023-09-28T19:31:55.684315700Z"
    }
   }
  },
  {
   "cell_type": "code",
   "execution_count": 500,
   "outputs": [],
   "source": [
    "nb_binary_pic_1_pic = nb_binary_pic_1_pic +1"
   ],
   "metadata": {
    "collapsed": false,
    "ExecuteTime": {
     "end_time": "2023-09-28T19:31:57.166990600Z",
     "start_time": "2023-09-28T19:31:56.987727600Z"
    }
   }
  },
  {
   "cell_type": "code",
   "execution_count": 501,
   "outputs": [
    {
     "data": {
      "text/plain": "2"
     },
     "execution_count": 501,
     "metadata": {},
     "output_type": "execute_result"
    }
   ],
   "source": [
    "nb_binary_pic_1_pic.max()"
   ],
   "metadata": {
    "collapsed": false,
    "ExecuteTime": {
     "end_time": "2023-09-28T19:31:57.602320200Z",
     "start_time": "2023-09-28T19:31:57.467595200Z"
    }
   }
  },
  {
   "cell_type": "code",
   "execution_count": 502,
   "outputs": [
    {
     "data": {
      "text/plain": "<matplotlib.legend.Legend at 0x7fcc2f884510>"
     },
     "execution_count": 502,
     "metadata": {},
     "output_type": "execute_result"
    },
    {
     "data": {
      "text/plain": "<Figure size 640x480 with 1 Axes>",
      "image/png": "[encoded data removed]"
     },
     "metadata": {},
     "output_type": "display_data"
    }
   ],
   "source": [
    "from matplotlib.colors import ListedColormap\n",
    "import earthpy.plot as ep\n",
    "import matplotlib.pyplot as plt\n",
    "\n",
    "# im = ep.plot_bands(nb_binary_pic_1_pic,\n",
    "#                    vmin=1, vmax=6,\n",
    "#               cmap=ListedColormap(['green', 'purple', 'orange', 'blue', 'yellow','red']))\n",
    "#ep.make_col_list()\n",
    "im = plt.imshow(nb_binary_pic_1_pic,\n",
    "           vmin=1,vmax=6,\n",
    "               cmap=ListedColormap(['blue', 'green', 'orange', 'grey', 'yellow','brown']))\n",
    "ep.draw_legend(im_ax = im, titles = [\"water\",\"nowater\"])\n",
    "#leg_neg = ep.draw_legend(im_ax = im, titles = categoreis_map_inverted.values())\n",
    "#plt.show()\n",
    "#im.legend(list(categoreis_map_inverted.values()))\n",
    "# cbar = plt.colorbar(fraction=0.046, pad=0.04)\n",
    "# #\n",
    "# cbar.set_ticks(list(categoreis_map_inverted.keys()))\n",
    "# cbar.set_ticklabels(list(categoreis_map_inverted.values()))\n",
    "\n",
    "# plt.show()"
   ],
   "metadata": {
    "collapsed": false,
    "ExecuteTime": {
     "end_time": "2023-09-28T19:32:01.133251600Z",
     "start_time": "2023-09-28T19:32:00.583936500Z"
    }
   }
  },
  {
   "cell_type": "code",
   "execution_count": 503,
   "outputs": [],
   "source": [
    "model_new_gnb_binary_1.save(\"nb_binary_water_nowater_2.keras\")"
   ],
   "metadata": {
    "collapsed": false,
    "ExecuteTime": {
     "end_time": "2023-09-28T19:32:11.242555800Z",
     "start_time": "2023-09-28T19:32:11.047046Z"
    }
   }
  },
  {
   "cell_type": "markdown",
   "source": [
    "### Forest non-Forest"
   ],
   "metadata": {
    "collapsed": false
   }
  },
  {
   "cell_type": "code",
   "execution_count": 504,
   "outputs": [
    {
     "name": "stdout",
     "output_type": "stream",
     "text": [
      "Model: \"sequential_8\"\n",
      "_________________________________________________________________\n",
      " Layer (type)                Output Shape              Param #   \n",
      "=================================================================\n",
      " multi_class_naive_bayes_la  (None, 2)                 48        \n",
      " yer_8 (MultiClassNaiveBaye                                      \n",
      " sLayer)                                                         \n",
      "                                                                 \n",
      " activation_8 (Activation)   (None, 2)                 0         \n",
      "                                                                 \n",
      "=================================================================\n",
      "Total params: 48 (192.00 Byte)\n",
      "Trainable params: 0 (0.00 Byte)\n",
      "Non-trainable params: 48 (192.00 Byte)\n",
      "_________________________________________________________________\n"
     ]
    }
   ],
   "source": [
    "model_new_gnb_binary_2 = tf.keras.models.Sequential([\n",
    "    layers.naive_bayes.MultiClassNaiveBayesLayer(num_features=12, num_of_categories=2, input_shape=(12,)),\n",
    "    Activation(\"softmax\")\n",
    "])\n",
    "\n",
    "# Assuming you've trained or set the weights, you can then save the model:\n",
    "#save_model(model, 'naive_bayes_model.h5')\n",
    "model_new_gnb_binary_2.compile(loss='categorical_crossentropy', optimizer='adam', metrics=['accuracy', 'mse'])\n",
    "model_new_gnb_binary_2.summary()"
   ],
   "metadata": {
    "collapsed": false,
    "ExecuteTime": {
     "end_time": "2023-09-28T19:33:01.244224500Z",
     "start_time": "2023-09-28T19:33:01.054379200Z"
    }
   }
  },
  {
   "cell_type": "code",
   "execution_count": 505,
   "outputs": [],
   "source": [
    "y_train_2 = y_binary_cl_train.copy()"
   ],
   "metadata": {
    "collapsed": false,
    "ExecuteTime": {
     "end_time": "2023-09-28T19:35:32.173515900Z",
     "start_time": "2023-09-28T19:35:31.875335500Z"
    }
   }
  },
  {
   "cell_type": "code",
   "execution_count": 507,
   "outputs": [],
   "source": [
    "y_water_idx = np.where(y_train_2 == 1)[0]"
   ],
   "metadata": {
    "collapsed": false,
    "ExecuteTime": {
     "end_time": "2023-09-28T19:35:45.507116700Z",
     "start_time": "2023-09-28T19:35:45.375985400Z"
    }
   }
  },
  {
   "cell_type": "code",
   "execution_count": 508,
   "outputs": [],
   "source": [
    "x_train_2 = np.delete(x_binary_cl_train, y_water_idx, axis=0)"
   ],
   "metadata": {
    "collapsed": false,
    "ExecuteTime": {
     "end_time": "2023-09-28T19:36:11.924236700Z",
     "start_time": "2023-09-28T19:36:11.624078900Z"
    }
   }
  },
  {
   "cell_type": "code",
   "execution_count": 509,
   "outputs": [
    {
     "data": {
      "text/plain": "1"
     },
     "execution_count": 509,
     "metadata": {},
     "output_type": "execute_result"
    }
   ],
   "source": [
    "y_train_2.min()"
   ],
   "metadata": {
    "collapsed": false,
    "ExecuteTime": {
     "end_time": "2023-09-28T19:36:19.753869200Z",
     "start_time": "2023-09-28T19:36:19.643009100Z"
    }
   }
  },
  {
   "cell_type": "code",
   "execution_count": 510,
   "outputs": [],
   "source": [
    "y_train_2_labels = np.delete(y_train_2, y_water_idx)"
   ],
   "metadata": {
    "collapsed": false,
    "ExecuteTime": {
     "end_time": "2023-09-28T19:36:36.579988Z",
     "start_time": "2023-09-28T19:36:36.201641600Z"
    }
   }
  },
  {
   "cell_type": "code",
   "execution_count": 511,
   "outputs": [],
   "source": [
    "y_train_2_labels[y_train_2_labels == 2] = 0"
   ],
   "metadata": {
    "collapsed": false,
    "ExecuteTime": {
     "end_time": "2023-09-28T19:36:43.219193900Z",
     "start_time": "2023-09-28T19:36:43.118726Z"
    }
   }
  },
  {
   "cell_type": "code",
   "execution_count": 512,
   "outputs": [],
   "source": [
    "y_train_2_labels[y_train_2_labels != 0] = 1"
   ],
   "metadata": {
    "collapsed": false,
    "ExecuteTime": {
     "end_time": "2023-09-28T19:36:44.612107400Z",
     "start_time": "2023-09-28T19:36:44.436057100Z"
    }
   }
  },
  {
   "cell_type": "code",
   "execution_count": 513,
   "outputs": [],
   "source": [
    "means_2 = []\n",
    "variances_2 = []\n",
    "\n",
    "num_classes = 2  # or however many you have\n",
    "\n",
    "for i in range(num_classes):\n",
    "    means_2.append(np.mean(x_train_2[y_train_2_labels == i], axis=0))\n",
    "    variances_2.append(np.var(x_train_2[y_train_2_labels == i], axis=0))\n",
    "\n",
    "means_2 = np.array(means_2)\n",
    "variances_2 = np.array(variances_2)"
   ],
   "metadata": {
    "collapsed": false,
    "ExecuteTime": {
     "end_time": "2023-09-28T19:36:55.677996100Z",
     "start_time": "2023-09-28T19:36:54.298630200Z"
    }
   }
  },
  {
   "cell_type": "code",
   "execution_count": 514,
   "outputs": [],
   "source": [
    "model_new_gnb_binary_2.layers[0].set_weights([means_2, variances_2])"
   ],
   "metadata": {
    "collapsed": false,
    "ExecuteTime": {
     "end_time": "2023-09-28T19:36:56.636385400Z",
     "start_time": "2023-09-28T19:36:56.508063800Z"
    }
   }
  },
  {
   "cell_type": "code",
   "execution_count": 544,
   "outputs": [],
   "source": [
    "y_binary_cl_test_2 = y_binary_cl_test.copy()"
   ],
   "metadata": {
    "collapsed": false,
    "ExecuteTime": {
     "end_time": "2023-09-28T19:43:13.621104300Z",
     "start_time": "2023-09-28T19:43:13.521364700Z"
    }
   }
  },
  {
   "cell_type": "code",
   "execution_count": 517,
   "outputs": [],
   "source": [
    "y_water_idx_tests = np.where(y_binary_cl_test_2 == 1)[0]"
   ],
   "metadata": {
    "collapsed": false,
    "ExecuteTime": {
     "end_time": "2023-09-28T19:38:14.949850100Z",
     "start_time": "2023-09-28T19:38:14.846590200Z"
    }
   }
  },
  {
   "cell_type": "code",
   "execution_count": 540,
   "outputs": [],
   "source": [
    "x_tests_2_vector = np.delete(x_binary_cl_test, y_water_idx_tests, axis=0)"
   ],
   "metadata": {
    "collapsed": false,
    "ExecuteTime": {
     "end_time": "2023-09-28T19:42:51.255462100Z",
     "start_time": "2023-09-28T19:42:51.055862Z"
    }
   }
  },
  {
   "cell_type": "code",
   "execution_count": 541,
   "outputs": [
    {
     "name": "stdout",
     "output_type": "stream",
     "text": [
      "365/365 [==============================] - 1s 3ms/step\n"
     ]
    }
   ],
   "source": [
    "nb_pred_res_core_binary_2 = model_new_gnb_binary_2.predict(x_tests_2_vector, batch_size=2048)"
   ],
   "metadata": {
    "collapsed": false,
    "ExecuteTime": {
     "end_time": "2023-09-28T19:42:52.961233900Z",
     "start_time": "2023-09-28T19:42:51.604647Z"
    }
   }
  },
  {
   "cell_type": "code",
   "execution_count": 542,
   "outputs": [],
   "source": [
    "nb_pred_res_core_binary_2_vector = tf.argmax(nb_pred_res_core_binary_2, axis=-1).numpy()"
   ],
   "metadata": {
    "collapsed": false,
    "ExecuteTime": {
     "end_time": "2023-09-28T19:43:06.149026800Z",
     "start_time": "2023-09-28T19:43:05.942050800Z"
    }
   }
  },
  {
   "cell_type": "code",
   "execution_count": 543,
   "outputs": [
    {
     "data": {
      "text/plain": "0"
     },
     "execution_count": 543,
     "metadata": {},
     "output_type": "execute_result"
    }
   ],
   "source": [
    "nb_pred_res_core_binary_2_vector.min()"
   ],
   "metadata": {
    "collapsed": false,
    "ExecuteTime": {
     "end_time": "2023-09-28T19:43:06.617175800Z",
     "start_time": "2023-09-28T19:43:06.483561200Z"
    }
   }
  },
  {
   "cell_type": "code",
   "execution_count": 536,
   "outputs": [],
   "source": [
    "#y_tests_1_vector_categories_2_replaced = y_tests_1_vector_categories_2_replaced - 1"
   ],
   "metadata": {
    "collapsed": false,
    "ExecuteTime": {
     "end_time": "2023-09-28T19:42:03.335794500Z",
     "start_time": "2023-09-28T19:42:03.159906200Z"
    }
   }
  },
  {
   "cell_type": "code",
   "execution_count": 546,
   "outputs": [],
   "source": [
    "y_binary_cl_test_2 = np.delete(y_binary_cl_test, y_water_idx_tests,axis=0)"
   ],
   "metadata": {
    "collapsed": false,
    "ExecuteTime": {
     "end_time": "2023-09-28T19:45:11.914416800Z",
     "start_time": "2023-09-28T19:45:11.630587800Z"
    }
   }
  },
  {
   "cell_type": "code",
   "execution_count": 548,
   "outputs": [],
   "source": [
    "y_binary_cl_test_2[y_binary_cl_test_2 == 2] = 0"
   ],
   "metadata": {
    "collapsed": false,
    "ExecuteTime": {
     "end_time": "2023-09-28T19:45:36.225091600Z",
     "start_time": "2023-09-28T19:45:36.034805400Z"
    }
   }
  },
  {
   "cell_type": "code",
   "execution_count": 549,
   "outputs": [],
   "source": [
    "y_binary_cl_test_2[y_binary_cl_test_2 != 0] = 1"
   ],
   "metadata": {
    "collapsed": false,
    "ExecuteTime": {
     "end_time": "2023-09-28T19:45:48.978734600Z",
     "start_time": "2023-09-28T19:45:48.803877900Z"
    }
   }
  },
  {
   "cell_type": "code",
   "execution_count": 550,
   "outputs": [
    {
     "data": {
      "text/plain": "0.9675872342249657"
     },
     "execution_count": 550,
     "metadata": {},
     "output_type": "execute_result"
    }
   ],
   "source": [
    "accuracy_score(nb_pred_res_core_binary_2_vector, y_binary_cl_test_2)"
   ],
   "metadata": {
    "collapsed": false,
    "ExecuteTime": {
     "end_time": "2023-09-28T19:45:59.802215100Z",
     "start_time": "2023-09-28T19:45:59.578159400Z"
    }
   }
  },
  {
   "cell_type": "code",
   "execution_count": 551,
   "outputs": [
    {
     "data": {
      "text/plain": "'              precision    recall  f1-score   support\\n\\n           0       0.96      0.93      0.95    236728\\n           1       0.97      0.98      0.98    509768\\n\\n    accuracy                           0.97    746496\\n   macro avg       0.97      0.96      0.96    746496\\nweighted avg       0.97      0.97      0.97    746496\\n'"
     },
     "execution_count": 551,
     "metadata": {},
     "output_type": "execute_result"
    }
   ],
   "source": [
    "classification_report(nb_pred_res_core_binary_2_vector, y_binary_cl_test_2)"
   ],
   "metadata": {
    "collapsed": false,
    "ExecuteTime": {
     "end_time": "2023-09-28T19:46:11.867967500Z",
     "start_time": "2023-09-28T19:46:10.973912600Z"
    }
   }
  },
  {
   "cell_type": "code",
   "execution_count": 552,
   "outputs": [],
   "source": [
    "pic_water_idxs = np.where(nb_binary_pic_1_cat == 0)[0]"
   ],
   "metadata": {
    "collapsed": false,
    "ExecuteTime": {
     "end_time": "2023-09-28T19:46:12.855257100Z",
     "start_time": "2023-09-28T19:46:12.763484500Z"
    }
   }
  },
  {
   "cell_type": "code",
   "execution_count": 553,
   "outputs": [
    {
     "data": {
      "text/plain": "1"
     },
     "execution_count": 553,
     "metadata": {},
     "output_type": "execute_result"
    }
   ],
   "source": [
    "nb_binary_pic_1_cat.max()"
   ],
   "metadata": {
    "collapsed": false,
    "ExecuteTime": {
     "end_time": "2023-09-28T19:46:13.568176500Z",
     "start_time": "2023-09-28T19:46:13.395917400Z"
    }
   }
  },
  {
   "cell_type": "code",
   "execution_count": 554,
   "outputs": [],
   "source": [
    "pic_without_water = np.delete(test_arr_to_pred, pic_water_idxs, axis=0)"
   ],
   "metadata": {
    "collapsed": false,
    "ExecuteTime": {
     "end_time": "2023-09-28T19:46:14.113192700Z",
     "start_time": "2023-09-28T19:46:13.947759900Z"
    }
   }
  },
  {
   "cell_type": "code",
   "execution_count": 555,
   "outputs": [
    {
     "name": "stdout",
     "output_type": "stream",
     "text": [
      "236/236 [==============================] - 1s 3ms/step\n"
     ]
    }
   ],
   "source": [
    "pic_forest_nonforest_pred = model_new_gnb_binary_2.predict(pic_without_water, batch_size=2048)"
   ],
   "metadata": {
    "collapsed": false,
    "ExecuteTime": {
     "end_time": "2023-09-28T19:46:15.730562900Z",
     "start_time": "2023-09-28T19:46:14.585047200Z"
    }
   }
  },
  {
   "cell_type": "code",
   "execution_count": 556,
   "outputs": [],
   "source": [
    "pic_forest_nonforest_pred_vector = tf.argmax(pic_forest_nonforest_pred, axis=-1).numpy()"
   ],
   "metadata": {
    "collapsed": false,
    "ExecuteTime": {
     "end_time": "2023-09-28T19:46:17.928552500Z",
     "start_time": "2023-09-28T19:46:17.711209700Z"
    }
   }
  },
  {
   "cell_type": "code",
   "execution_count": 557,
   "outputs": [
    {
     "data": {
      "text/plain": "1"
     },
     "execution_count": 557,
     "metadata": {},
     "output_type": "execute_result"
    }
   ],
   "source": [
    "pic_forest_nonforest_pred_vector.max()"
   ],
   "metadata": {
    "collapsed": false,
    "ExecuteTime": {
     "end_time": "2023-09-28T19:46:18.433395600Z",
     "start_time": "2023-09-28T19:46:18.317423500Z"
    }
   }
  },
  {
   "cell_type": "code",
   "execution_count": 558,
   "outputs": [],
   "source": [
    "pic_forest_nonforest_pred_vector_tocombine = pic_forest_nonforest_pred_vector.copy()"
   ],
   "metadata": {
    "collapsed": false,
    "ExecuteTime": {
     "end_time": "2023-09-28T19:46:18.867903300Z",
     "start_time": "2023-09-28T19:46:18.740400300Z"
    }
   }
  },
  {
   "cell_type": "code",
   "execution_count": 559,
   "outputs": [],
   "source": [
    "pic_forest_nonforest_pred_vector_tocombine = pic_forest_nonforest_pred_vector_tocombine + 1"
   ],
   "metadata": {
    "collapsed": false,
    "ExecuteTime": {
     "end_time": "2023-09-28T19:46:19.478654700Z",
     "start_time": "2023-09-28T19:46:19.378559100Z"
    }
   }
  },
  {
   "cell_type": "code",
   "execution_count": 560,
   "outputs": [
    {
     "data": {
      "text/plain": "916250"
     },
     "execution_count": 560,
     "metadata": {},
     "output_type": "execute_result"
    }
   ],
   "source": [
    "nb_binary_pic_1_cat.shape[0]"
   ],
   "metadata": {
    "collapsed": false,
    "ExecuteTime": {
     "end_time": "2023-09-28T19:46:19.916601700Z",
     "start_time": "2023-09-28T19:46:19.803664200Z"
    }
   }
  },
  {
   "cell_type": "code",
   "execution_count": 561,
   "outputs": [],
   "source": [
    "combined_vec = np.empty(nb_binary_pic_1_cat.shape[0], dtype=int)"
   ],
   "metadata": {
    "collapsed": false,
    "ExecuteTime": {
     "end_time": "2023-09-28T19:46:22.246887700Z",
     "start_time": "2023-09-28T19:46:22.152031200Z"
    }
   }
  },
  {
   "cell_type": "code",
   "execution_count": 562,
   "outputs": [],
   "source": [
    "combined_vec[pic_water_idxs] = 0"
   ],
   "metadata": {
    "collapsed": false,
    "ExecuteTime": {
     "end_time": "2023-09-28T19:46:22.775319900Z",
     "start_time": "2023-09-28T19:46:22.594280500Z"
    }
   }
  },
  {
   "cell_type": "code",
   "execution_count": 563,
   "outputs": [],
   "source": [
    "other_idxs = np.setdiff1d(np.arange(nb_binary_pic_1_cat.shape[0]), pic_water_idxs)"
   ],
   "metadata": {
    "collapsed": false,
    "ExecuteTime": {
     "end_time": "2023-09-28T19:46:23.281939100Z",
     "start_time": "2023-09-28T19:46:23.053440300Z"
    }
   }
  },
  {
   "cell_type": "code",
   "execution_count": 564,
   "outputs": [],
   "source": [
    "combined_vec[other_idxs] = pic_forest_nonforest_pred_vector_tocombine"
   ],
   "metadata": {
    "collapsed": false,
    "ExecuteTime": {
     "end_time": "2023-09-28T19:46:23.712338600Z",
     "start_time": "2023-09-28T19:46:23.595949300Z"
    }
   }
  },
  {
   "cell_type": "code",
   "execution_count": 565,
   "outputs": [],
   "source": [
    "combined_vec = combined_vec + 1"
   ],
   "metadata": {
    "collapsed": false,
    "ExecuteTime": {
     "end_time": "2023-09-28T19:46:24.159695200Z",
     "start_time": "2023-09-28T19:46:24.048527300Z"
    }
   }
  },
  {
   "cell_type": "code",
   "execution_count": 566,
   "outputs": [],
   "source": [
    "combined_pic_1 = combined_vec.reshape(733,1250)"
   ],
   "metadata": {
    "collapsed": false,
    "ExecuteTime": {
     "end_time": "2023-09-28T19:46:24.553262100Z",
     "start_time": "2023-09-28T19:46:24.457527400Z"
    }
   }
  },
  {
   "cell_type": "code",
   "execution_count": 567,
   "outputs": [
    {
     "data": {
      "text/plain": "<matplotlib.legend.Legend at 0x7fcc2c4fbe90>"
     },
     "execution_count": 567,
     "metadata": {},
     "output_type": "execute_result"
    },
    {
     "data": {
      "text/plain": "<Figure size 640x480 with 1 Axes>",
      "image/png": "[encoded data removed]"
     },
     "metadata": {},
     "output_type": "display_data"
    }
   ],
   "source": [
    "from matplotlib.colors import ListedColormap\n",
    "import earthpy.plot as ep\n",
    "import matplotlib.pyplot as plt\n",
    "\n",
    "# im = ep.plot_bands(nb_binary_pic_1_pic,\n",
    "#                    vmin=1, vmax=6,\n",
    "#               cmap=ListedColormap(['green', 'purple', 'orange', 'blue', 'yellow','red']))\n",
    "#ep.make_col_list()\n",
    "im = plt.imshow(combined_pic_1,\n",
    "           vmin=1,vmax=6,\n",
    "               cmap=ListedColormap(['blue', 'green', 'orange', 'grey', 'yellow','brown']))\n",
    "ep.draw_legend(im_ax = im, titles = [\"water\",\"forest\", \"other\"])"
   ],
   "metadata": {
    "collapsed": false,
    "ExecuteTime": {
     "end_time": "2023-09-28T19:46:25.555396900Z",
     "start_time": "2023-09-28T19:46:25.182783400Z"
    }
   }
  },
  {
   "cell_type": "code",
   "execution_count": 568,
   "outputs": [],
   "source": [
    "y_tests_1_vector_categories_water_forest = y_tests_1_vector_categories.copy()"
   ],
   "metadata": {
    "collapsed": false,
    "ExecuteTime": {
     "end_time": "2023-09-28T19:46:32.994164800Z",
     "start_time": "2023-09-28T19:46:32.835371500Z"
    }
   }
  },
  {
   "cell_type": "code",
   "execution_count": 121,
   "outputs": [],
   "source": [],
   "metadata": {
    "collapsed": false,
    "ExecuteTime": {
     "end_time": "2023-09-27T20:58:37.640099100Z",
     "start_time": "2023-09-27T20:58:37.524516800Z"
    }
   }
  },
  {
   "cell_type": "markdown",
   "source": [
    "### Fields non-fiedls"
   ],
   "metadata": {
    "collapsed": false
   }
  },
  {
   "cell_type": "code",
   "execution_count": 154,
   "outputs": [
    {
     "data": {
      "text/plain": "1"
     },
     "execution_count": 154,
     "metadata": {},
     "output_type": "execute_result"
    }
   ],
   "source": [
    "y_train_2_labels.max()"
   ],
   "metadata": {
    "collapsed": false,
    "ExecuteTime": {
     "end_time": "2023-09-28T09:59:50.403483500Z",
     "start_time": "2023-09-28T09:59:50.307212600Z"
    }
   }
  },
  {
   "cell_type": "code",
   "execution_count": 155,
   "outputs": [],
   "source": [
    "# y_train_forests_idx = np.where(y_train_2_labels == 0)[0]"
   ],
   "metadata": {
    "collapsed": false,
    "ExecuteTime": {
     "end_time": "2023-09-28T09:59:50.898219300Z",
     "start_time": "2023-09-28T09:59:50.799592500Z"
    }
   }
  },
  {
   "cell_type": "code",
   "execution_count": 155,
   "outputs": [],
   "source": [],
   "metadata": {
    "collapsed": false,
    "ExecuteTime": {
     "end_time": "2023-09-28T09:59:51.227753600Z",
     "start_time": "2023-09-28T09:59:51.143215700Z"
    }
   }
  },
  {
   "cell_type": "code",
   "execution_count": 578,
   "outputs": [],
   "source": [
    "y_int_labels_3 = y_binary_cl_train.copy()"
   ],
   "metadata": {
    "collapsed": false,
    "ExecuteTime": {
     "end_time": "2023-09-28T19:50:03.443398100Z",
     "start_time": "2023-09-28T19:50:03.191859200Z"
    }
   }
  },
  {
   "cell_type": "code",
   "execution_count": 579,
   "outputs": [],
   "source": [
    "y_traint_forest_idx = np.where(y_int_labels_3 == 2)[0]"
   ],
   "metadata": {
    "collapsed": false,
    "ExecuteTime": {
     "end_time": "2023-09-28T19:50:03.980490900Z",
     "start_time": "2023-09-28T19:50:03.776736600Z"
    }
   }
  },
  {
   "cell_type": "code",
   "execution_count": 580,
   "outputs": [],
   "source": [
    "index_to_exclude_train_3 = np.concatenate([y_water_idx, y_traint_forest_idx])"
   ],
   "metadata": {
    "collapsed": false,
    "ExecuteTime": {
     "end_time": "2023-09-28T19:50:06.019461300Z",
     "start_time": "2023-09-28T19:50:05.294936400Z"
    }
   }
  },
  {
   "cell_type": "code",
   "execution_count": 581,
   "outputs": [],
   "source": [
    "x_train_3 = np.delete(x_binary_cl_train, index_to_exclude_train_3, axis=0)"
   ],
   "metadata": {
    "collapsed": false,
    "ExecuteTime": {
     "end_time": "2023-09-28T19:50:06.171147700Z",
     "start_time": "2023-09-28T19:50:05.924944700Z"
    }
   }
  },
  {
   "cell_type": "code",
   "execution_count": 582,
   "outputs": [],
   "source": [
    "y_train_3 = np.delete(y_binary_cl_train, index_to_exclude_train_3, axis=0)"
   ],
   "metadata": {
    "collapsed": false,
    "ExecuteTime": {
     "end_time": "2023-09-28T19:50:06.702831200Z",
     "start_time": "2023-09-28T19:50:06.529787800Z"
    }
   }
  },
  {
   "cell_type": "code",
   "execution_count": 583,
   "outputs": [],
   "source": [
    "y_train_3_cat = y_train_3"
   ],
   "metadata": {
    "collapsed": false,
    "ExecuteTime": {
     "end_time": "2023-09-28T19:50:07.400911100Z",
     "start_time": "2023-09-28T19:50:07.276194200Z"
    }
   }
  },
  {
   "cell_type": "code",
   "execution_count": 584,
   "outputs": [
    {
     "data": {
      "text/plain": "3"
     },
     "execution_count": 584,
     "metadata": {},
     "output_type": "execute_result"
    }
   ],
   "source": [
    "y_train_3_cat.min()"
   ],
   "metadata": {
    "collapsed": false,
    "ExecuteTime": {
     "end_time": "2023-09-28T19:50:08.199482800Z",
     "start_time": "2023-09-28T19:50:08.102880400Z"
    }
   }
  },
  {
   "cell_type": "code",
   "execution_count": 585,
   "outputs": [],
   "source": [
    "y_train_3_cat[y_train_3_cat == 3] = 0\n",
    "y_train_3_cat[y_train_3_cat != 0] = 1"
   ],
   "metadata": {
    "collapsed": false,
    "ExecuteTime": {
     "end_time": "2023-09-28T19:50:11.036727700Z",
     "start_time": "2023-09-28T19:50:10.812334700Z"
    }
   }
  },
  {
   "cell_type": "code",
   "execution_count": 586,
   "outputs": [
    {
     "name": "stdout",
     "output_type": "stream",
     "text": [
      "Model: \"sequential_9\"\n",
      "_________________________________________________________________\n",
      " Layer (type)                Output Shape              Param #   \n",
      "=================================================================\n",
      " multi_class_naive_bayes_la  (None, 2)                 48        \n",
      " yer_9 (MultiClassNaiveBaye                                      \n",
      " sLayer)                                                         \n",
      "                                                                 \n",
      " activation_9 (Activation)   (None, 2)                 0         \n",
      "                                                                 \n",
      "=================================================================\n",
      "Total params: 48 (192.00 Byte)\n",
      "Trainable params: 0 (0.00 Byte)\n",
      "Non-trainable params: 48 (192.00 Byte)\n",
      "_________________________________________________________________\n"
     ]
    }
   ],
   "source": [
    "model_new_gnb_binary_3 = tf.keras.models.Sequential([\n",
    "    layers.naive_bayes.MultiClassNaiveBayesLayer(num_features=12, num_of_categories=2, input_shape=(12,)),\n",
    "    Activation(\"softmax\")\n",
    "])\n",
    "\n",
    "# Assuming you've trained or set the weights, you can then save the model:\n",
    "#save_model(model, 'naive_bayes_model.h5')\n",
    "model_new_gnb_binary_3.compile(loss='categorical_crossentropy', optimizer='adam', metrics=['accuracy', 'mse'])\n",
    "model_new_gnb_binary_3.summary()"
   ],
   "metadata": {
    "collapsed": false,
    "ExecuteTime": {
     "end_time": "2023-09-28T19:50:13.176369300Z",
     "start_time": "2023-09-28T19:50:12.935991300Z"
    }
   }
  },
  {
   "cell_type": "code",
   "execution_count": 587,
   "outputs": [],
   "source": [
    "means_3 = []\n",
    "variances_3 = []\n",
    "\n",
    "num_classes = 2  # or however many you have\n",
    "\n",
    "for i in range(num_classes):\n",
    "    means_3.append(np.mean(x_train_3[y_train_3_cat == i], axis=0))\n",
    "    variances_3.append(np.var(x_train_3[y_train_3_cat == i], axis=0))\n",
    "\n",
    "means_3 = np.array(means_3)\n",
    "variances_3 = np.array(variances_3)"
   ],
   "metadata": {
    "collapsed": false,
    "ExecuteTime": {
     "end_time": "2023-09-28T19:50:16.786276200Z",
     "start_time": "2023-09-28T19:50:16.350759400Z"
    }
   }
  },
  {
   "cell_type": "code",
   "execution_count": 588,
   "outputs": [],
   "source": [
    "model_new_gnb_binary_3.layers[0].set_weights([means_3, variances_3])"
   ],
   "metadata": {
    "collapsed": false,
    "ExecuteTime": {
     "end_time": "2023-09-28T19:50:19.714810200Z",
     "start_time": "2023-09-28T19:50:19.585951100Z"
    }
   }
  },
  {
   "cell_type": "code",
   "execution_count": 589,
   "outputs": [],
   "source": [
    "y_test_forest_idx = np.where(y_binary_cl_test == 2)[0]"
   ],
   "metadata": {
    "collapsed": false,
    "ExecuteTime": {
     "end_time": "2023-09-28T19:50:39.923033200Z",
     "start_time": "2023-09-28T19:50:39.777343Z"
    }
   }
  },
  {
   "cell_type": "code",
   "execution_count": 590,
   "outputs": [],
   "source": [
    "y_test_exclude_idx_3 = np.concatenate([y_water_idx_tests, y_test_forest_idx])"
   ],
   "metadata": {
    "collapsed": false,
    "ExecuteTime": {
     "end_time": "2023-09-28T19:50:41.343700800Z",
     "start_time": "2023-09-28T19:50:41.242640900Z"
    }
   }
  },
  {
   "cell_type": "code",
   "execution_count": 591,
   "outputs": [],
   "source": [
    "x_test_3 = np.delete(x_binary_cl_test, y_test_exclude_idx_3, axis=0)"
   ],
   "metadata": {
    "collapsed": false,
    "ExecuteTime": {
     "end_time": "2023-09-28T19:50:51.868009600Z",
     "start_time": "2023-09-28T19:50:51.666289700Z"
    }
   }
  },
  {
   "cell_type": "code",
   "execution_count": 592,
   "outputs": [
    {
     "data": {
      "text/plain": "(516710, 12)"
     },
     "execution_count": 592,
     "metadata": {},
     "output_type": "execute_result"
    }
   ],
   "source": [
    "x_test_3.shape"
   ],
   "metadata": {
    "collapsed": false,
    "ExecuteTime": {
     "end_time": "2023-09-28T19:50:52.737558Z",
     "start_time": "2023-09-28T19:50:52.630220200Z"
    }
   }
  },
  {
   "cell_type": "code",
   "execution_count": 593,
   "outputs": [],
   "source": [
    "y_test_3 = np.delete(y_binary_cl_test, y_test_exclude_idx_3, axis=0)"
   ],
   "metadata": {
    "collapsed": false,
    "ExecuteTime": {
     "end_time": "2023-09-28T19:51:05.823286900Z",
     "start_time": "2023-09-28T19:51:05.638833800Z"
    }
   }
  },
  {
   "cell_type": "code",
   "execution_count": 594,
   "outputs": [
    {
     "name": "stdout",
     "output_type": "stream",
     "text": [
      "253/253 [==============================] - 1s 3ms/step\n"
     ]
    }
   ],
   "source": [
    "test_3_pred = model_new_gnb_binary_3.predict(x_test_3, batch_size=2048)"
   ],
   "metadata": {
    "collapsed": false,
    "ExecuteTime": {
     "end_time": "2023-09-28T19:51:15.306164100Z",
     "start_time": "2023-09-28T19:51:13.793900500Z"
    }
   }
  },
  {
   "cell_type": "code",
   "execution_count": 595,
   "outputs": [],
   "source": [
    "test_3_pred_cat = tf.argmax(test_3_pred, axis=-1).numpy()"
   ],
   "metadata": {
    "collapsed": false,
    "ExecuteTime": {
     "end_time": "2023-09-28T19:51:19.586907900Z",
     "start_time": "2023-09-28T19:51:19.512884300Z"
    }
   }
  },
  {
   "cell_type": "code",
   "execution_count": 597,
   "outputs": [
    {
     "data": {
      "text/plain": "3"
     },
     "execution_count": 597,
     "metadata": {},
     "output_type": "execute_result"
    }
   ],
   "source": [
    "y_test_3.min()"
   ],
   "metadata": {
    "collapsed": false,
    "ExecuteTime": {
     "end_time": "2023-09-28T19:51:29.051101200Z",
     "start_time": "2023-09-28T19:51:28.957677700Z"
    }
   }
  },
  {
   "cell_type": "code",
   "execution_count": 598,
   "outputs": [],
   "source": [
    "y_test_3[y_test_3 == 3] = 0\n",
    "y_test_3[y_test_3 != 0] = 1\n"
   ],
   "metadata": {
    "collapsed": false,
    "ExecuteTime": {
     "end_time": "2023-09-28T19:51:51.060593500Z",
     "start_time": "2023-09-28T19:51:50.895878200Z"
    }
   }
  },
  {
   "cell_type": "code",
   "execution_count": 599,
   "outputs": [
    {
     "data": {
      "text/plain": "0.7858508641210737"
     },
     "execution_count": 599,
     "metadata": {},
     "output_type": "execute_result"
    }
   ],
   "source": [
    "accuracy_score(test_3_pred_cat, y_test_3)"
   ],
   "metadata": {
    "collapsed": false,
    "ExecuteTime": {
     "end_time": "2023-09-28T19:51:58.558645500Z",
     "start_time": "2023-09-28T19:51:58.372596Z"
    }
   }
  },
  {
   "cell_type": "code",
   "execution_count": 600,
   "outputs": [],
   "source": [
    "pic_forest_idxs = np.where(combined_vec == 2)[0]"
   ],
   "metadata": {
    "collapsed": false,
    "ExecuteTime": {
     "end_time": "2023-09-28T19:52:19.367924200Z",
     "start_time": "2023-09-28T19:52:19.171757200Z"
    }
   }
  },
  {
   "cell_type": "code",
   "execution_count": 601,
   "outputs": [],
   "source": [
    "pic_idx_to_exclude_3 = np.concatenate([pic_forest_idxs, pic_water_idxs])"
   ],
   "metadata": {
    "collapsed": false,
    "ExecuteTime": {
     "end_time": "2023-09-28T19:52:19.805898800Z",
     "start_time": "2023-09-28T19:52:19.669286600Z"
    }
   }
  },
  {
   "cell_type": "code",
   "execution_count": 602,
   "outputs": [],
   "source": [
    "pic_excluded_3 = np.delete(test_arr_to_pred, pic_idx_to_exclude_3, axis=0)"
   ],
   "metadata": {
    "collapsed": false,
    "ExecuteTime": {
     "end_time": "2023-09-28T19:52:20.325545600Z",
     "start_time": "2023-09-28T19:52:20.227834600Z"
    }
   }
  },
  {
   "cell_type": "code",
   "execution_count": 603,
   "outputs": [
    {
     "name": "stdout",
     "output_type": "stream",
     "text": [
      "212/212 [==============================] - 1s 3ms/step\n"
     ]
    }
   ],
   "source": [
    "pic_prediction_3 = model_new_gnb_binary_3.predict(pic_excluded_3, batch_size=2048)"
   ],
   "metadata": {
    "collapsed": false,
    "ExecuteTime": {
     "end_time": "2023-09-28T19:52:21.735824200Z",
     "start_time": "2023-09-28T19:52:20.571812200Z"
    }
   }
  },
  {
   "cell_type": "code",
   "execution_count": 604,
   "outputs": [],
   "source": [
    "pic_prediction_3_cat = tf.argmax(pic_prediction_3, axis=-1).numpy()"
   ],
   "metadata": {
    "collapsed": false,
    "ExecuteTime": {
     "end_time": "2023-09-28T19:52:21.757334200Z",
     "start_time": "2023-09-28T19:52:21.743253500Z"
    }
   }
  },
  {
   "cell_type": "code",
   "execution_count": 605,
   "outputs": [],
   "source": [
    "pic_prediction_3_cat = pic_prediction_3_cat + 2"
   ],
   "metadata": {
    "collapsed": false,
    "ExecuteTime": {
     "end_time": "2023-09-28T19:52:22.173016500Z",
     "start_time": "2023-09-28T19:52:22.073564Z"
    }
   }
  },
  {
   "cell_type": "code",
   "execution_count": 606,
   "outputs": [],
   "source": [
    "combined_vec_3 = np.empty(nb_binary_pic_1_cat.shape[0], dtype=int)"
   ],
   "metadata": {
    "collapsed": false,
    "ExecuteTime": {
     "end_time": "2023-09-28T19:52:22.748790Z",
     "start_time": "2023-09-28T19:52:22.625704700Z"
    }
   }
  },
  {
   "cell_type": "code",
   "execution_count": 607,
   "outputs": [],
   "source": [
    "combined_vec_3[pic_water_idxs] = 0"
   ],
   "metadata": {
    "collapsed": false,
    "ExecuteTime": {
     "end_time": "2023-09-28T19:52:23.154020500Z",
     "start_time": "2023-09-28T19:52:23.016843700Z"
    }
   }
  },
  {
   "cell_type": "code",
   "execution_count": 608,
   "outputs": [],
   "source": [
    "combined_vec_3[pic_forest_idxs] = 1"
   ],
   "metadata": {
    "collapsed": false,
    "ExecuteTime": {
     "end_time": "2023-09-28T19:52:23.587756300Z",
     "start_time": "2023-09-28T19:52:23.465588600Z"
    }
   }
  },
  {
   "cell_type": "code",
   "execution_count": 609,
   "outputs": [],
   "source": [
    "other_idxs_3 = np.setdiff1d(np.arange(nb_binary_pic_1_cat.shape[0]), pic_idx_to_exclude_3)"
   ],
   "metadata": {
    "collapsed": false,
    "ExecuteTime": {
     "end_time": "2023-09-28T19:52:24.516504400Z",
     "start_time": "2023-09-28T19:52:24.381885Z"
    }
   }
  },
  {
   "cell_type": "code",
   "execution_count": 610,
   "outputs": [],
   "source": [
    "combined_vec_3[other_idxs_3] = pic_prediction_3_cat"
   ],
   "metadata": {
    "collapsed": false,
    "ExecuteTime": {
     "end_time": "2023-09-28T19:52:24.944277600Z",
     "start_time": "2023-09-28T19:52:24.818585700Z"
    }
   }
  },
  {
   "cell_type": "code",
   "execution_count": 611,
   "outputs": [],
   "source": [
    "combined_vec_3 = combined_vec_3 + 1"
   ],
   "metadata": {
    "collapsed": false,
    "ExecuteTime": {
     "end_time": "2023-09-28T19:52:25.414851900Z",
     "start_time": "2023-09-28T19:52:25.288275400Z"
    }
   }
  },
  {
   "cell_type": "code",
   "execution_count": 612,
   "outputs": [],
   "source": [
    "combined_vec_3_pic = combined_vec_3.reshape(733,1250)"
   ],
   "metadata": {
    "collapsed": false,
    "ExecuteTime": {
     "end_time": "2023-09-28T19:52:25.817257300Z",
     "start_time": "2023-09-28T19:52:25.690656Z"
    }
   }
  },
  {
   "cell_type": "code",
   "execution_count": 613,
   "outputs": [
    {
     "data": {
      "text/plain": "<matplotlib.legend.Legend at 0x7fcc2f6a9910>"
     },
     "execution_count": 613,
     "metadata": {},
     "output_type": "execute_result"
    },
    {
     "data": {
      "text/plain": "<Figure size 640x480 with 1 Axes>",
      "image/png": "[encoded data removed]"
     },
     "metadata": {},
     "output_type": "display_data"
    }
   ],
   "source": [
    "from matplotlib.colors import ListedColormap\n",
    "import earthpy.plot as ep\n",
    "import matplotlib.pyplot as plt\n",
    "\n",
    "# im = ep.plot_bands(nb_binary_pic_1_pic,\n",
    "#                    vmin=1, vmax=6,\n",
    "#               cmap=ListedColormap(['green', 'purple', 'orange', 'blue', 'yellow','red']))\n",
    "#ep.make_col_list()\n",
    "im = plt.imshow(combined_vec_3_pic,\n",
    "           vmin=1,vmax=6,\n",
    "               cmap=ListedColormap(['blue', 'green', 'orange', 'grey', 'yellow','brown']))\n",
    "ep.draw_legend(im_ax = im, titles = [\"water\",\"forest\", \"fields\", \"other\"])"
   ],
   "metadata": {
    "collapsed": false,
    "ExecuteTime": {
     "end_time": "2023-09-28T19:52:26.555508800Z",
     "start_time": "2023-09-28T19:52:26.135820100Z"
    }
   }
  },
  {
   "cell_type": "markdown",
   "source": [
    "### City non-city"
   ],
   "metadata": {
    "collapsed": false
   }
  },
  {
   "cell_type": "code",
   "execution_count": 614,
   "outputs": [
    {
     "name": "stderr",
     "output_type": "stream",
     "text": [
      "/tmp/ipykernel_1299/2175753725.py:2: DeprecationWarning: Calling nonzero on 0d arrays is deprecated, as it behaves surprisingly. Use `atleast_1d(cond).nonzero()` if the old behavior was intended. If the context of this warning is of the form `arr[nonzero(cond)]`, just use `arr[cond]`.\n",
      "  y_traint_fields_idx = np.where(y_int_labels_4 == 3)[0]\n"
     ]
    }
   ],
   "source": [
    "y_int_labels_4 = np.argmax(y_binary_cl_train, axis=-1)\n",
    "y_traint_fields_idx = np.where(y_int_labels_4 == 3)[0]"
   ],
   "metadata": {
    "collapsed": false,
    "ExecuteTime": {
     "end_time": "2023-09-28T19:53:35.061347400Z",
     "start_time": "2023-09-28T19:53:34.840503200Z"
    }
   }
  },
  {
   "cell_type": "code",
   "execution_count": 615,
   "outputs": [
    {
     "data": {
      "text/plain": "6"
     },
     "execution_count": 615,
     "metadata": {},
     "output_type": "execute_result"
    }
   ],
   "source": [
    "index_to_exclude_train_4 = np.concatenate([y_traint_fields_idx, index_to_exclude_train_3])\n",
    "x_train_4 = np.delete(x_binary_cl_train, index_to_exclude_train_4, axis=0)\n",
    "y_train_4 = np.delete(y_binary_cl_train, index_to_exclude_train_4, axis=0)\n",
    "#y_train_4_cat = np.argmax(y_train_4, axis=-1)\n",
    "y_train_4.max()"
   ],
   "metadata": {
    "collapsed": false,
    "ExecuteTime": {
     "end_time": "2023-09-28T19:54:12.456797400Z",
     "start_time": "2023-09-28T19:54:11.492878400Z"
    }
   }
  },
  {
   "cell_type": "code",
   "execution_count": 616,
   "outputs": [],
   "source": [
    "y_train_4[y_train_4 == 4] = 0\n",
    "y_train_4[y_train_4 != 0] = 1"
   ],
   "metadata": {
    "collapsed": false,
    "ExecuteTime": {
     "end_time": "2023-09-28T19:54:25.764476600Z",
     "start_time": "2023-09-28T19:54:25.589689800Z"
    }
   }
  },
  {
   "cell_type": "code",
   "execution_count": 617,
   "outputs": [
    {
     "name": "stdout",
     "output_type": "stream",
     "text": [
      "Model: \"sequential_10\"\n",
      "_________________________________________________________________\n",
      " Layer (type)                Output Shape              Param #   \n",
      "=================================================================\n",
      " multi_class_naive_bayes_la  (None, 2)                 48        \n",
      " yer_10 (MultiClassNaiveBay                                      \n",
      " esLayer)                                                        \n",
      "                                                                 \n",
      " activation_10 (Activation)  (None, 2)                 0         \n",
      "                                                                 \n",
      "=================================================================\n",
      "Total params: 48 (192.00 Byte)\n",
      "Trainable params: 0 (0.00 Byte)\n",
      "Non-trainable params: 48 (192.00 Byte)\n",
      "_________________________________________________________________\n"
     ]
    }
   ],
   "source": [
    "model_new_gnb_binary_4 = tf.keras.models.Sequential([\n",
    "    layers.naive_bayes.MultiClassNaiveBayesLayer(num_features=12, num_of_categories=2, input_shape=(12,)),\n",
    "    Activation(\"softmax\")\n",
    "])\n",
    "\n",
    "# Assuming you've trained or set the weights, you can then save the model:\n",
    "#save_model(model, 'naive_bayes_model.h5')\n",
    "model_new_gnb_binary_4.compile(loss='categorical_crossentropy', optimizer='adam', metrics=['accuracy', 'mse'])\n",
    "model_new_gnb_binary_4.summary()"
   ],
   "metadata": {
    "collapsed": false,
    "ExecuteTime": {
     "end_time": "2023-09-28T19:54:28.045263900Z",
     "start_time": "2023-09-28T19:54:27.502752200Z"
    }
   }
  },
  {
   "cell_type": "code",
   "execution_count": 618,
   "outputs": [],
   "source": [
    "means_4 = []\n",
    "variances_4 = []\n",
    "\n",
    "num_classes = 2  # or however many you have\n",
    "\n",
    "for i in range(num_classes):\n",
    "    means_4.append(np.mean(x_train_4[y_train_4 == i], axis=0))\n",
    "    variances_4.append(np.var(x_train_4[y_train_4 == i], axis=0))\n",
    "\n",
    "means_4 = np.array(means_4)\n",
    "variances_4 = np.array(variances_4)\n"
   ],
   "metadata": {
    "collapsed": false,
    "ExecuteTime": {
     "end_time": "2023-09-28T19:54:38.914446800Z",
     "start_time": "2023-09-28T19:54:37.536538100Z"
    }
   }
  },
  {
   "cell_type": "code",
   "execution_count": 619,
   "outputs": [],
   "source": [
    "model_new_gnb_binary_4.layers[0].set_weights([means_4, variances_4])"
   ],
   "metadata": {
    "collapsed": false,
    "ExecuteTime": {
     "end_time": "2023-09-28T19:54:39.961380700Z",
     "start_time": "2023-09-28T19:54:39.844470Z"
    }
   }
  },
  {
   "cell_type": "code",
   "execution_count": 620,
   "outputs": [],
   "source": [
    "y_test_fields_idx = np.where(y_binary_cl_test == 3)[0]\n",
    "y_test_exclude_idx_4 = np.concatenate([y_water_idx_tests, y_test_forest_idx, y_test_fields_idx])\n",
    "x_test_4 = np.delete(x_binary_cl_test, y_test_exclude_idx_4, axis=0)\n",
    "x_test_4.shape\n",
    "y_test_4 = np.delete(y_binary_cl_test, y_test_exclude_idx_4, axis=0)"
   ],
   "metadata": {
    "collapsed": false,
    "ExecuteTime": {
     "end_time": "2023-09-28T19:55:18.020692Z",
     "start_time": "2023-09-28T19:55:17.857787600Z"
    }
   }
  },
  {
   "cell_type": "code",
   "execution_count": 621,
   "outputs": [
    {
     "name": "stdout",
     "output_type": "stream",
     "text": [
      "99/99 [==============================] - 0s 4ms/step\n"
     ]
    }
   ],
   "source": [
    "test_4_pred = model_new_gnb_binary_4.predict(x_test_4, batch_size=2048)"
   ],
   "metadata": {
    "collapsed": false,
    "ExecuteTime": {
     "end_time": "2023-09-28T19:55:23.185182300Z",
     "start_time": "2023-09-28T19:55:22.381018Z"
    }
   }
  },
  {
   "cell_type": "code",
   "execution_count": 622,
   "outputs": [],
   "source": [
    "test_4_pred_cat = tf.argmax(test_4_pred, axis=-1).numpy()"
   ],
   "metadata": {
    "collapsed": false,
    "ExecuteTime": {
     "end_time": "2023-09-28T19:55:44.947115Z",
     "start_time": "2023-09-28T19:55:44.721749Z"
    }
   }
  },
  {
   "cell_type": "code",
   "execution_count": 623,
   "outputs": [],
   "source": [
    "y_test_4[y_test_4 == 4] = 0\n",
    "y_test_4[y_test_4 != 0] = 1"
   ],
   "metadata": {
    "collapsed": false,
    "ExecuteTime": {
     "end_time": "2023-09-28T19:55:59.034847100Z",
     "start_time": "2023-09-28T19:55:58.908142400Z"
    }
   }
  },
  {
   "cell_type": "code",
   "execution_count": 624,
   "outputs": [
    {
     "data": {
      "text/plain": "0.8942449922577262"
     },
     "execution_count": 624,
     "metadata": {},
     "output_type": "execute_result"
    }
   ],
   "source": [
    "accuracy_score(test_4_pred_cat, y_test_4)"
   ],
   "metadata": {
    "collapsed": false,
    "ExecuteTime": {
     "end_time": "2023-09-28T19:56:04.773711500Z",
     "start_time": "2023-09-28T19:56:04.558117Z"
    }
   }
  },
  {
   "cell_type": "code",
   "execution_count": 625,
   "outputs": [],
   "source": [
    "pic_fields_idxs = np.where(combined_vec_3 == 3)[0]\n",
    "pic_idx_to_exclude_4 = np.concatenate([pic_idx_to_exclude_3, pic_fields_idxs])\n",
    "pic_excluded_4 = np.delete(test_arr_to_pred, pic_idx_to_exclude_4, axis=0)"
   ],
   "metadata": {
    "collapsed": false,
    "ExecuteTime": {
     "end_time": "2023-09-28T19:56:10.589260800Z",
     "start_time": "2023-09-28T19:56:10.434943300Z"
    }
   }
  },
  {
   "cell_type": "code",
   "execution_count": 626,
   "outputs": [
    {
     "data": {
      "text/plain": "(15340, 12)"
     },
     "execution_count": 626,
     "metadata": {},
     "output_type": "execute_result"
    }
   ],
   "source": [
    "pic_excluded_4.shape"
   ],
   "metadata": {
    "collapsed": false,
    "ExecuteTime": {
     "end_time": "2023-09-28T19:56:11.050990Z",
     "start_time": "2023-09-28T19:56:10.945220Z"
    }
   }
  },
  {
   "cell_type": "code",
   "execution_count": 627,
   "outputs": [
    {
     "name": "stdout",
     "output_type": "stream",
     "text": [
      "8/8 [==============================] - 0s 3ms/step\n"
     ]
    }
   ],
   "source": [
    "pic_prediction_4 = model_new_gnb_binary_4.predict(pic_excluded_4, batch_size=2048)"
   ],
   "metadata": {
    "collapsed": false,
    "ExecuteTime": {
     "end_time": "2023-09-28T19:56:11.524079700Z",
     "start_time": "2023-09-28T19:56:11.340143900Z"
    }
   }
  },
  {
   "cell_type": "code",
   "execution_count": 628,
   "outputs": [],
   "source": [
    "pic_prediction_4_cat = tf.argmax(pic_prediction_4, axis=-1).numpy()\n",
    "pic_prediction_4_cat = pic_prediction_4_cat + 3"
   ],
   "metadata": {
    "collapsed": false,
    "ExecuteTime": {
     "end_time": "2023-09-28T19:56:11.968956500Z",
     "start_time": "2023-09-28T19:56:11.773789200Z"
    }
   }
  },
  {
   "cell_type": "code",
   "execution_count": 629,
   "outputs": [
    {
     "data": {
      "text/plain": "15340"
     },
     "execution_count": 629,
     "metadata": {},
     "output_type": "execute_result"
    }
   ],
   "source": [
    "len(pic_prediction_4_cat == 4)"
   ],
   "metadata": {
    "collapsed": false,
    "ExecuteTime": {
     "end_time": "2023-09-28T19:56:12.342655600Z",
     "start_time": "2023-09-28T19:56:12.176331500Z"
    }
   }
  },
  {
   "cell_type": "code",
   "execution_count": 630,
   "outputs": [
    {
     "data": {
      "text/plain": "4"
     },
     "execution_count": 630,
     "metadata": {},
     "output_type": "execute_result"
    }
   ],
   "source": [
    "pic_prediction_4_cat.max()"
   ],
   "metadata": {
    "collapsed": false,
    "ExecuteTime": {
     "end_time": "2023-09-28T19:56:12.878595700Z",
     "start_time": "2023-09-28T19:56:12.766298500Z"
    }
   }
  },
  {
   "cell_type": "code",
   "execution_count": 631,
   "outputs": [],
   "source": [
    "combined_vec_4 = np.empty(nb_binary_pic_1_cat.shape[0], dtype=int)\n",
    "combined_vec_4[pic_water_idxs] = 0\n",
    "combined_vec_4[pic_forest_idxs] = 1\n",
    "combined_vec_4[pic_fields_idxs] = 2"
   ],
   "metadata": {
    "collapsed": false,
    "ExecuteTime": {
     "end_time": "2023-09-28T19:56:13.421286900Z",
     "start_time": "2023-09-28T19:56:13.308253800Z"
    }
   }
  },
  {
   "cell_type": "code",
   "execution_count": 632,
   "outputs": [],
   "source": [
    "other_idxs_4 = np.setdiff1d(np.arange(nb_binary_pic_1_cat.shape[0]), pic_idx_to_exclude_4)"
   ],
   "metadata": {
    "collapsed": false,
    "ExecuteTime": {
     "end_time": "2023-09-28T19:56:14.047330500Z",
     "start_time": "2023-09-28T19:56:13.637940700Z"
    }
   }
  },
  {
   "cell_type": "code",
   "execution_count": 633,
   "outputs": [],
   "source": [
    "combined_vec_4[other_idxs_4] = pic_prediction_4_cat"
   ],
   "metadata": {
    "collapsed": false,
    "ExecuteTime": {
     "end_time": "2023-09-28T19:56:14.256338700Z",
     "start_time": "2023-09-28T19:56:13.952417900Z"
    }
   }
  },
  {
   "cell_type": "code",
   "execution_count": 634,
   "outputs": [],
   "source": [
    "combined_vec_4 = combined_vec_4 + 1"
   ],
   "metadata": {
    "collapsed": false,
    "ExecuteTime": {
     "end_time": "2023-09-28T19:56:14.416293900Z",
     "start_time": "2023-09-28T19:56:14.180235100Z"
    }
   }
  },
  {
   "cell_type": "code",
   "execution_count": 635,
   "outputs": [],
   "source": [
    "combined_vec_4_pic = combined_vec_4.reshape(733,1250)"
   ],
   "metadata": {
    "collapsed": false,
    "ExecuteTime": {
     "end_time": "2023-09-28T19:56:14.711704300Z",
     "start_time": "2023-09-28T19:56:14.476309200Z"
    }
   }
  },
  {
   "cell_type": "code",
   "execution_count": 636,
   "outputs": [
    {
     "data": {
      "text/plain": "5"
     },
     "execution_count": 636,
     "metadata": {},
     "output_type": "execute_result"
    }
   ],
   "source": [
    "combined_vec_4_pic.max()"
   ],
   "metadata": {
    "collapsed": false,
    "ExecuteTime": {
     "end_time": "2023-09-28T19:56:15.068535900Z",
     "start_time": "2023-09-28T19:56:14.828358200Z"
    }
   }
  },
  {
   "cell_type": "code",
   "execution_count": 637,
   "outputs": [
    {
     "data": {
      "text/plain": "<matplotlib.legend.Legend at 0x7fcc2c2cea90>"
     },
     "execution_count": 637,
     "metadata": {},
     "output_type": "execute_result"
    },
    {
     "data": {
      "text/plain": "<Figure size 640x480 with 1 Axes>",
      "image/png": "[encoded data removed]"
     },
     "metadata": {},
     "output_type": "display_data"
    }
   ],
   "source": [
    "from matplotlib.colors import ListedColormap\n",
    "import earthpy.plot as ep\n",
    "import matplotlib.pyplot as plt\n",
    "\n",
    "# im = ep.plot_bands(nb_binary_pic_1_pic,\n",
    "#                    vmin=1, vmax=6,\n",
    "#               cmap=ListedColormap(['green', 'purple', 'orange', 'blue', 'yellow','red']))\n",
    "#ep.make_col_list()\n",
    "im = plt.imshow(combined_vec_4_pic,\n",
    "           vmin=1,vmax=6,\n",
    "               cmap=ListedColormap(['blue', 'green', 'orange', 'red', 'yellow','brown']))\n",
    "ep.draw_legend(im_ax = im, titles = [\"water\",\"forest\", \"fields\", \"city\", \"sands\"])"
   ],
   "metadata": {
    "collapsed": false,
    "ExecuteTime": {
     "end_time": "2023-09-28T19:56:16.408066900Z",
     "start_time": "2023-09-28T19:56:16.021784400Z"
    }
   }
  },
  {
   "cell_type": "markdown",
   "source": [
    "### Sands non-Sands"
   ],
   "metadata": {
    "collapsed": false
   }
  },
  {
   "cell_type": "code",
   "execution_count": 638,
   "outputs": [
    {
     "name": "stderr",
     "output_type": "stream",
     "text": [
      "/tmp/ipykernel_1299/4130145142.py:2: DeprecationWarning: Calling nonzero on 0d arrays is deprecated, as it behaves surprisingly. Use `atleast_1d(cond).nonzero()` if the old behavior was intended. If the context of this warning is of the form `arr[nonzero(cond)]`, just use `arr[cond]`.\n",
      "  y_traint_cities_idx = np.where(y_int_labels_5 == 4)[0]\n"
     ]
    }
   ],
   "source": [
    "y_int_labels_5 = np.argmax(y_binary_cl_train, axis=-1)\n",
    "y_traint_cities_idx = np.where(y_int_labels_5 == 4)[0]"
   ],
   "metadata": {
    "collapsed": false,
    "ExecuteTime": {
     "end_time": "2023-09-28T19:56:31.912702700Z",
     "start_time": "2023-09-28T19:56:31.804923Z"
    }
   }
  },
  {
   "cell_type": "code",
   "execution_count": 639,
   "outputs": [],
   "source": [
    "index_to_exclude_train_5 = np.concatenate([y_traint_cities_idx, index_to_exclude_train_4])\n",
    "x_train_5 = np.delete(x_binary_cl_train, index_to_exclude_train_5, axis=0)\n",
    "y_train_5 = np.delete(y_binary_cl_train, index_to_exclude_train_5, axis=0)"
   ],
   "metadata": {
    "collapsed": false,
    "ExecuteTime": {
     "end_time": "2023-09-28T19:56:52.165895900Z",
     "start_time": "2023-09-28T19:56:50.722201300Z"
    }
   }
  },
  {
   "cell_type": "code",
   "execution_count": 640,
   "outputs": [],
   "source": [
    "y_train_5[y_train_5 == 5] = 0\n",
    "y_train_5[y_train_5 != 0] = 1"
   ],
   "metadata": {
    "collapsed": false,
    "ExecuteTime": {
     "end_time": "2023-09-28T19:57:04.395996700Z",
     "start_time": "2023-09-28T19:57:04.188059900Z"
    }
   }
  },
  {
   "cell_type": "code",
   "execution_count": 641,
   "outputs": [
    {
     "name": "stdout",
     "output_type": "stream",
     "text": [
      "Model: \"sequential_11\"\n",
      "_________________________________________________________________\n",
      " Layer (type)                Output Shape              Param #   \n",
      "=================================================================\n",
      " multi_class_naive_bayes_la  (None, 2)                 48        \n",
      " yer_11 (MultiClassNaiveBay                                      \n",
      " esLayer)                                                        \n",
      "                                                                 \n",
      " activation_11 (Activation)  (None, 2)                 0         \n",
      "                                                                 \n",
      "=================================================================\n",
      "Total params: 48 (192.00 Byte)\n",
      "Trainable params: 0 (0.00 Byte)\n",
      "Non-trainable params: 48 (192.00 Byte)\n",
      "_________________________________________________________________\n"
     ]
    }
   ],
   "source": [
    "model_new_gnb_binary_5 = tf.keras.models.Sequential([\n",
    "    layers.naive_bayes.MultiClassNaiveBayesLayer(num_features=12, num_of_categories=2, input_shape=(12,)),\n",
    "    Activation(\"softmax\")\n",
    "])\n",
    "\n",
    "# Assuming you've trained or set the weights, you can then save the model:\n",
    "#save_model(model, 'naive_bayes_model.h5')\n",
    "model_new_gnb_binary_5.compile(loss='categorical_crossentropy', optimizer='adam', metrics=['accuracy', 'mse'])\n",
    "model_new_gnb_binary_5.summary()"
   ],
   "metadata": {
    "collapsed": false,
    "ExecuteTime": {
     "end_time": "2023-09-28T19:57:04.915606400Z",
     "start_time": "2023-09-28T19:57:04.683326800Z"
    }
   }
  },
  {
   "cell_type": "code",
   "execution_count": 642,
   "outputs": [],
   "source": [
    "means_5 = []\n",
    "variances_5 = []\n",
    "\n",
    "num_classes = 2  # or however many you have\n",
    "\n",
    "for i in range(num_classes):\n",
    "    means_5.append(np.mean(x_train_5[y_train_5 == i], axis=0))\n",
    "    variances_5.append(np.var(x_train_5[y_train_5 == i], axis=0))\n",
    "\n",
    "means_5 = np.array(means_5)\n",
    "variances_5 = np.array(variances_5)"
   ],
   "metadata": {
    "collapsed": false,
    "ExecuteTime": {
     "end_time": "2023-09-28T19:57:16.311162300Z",
     "start_time": "2023-09-28T19:57:15.680702600Z"
    }
   }
  },
  {
   "cell_type": "code",
   "execution_count": 643,
   "outputs": [],
   "source": [
    "model_new_gnb_binary_5.layers[0].set_weights([means_5, variances_5])"
   ],
   "metadata": {
    "collapsed": false,
    "ExecuteTime": {
     "end_time": "2023-09-28T19:57:17.150473100Z",
     "start_time": "2023-09-28T19:57:17.011019600Z"
    }
   }
  },
  {
   "cell_type": "code",
   "execution_count": 644,
   "outputs": [],
   "source": [
    "y_test_cities_idx = np.where(y_binary_cl_test == 4)[0]\n",
    "y_test_exclude_idx_5 = np.concatenate([y_water_idx_tests, y_test_forest_idx, y_test_fields_idx, y_test_cities_idx])\n",
    "x_test_5 = np.delete(x_binary_cl_test, y_test_exclude_idx_5, axis=0)\n",
    "x_test_5.shape\n",
    "y_test_5 = np.delete(y_binary_cl_test, y_test_exclude_idx_5, axis=0)"
   ],
   "metadata": {
    "collapsed": false,
    "ExecuteTime": {
     "end_time": "2023-09-28T19:57:42.748428800Z",
     "start_time": "2023-09-28T19:57:42.552146400Z"
    }
   }
  },
  {
   "cell_type": "code",
   "execution_count": 645,
   "outputs": [
    {
     "name": "stdout",
     "output_type": "stream",
     "text": [
      "57/57 [==============================] - 0s 4ms/step\n"
     ]
    }
   ],
   "source": [
    "test_5_pred = model_new_gnb_binary_5.predict(x_test_5, batch_size=2048)"
   ],
   "metadata": {
    "collapsed": false,
    "ExecuteTime": {
     "end_time": "2023-09-28T19:57:43.976216900Z",
     "start_time": "2023-09-28T19:57:43.449952300Z"
    }
   }
  },
  {
   "cell_type": "code",
   "execution_count": 646,
   "outputs": [],
   "source": [
    "test_5_pred_cat = tf.argmax(test_5_pred, axis=-1).numpy()"
   ],
   "metadata": {
    "collapsed": false,
    "ExecuteTime": {
     "end_time": "2023-09-28T19:57:49.542379500Z",
     "start_time": "2023-09-28T19:57:49.427746800Z"
    }
   }
  },
  {
   "cell_type": "code",
   "execution_count": 647,
   "outputs": [],
   "source": [
    "y_test_5[y_test_5 == 5] = 0\n",
    "y_test_5[y_test_5 != 0] = 1"
   ],
   "metadata": {
    "collapsed": false,
    "ExecuteTime": {
     "end_time": "2023-09-28T19:58:00.440684500Z",
     "start_time": "2023-09-28T19:58:00.299174Z"
    }
   }
  },
  {
   "cell_type": "code",
   "execution_count": 648,
   "outputs": [
    {
     "data": {
      "text/plain": "0.8697565470500599"
     },
     "execution_count": 648,
     "metadata": {},
     "output_type": "execute_result"
    }
   ],
   "source": [
    "accuracy_score(test_5_pred_cat, y_test_5)"
   ],
   "metadata": {
    "collapsed": false,
    "ExecuteTime": {
     "end_time": "2023-09-28T19:58:07.527453300Z",
     "start_time": "2023-09-28T19:58:07.273782100Z"
    }
   }
  },
  {
   "cell_type": "code",
   "execution_count": 649,
   "outputs": [],
   "source": [
    "y_test_full_array = np.empty(y_tests_1_vector_categories.shape[0], dtype=int)"
   ],
   "metadata": {
    "collapsed": false,
    "ExecuteTime": {
     "end_time": "2023-09-28T19:58:09.688040500Z",
     "start_time": "2023-09-28T19:58:09.578565800Z"
    }
   }
  },
  {
   "cell_type": "markdown",
   "source": [
    "#### Check data accuray by steps"
   ],
   "metadata": {
    "collapsed": false
   }
  },
  {
   "cell_type": "markdown",
   "source": [
    "##### 1. Water - non-water"
   ],
   "metadata": {
    "collapsed": false
   }
  },
  {
   "cell_type": "code",
   "execution_count": 407,
   "outputs": [
    {
     "data": {
      "text/plain": "0.8540549853169326"
     },
     "execution_count": 407,
     "metadata": {},
     "output_type": "execute_result"
    }
   ],
   "source": [
    "accuracy_score(nb_pred_res_core_binary_1_cateries.flatten(), y_tests_1_vector_categories_1.flatten())"
   ],
   "metadata": {
    "collapsed": false,
    "ExecuteTime": {
     "end_time": "2023-09-28T14:07:01.500494600Z",
     "start_time": "2023-09-28T14:07:01.315125100Z"
    }
   }
  },
  {
   "cell_type": "markdown",
   "source": [
    "##### 2. Forest - non-forest"
   ],
   "metadata": {
    "collapsed": false
   }
  },
  {
   "cell_type": "code",
   "execution_count": 650,
   "outputs": [],
   "source": [
    "y_water_idx_predicted_0 = np.where(nb_pred_res_core_binary_1_cateries == 0)[0]"
   ],
   "metadata": {
    "collapsed": false,
    "ExecuteTime": {
     "end_time": "2023-09-28T20:00:26.525667700Z",
     "start_time": "2023-09-28T20:00:26.325624500Z"
    }
   }
  },
  {
   "cell_type": "code",
   "execution_count": 651,
   "outputs": [],
   "source": [
    "x_tests_2_vector = np.delete(x_binary_cl_test, y_water_idx_predicted_0, axis=0)"
   ],
   "metadata": {
    "collapsed": false,
    "ExecuteTime": {
     "end_time": "2023-09-28T20:00:45.861152300Z",
     "start_time": "2023-09-28T20:00:45.675598900Z"
    }
   }
  },
  {
   "cell_type": "code",
   "execution_count": 672,
   "outputs": [],
   "source": [
    "y_tests_1_vector_categories_2 = y_binary_cl_test.copy()"
   ],
   "metadata": {
    "collapsed": false,
    "ExecuteTime": {
     "end_time": "2023-09-28T20:07:10.154215300Z",
     "start_time": "2023-09-28T20:07:10.014201400Z"
    }
   }
  },
  {
   "cell_type": "code",
   "execution_count": 673,
   "outputs": [],
   "source": [
    "#y_tests_1_vector_categories_2 = np.delete(y_tests_1_vector_categories_2, y_water_idx_predicted_0, axis=0)"
   ],
   "metadata": {
    "collapsed": false,
    "ExecuteTime": {
     "end_time": "2023-09-28T20:07:12.161881200Z",
     "start_time": "2023-09-28T20:07:11.734022600Z"
    }
   }
  },
  {
   "cell_type": "code",
   "execution_count": 674,
   "outputs": [
    {
     "name": "stdout",
     "output_type": "stream",
     "text": [
      "356/356 [==============================] - 1s 3ms/step\n"
     ]
    }
   ],
   "source": [
    "nb_tests_predict_2 = model_new_gnb_binary_2.predict(x_tests_2_vector, batch_size=2048)"
   ],
   "metadata": {
    "collapsed": false,
    "ExecuteTime": {
     "end_time": "2023-09-28T20:07:13.376454900Z",
     "start_time": "2023-09-28T20:07:12.025786Z"
    }
   }
  },
  {
   "cell_type": "code",
   "execution_count": 675,
   "outputs": [],
   "source": [
    "nb_tests_predict_2_cat = tf.argmax(nb_tests_predict_2, axis=-1).numpy()"
   ],
   "metadata": {
    "collapsed": false,
    "ExecuteTime": {
     "end_time": "2023-09-28T20:07:14.484387100Z",
     "start_time": "2023-09-28T20:07:14.360725100Z"
    }
   }
  },
  {
   "cell_type": "code",
   "execution_count": 677,
   "outputs": [
    {
     "data": {
      "text/plain": "6"
     },
     "execution_count": 677,
     "metadata": {},
     "output_type": "execute_result"
    }
   ],
   "source": [
    "y_tests_1_vector_categories_2.max()"
   ],
   "metadata": {
    "collapsed": false,
    "ExecuteTime": {
     "end_time": "2023-09-28T20:07:22.445133900Z",
     "start_time": "2023-09-28T20:07:22.329209900Z"
    }
   }
  },
  {
   "cell_type": "code",
   "execution_count": 678,
   "outputs": [],
   "source": [
    "y_tests_1_vector_categories_2[y_tests_1_vector_categories_2 == 3] = 3\n",
    "y_tests_1_vector_categories_2[y_tests_1_vector_categories_2 == 4] = 3\n",
    "y_tests_1_vector_categories_2[y_tests_1_vector_categories_2 == 5] = 3\n"
   ],
   "metadata": {
    "collapsed": false,
    "ExecuteTime": {
     "end_time": "2023-09-28T20:07:31.875603800Z",
     "start_time": "2023-09-28T20:07:31.604861200Z"
    }
   }
  },
  {
   "cell_type": "code",
   "execution_count": 679,
   "outputs": [],
   "source": [
    "y_pred_2_combined = np.empty(x_binary_cl_test.shape[0], dtype=int)"
   ],
   "metadata": {
    "collapsed": false,
    "ExecuteTime": {
     "end_time": "2023-09-28T20:07:38.628616600Z",
     "start_time": "2023-09-28T20:07:38.477391600Z"
    }
   }
  },
  {
   "cell_type": "code",
   "execution_count": 680,
   "outputs": [],
   "source": [
    "y_pred_2_combined[y_water_idx_predicted_0] = 1"
   ],
   "metadata": {
    "collapsed": false,
    "ExecuteTime": {
     "end_time": "2023-09-28T20:08:00.890324500Z",
     "start_time": "2023-09-28T20:08:00.770207400Z"
    }
   }
  },
  {
   "cell_type": "code",
   "execution_count": 681,
   "outputs": [],
   "source": [
    "y_pred_2_other_idx = np.setdiff1d(np.arange(x_binary_cl_test.shape[0]), y_water_idx_predicted_0)"
   ],
   "metadata": {
    "collapsed": false,
    "ExecuteTime": {
     "end_time": "2023-09-28T20:08:01.594019100Z",
     "start_time": "2023-09-28T20:08:01.431692300Z"
    }
   }
  },
  {
   "cell_type": "code",
   "execution_count": 682,
   "outputs": [],
   "source": [
    "nb_tests_predict_2_cat = nb_tests_predict_2_cat + 1 + 1"
   ],
   "metadata": {
    "collapsed": false,
    "ExecuteTime": {
     "end_time": "2023-09-28T20:08:15.043587Z",
     "start_time": "2023-09-28T20:08:14.861345700Z"
    }
   }
  },
  {
   "cell_type": "code",
   "execution_count": 683,
   "outputs": [],
   "source": [
    "y_pred_2_combined[y_pred_2_other_idx] = nb_tests_predict_2_cat"
   ],
   "metadata": {
    "collapsed": false,
    "ExecuteTime": {
     "end_time": "2023-09-28T20:08:16.799962900Z",
     "start_time": "2023-09-28T20:08:16.622889300Z"
    }
   }
  },
  {
   "cell_type": "code",
   "execution_count": 684,
   "outputs": [
    {
     "data": {
      "text/plain": "0.9116645925516225"
     },
     "execution_count": 684,
     "metadata": {},
     "output_type": "execute_result"
    }
   ],
   "source": [
    "accuracy_score(y_pred_2_combined, y_tests_1_vector_categories_2)"
   ],
   "metadata": {
    "collapsed": false,
    "ExecuteTime": {
     "end_time": "2023-09-28T20:08:17.670732300Z",
     "start_time": "2023-09-28T20:08:17.494915300Z"
    }
   }
  },
  {
   "cell_type": "markdown",
   "source": [
    "##### 3. Field - non-field"
   ],
   "metadata": {
    "collapsed": false
   }
  },
  {
   "cell_type": "code",
   "execution_count": 685,
   "outputs": [],
   "source": [
    "y_forest_idx_predicted_0 = np.where(y_pred_2_combined == 2)[0]"
   ],
   "metadata": {
    "collapsed": false,
    "ExecuteTime": {
     "end_time": "2023-09-28T20:09:01.354931100Z",
     "start_time": "2023-09-28T20:09:01.211425700Z"
    }
   }
  },
  {
   "cell_type": "code",
   "execution_count": 686,
   "outputs": [],
   "source": [
    "x_tests_3_exclude = np.concatenate([y_forest_idx_predicted_0, y_water_idx_predicted_0])"
   ],
   "metadata": {
    "collapsed": false,
    "ExecuteTime": {
     "end_time": "2023-09-28T20:09:03.203559Z",
     "start_time": "2023-09-28T20:09:03.071928600Z"
    }
   }
  },
  {
   "cell_type": "markdown",
   "source": [],
   "metadata": {
    "collapsed": false
   }
  },
  {
   "cell_type": "code",
   "execution_count": 687,
   "outputs": [],
   "source": [
    "x_tests_3_vector = np.delete(x_binary_cl_test, x_tests_3_exclude, axis=0)"
   ],
   "metadata": {
    "collapsed": false,
    "ExecuteTime": {
     "end_time": "2023-09-28T20:09:14.460067600Z",
     "start_time": "2023-09-28T20:09:14.263269100Z"
    }
   }
  },
  {
   "cell_type": "code",
   "execution_count": 703,
   "outputs": [],
   "source": [
    "y_tests_1_vector_categories_3 = y_binary_cl_test.copy()"
   ],
   "metadata": {
    "collapsed": false,
    "ExecuteTime": {
     "end_time": "2023-09-28T20:11:35.599492200Z",
     "start_time": "2023-09-28T20:11:35.409829400Z"
    }
   }
  },
  {
   "cell_type": "code",
   "execution_count": 704,
   "outputs": [
    {
     "name": "stdout",
     "output_type": "stream",
     "text": [
      "242/242 [==============================] - 1s 3ms/step\n"
     ]
    }
   ],
   "source": [
    "nb_tests_predict_3 = model_new_gnb_binary_3.predict(x_tests_3_vector, batch_size=2048)"
   ],
   "metadata": {
    "collapsed": false,
    "ExecuteTime": {
     "end_time": "2023-09-28T20:11:37.014987300Z",
     "start_time": "2023-09-28T20:11:36.038674500Z"
    }
   }
  },
  {
   "cell_type": "code",
   "execution_count": 705,
   "outputs": [],
   "source": [
    "nb_tests_predict_3_cat = tf.argmax(nb_tests_predict_3, axis=-1).numpy()"
   ],
   "metadata": {
    "collapsed": false,
    "ExecuteTime": {
     "end_time": "2023-09-28T20:11:37.093785700Z",
     "start_time": "2023-09-28T20:11:36.973612300Z"
    }
   }
  },
  {
   "cell_type": "code",
   "execution_count": 706,
   "outputs": [],
   "source": [
    "y_tests_1_vector_categories_3[y_tests_1_vector_categories_3 == 4] = 4\n",
    "y_tests_1_vector_categories_3[y_tests_1_vector_categories_3 == 5] = 4"
   ],
   "metadata": {
    "collapsed": false,
    "ExecuteTime": {
     "end_time": "2023-09-28T20:11:37.627293800Z",
     "start_time": "2023-09-28T20:11:37.531557400Z"
    }
   }
  },
  {
   "cell_type": "code",
   "execution_count": 707,
   "outputs": [],
   "source": [
    "y_pred_3_combined = np.empty(x_binary_cl_test.shape[0], dtype=int)"
   ],
   "metadata": {
    "collapsed": false,
    "ExecuteTime": {
     "end_time": "2023-09-28T20:11:39.082448600Z",
     "start_time": "2023-09-28T20:11:38.986458100Z"
    }
   }
  },
  {
   "cell_type": "code",
   "execution_count": 708,
   "outputs": [],
   "source": [
    "y_pred_3_combined[y_water_idx_predicted_0] = 1"
   ],
   "metadata": {
    "collapsed": false,
    "ExecuteTime": {
     "end_time": "2023-09-28T20:11:39.754346900Z",
     "start_time": "2023-09-28T20:11:39.659587Z"
    }
   }
  },
  {
   "cell_type": "code",
   "execution_count": 709,
   "outputs": [],
   "source": [
    "y_pred_3_combined[y_forest_idx_predicted_0] = 2"
   ],
   "metadata": {
    "collapsed": false,
    "ExecuteTime": {
     "end_time": "2023-09-28T20:11:40.276591900Z",
     "start_time": "2023-09-28T20:11:40.180460300Z"
    }
   }
  },
  {
   "cell_type": "code",
   "execution_count": 710,
   "outputs": [],
   "source": [
    "y_pred_3_other_idx = np.setdiff1d(np.arange(x_binary_cl_test.shape[0]), x_tests_3_exclude)"
   ],
   "metadata": {
    "collapsed": false,
    "ExecuteTime": {
     "end_time": "2023-09-28T20:11:40.869879600Z",
     "start_time": "2023-09-28T20:11:40.701130Z"
    }
   }
  },
  {
   "cell_type": "code",
   "execution_count": 711,
   "outputs": [],
   "source": [
    "nb_tests_predict_3_cat = nb_tests_predict_3_cat + 2 + 1"
   ],
   "metadata": {
    "collapsed": false,
    "ExecuteTime": {
     "end_time": "2023-09-28T20:11:41.289536900Z",
     "start_time": "2023-09-28T20:11:41.162975600Z"
    }
   }
  },
  {
   "cell_type": "code",
   "execution_count": 712,
   "outputs": [],
   "source": [
    "y_pred_3_combined[y_pred_3_other_idx] = nb_tests_predict_3_cat"
   ],
   "metadata": {
    "collapsed": false,
    "ExecuteTime": {
     "end_time": "2023-09-28T20:11:42.019923700Z",
     "start_time": "2023-09-28T20:11:41.877400500Z"
    }
   }
  },
  {
   "cell_type": "code",
   "execution_count": 713,
   "outputs": [
    {
     "data": {
      "text/plain": "0.8555834024705015"
     },
     "execution_count": 713,
     "metadata": {},
     "output_type": "execute_result"
    }
   ],
   "source": [
    "accuracy_score(y_pred_3_combined, y_tests_1_vector_categories_3)"
   ],
   "metadata": {
    "collapsed": false,
    "ExecuteTime": {
     "end_time": "2023-09-28T20:11:44.141573800Z",
     "start_time": "2023-09-28T20:11:43.792851300Z"
    }
   }
  },
  {
   "cell_type": "code",
   "execution_count": 714,
   "outputs": [
    {
     "data": {
      "text/plain": "4"
     },
     "execution_count": 714,
     "metadata": {},
     "output_type": "execute_result"
    }
   ],
   "source": [
    "y_pred_3_combined.max()"
   ],
   "metadata": {
    "collapsed": false,
    "ExecuteTime": {
     "end_time": "2023-09-28T20:11:52.048045600Z",
     "start_time": "2023-09-28T20:11:51.946532100Z"
    }
   }
  },
  {
   "cell_type": "markdown",
   "source": [
    "##### 4. City - non-city"
   ],
   "metadata": {
    "collapsed": false
   }
  },
  {
   "cell_type": "code",
   "execution_count": 715,
   "outputs": [],
   "source": [
    "y_fields_idx_predicted_0 = np.where(y_pred_3_combined == 3)[0]"
   ],
   "metadata": {
    "collapsed": false,
    "ExecuteTime": {
     "end_time": "2023-09-28T20:12:21.369622300Z",
     "start_time": "2023-09-28T20:12:21.196041500Z"
    }
   }
  },
  {
   "cell_type": "code",
   "execution_count": 716,
   "outputs": [],
   "source": [
    "x_tests_4_exclude = np.concatenate([y_fields_idx_predicted_0, x_tests_3_exclude])"
   ],
   "metadata": {
    "collapsed": false,
    "ExecuteTime": {
     "end_time": "2023-09-28T20:12:24.477597800Z",
     "start_time": "2023-09-28T20:12:24.351139800Z"
    }
   }
  },
  {
   "cell_type": "code",
   "execution_count": 717,
   "outputs": [],
   "source": [
    "x_tests_4_vector = np.delete(x_binary_cl_test, x_tests_4_exclude, axis=0)"
   ],
   "metadata": {
    "collapsed": false,
    "ExecuteTime": {
     "end_time": "2023-09-28T20:12:32.774779100Z",
     "start_time": "2023-09-28T20:12:32.637688200Z"
    }
   }
  },
  {
   "cell_type": "code",
   "execution_count": 718,
   "outputs": [],
   "source": [
    "y_tests_1_vector_categories_4 = y_binary_cl_test.copy()"
   ],
   "metadata": {
    "collapsed": false,
    "ExecuteTime": {
     "end_time": "2023-09-28T20:12:44.767215700Z",
     "start_time": "2023-09-28T20:12:44.629778200Z"
    }
   }
  },
  {
   "cell_type": "code",
   "execution_count": 719,
   "outputs": [
    {
     "name": "stdout",
     "output_type": "stream",
     "text": [
      "56/56 [==============================] - 0s 4ms/step\n"
     ]
    }
   ],
   "source": [
    "nb_tests_predict_4 = model_new_gnb_binary_4.predict(x_tests_4_vector, batch_size=2048)"
   ],
   "metadata": {
    "collapsed": false,
    "ExecuteTime": {
     "end_time": "2023-09-28T20:12:50.449735600Z",
     "start_time": "2023-09-28T20:12:50.038145900Z"
    }
   }
  },
  {
   "cell_type": "code",
   "execution_count": 720,
   "outputs": [],
   "source": [
    "nb_tests_predict_4_cat = tf.argmax(nb_tests_predict_4, axis=-1).numpy()"
   ],
   "metadata": {
    "collapsed": false,
    "ExecuteTime": {
     "end_time": "2023-09-28T20:12:53.307343700Z",
     "start_time": "2023-09-28T20:12:53.202106400Z"
    }
   }
  },
  {
   "cell_type": "code",
   "execution_count": 721,
   "outputs": [],
   "source": [
    "#y_tests_1_vector_categories_3[y_tests_1_vector_categories_3 == 4] = 3\n",
    "y_tests_1_vector_categories_4[y_tests_1_vector_categories_4 == 5] = 5"
   ],
   "metadata": {
    "collapsed": false,
    "ExecuteTime": {
     "end_time": "2023-09-28T20:13:02.966474200Z",
     "start_time": "2023-09-28T20:13:02.848054400Z"
    }
   }
  },
  {
   "cell_type": "code",
   "execution_count": 722,
   "outputs": [],
   "source": [
    "y_pred_4_combined = np.empty(x_binary_cl_test.shape[0], dtype=int)"
   ],
   "metadata": {
    "collapsed": false,
    "ExecuteTime": {
     "end_time": "2023-09-28T20:13:19.027336200Z",
     "start_time": "2023-09-28T20:13:18.886013100Z"
    }
   }
  },
  {
   "cell_type": "code",
   "execution_count": 723,
   "outputs": [],
   "source": [
    "y_pred_4_combined[y_water_idx_predicted_0] = 1"
   ],
   "metadata": {
    "collapsed": false,
    "ExecuteTime": {
     "end_time": "2023-09-28T20:13:19.632552Z",
     "start_time": "2023-09-28T20:13:19.502976Z"
    }
   }
  },
  {
   "cell_type": "code",
   "execution_count": 724,
   "outputs": [],
   "source": [
    "y_pred_4_combined[y_forest_idx_predicted_0] = 2"
   ],
   "metadata": {
    "collapsed": false,
    "ExecuteTime": {
     "end_time": "2023-09-28T20:13:20.509025700Z",
     "start_time": "2023-09-28T20:13:20.404497100Z"
    }
   }
  },
  {
   "cell_type": "code",
   "execution_count": 725,
   "outputs": [],
   "source": [
    "y_pred_4_combined[y_fields_idx_predicted_0] = 3"
   ],
   "metadata": {
    "collapsed": false,
    "ExecuteTime": {
     "end_time": "2023-09-28T20:13:21.455757100Z",
     "start_time": "2023-09-28T20:13:21.358147700Z"
    }
   }
  },
  {
   "cell_type": "code",
   "execution_count": 726,
   "outputs": [],
   "source": [
    "y_pred_4_other_idx = np.setdiff1d(np.arange(x_binary_cl_test.shape[0]), x_tests_4_exclude)"
   ],
   "metadata": {
    "collapsed": false,
    "ExecuteTime": {
     "end_time": "2023-09-28T20:13:22.730948600Z",
     "start_time": "2023-09-28T20:13:22.487300300Z"
    }
   }
  },
  {
   "cell_type": "code",
   "execution_count": 727,
   "outputs": [],
   "source": [
    "nb_tests_predict_4_cat = nb_tests_predict_4_cat + 3 +1"
   ],
   "metadata": {
    "collapsed": false,
    "ExecuteTime": {
     "end_time": "2023-09-28T20:13:27.873448900Z",
     "start_time": "2023-09-28T20:13:27.674485900Z"
    }
   }
  },
  {
   "cell_type": "code",
   "execution_count": 728,
   "outputs": [],
   "source": [
    "y_pred_4_combined[y_pred_4_other_idx] = nb_tests_predict_4_cat"
   ],
   "metadata": {
    "collapsed": false,
    "ExecuteTime": {
     "end_time": "2023-09-28T20:13:28.969263900Z",
     "start_time": "2023-09-28T20:13:28.869211100Z"
    }
   }
  },
  {
   "cell_type": "code",
   "execution_count": 729,
   "outputs": [
    {
     "data": {
      "text/plain": "0.8522469579646018"
     },
     "execution_count": 729,
     "metadata": {},
     "output_type": "execute_result"
    }
   ],
   "source": [
    "accuracy_score(y_pred_4_combined, y_tests_1_vector_categories_4)"
   ],
   "metadata": {
    "collapsed": false,
    "ExecuteTime": {
     "end_time": "2023-09-28T20:13:30.020501100Z",
     "start_time": "2023-09-28T20:13:29.815571800Z"
    }
   }
  },
  {
   "cell_type": "markdown",
   "source": [
    "##### 5. All classes"
   ],
   "metadata": {
    "collapsed": false
   }
  },
  {
   "cell_type": "code",
   "execution_count": 730,
   "outputs": [],
   "source": [
    "y_cities_idx_predicted_0 = np.where(y_pred_4_combined == 4)[0]"
   ],
   "metadata": {
    "collapsed": false,
    "ExecuteTime": {
     "end_time": "2023-09-28T20:13:47.775322600Z",
     "start_time": "2023-09-28T20:13:47.568187200Z"
    }
   }
  },
  {
   "cell_type": "code",
   "execution_count": 731,
   "outputs": [],
   "source": [
    "x_tests_5_exclude = np.concatenate([y_cities_idx_predicted_0, x_tests_4_exclude])"
   ],
   "metadata": {
    "collapsed": false,
    "ExecuteTime": {
     "end_time": "2023-09-28T20:13:48.313061200Z",
     "start_time": "2023-09-28T20:13:48.187282400Z"
    }
   }
  },
  {
   "cell_type": "code",
   "execution_count": 732,
   "outputs": [],
   "source": [
    "x_tests_5_vector = np.delete(x_binary_cl_test, x_tests_5_exclude, axis=0)"
   ],
   "metadata": {
    "collapsed": false,
    "ExecuteTime": {
     "end_time": "2023-09-28T20:13:57.675570Z",
     "start_time": "2023-09-28T20:13:57.577667400Z"
    }
   }
  },
  {
   "cell_type": "code",
   "execution_count": 733,
   "outputs": [],
   "source": [
    "y_tests_1_vector_categories_5 = y_binary_cl_test.copy()"
   ],
   "metadata": {
    "collapsed": false,
    "ExecuteTime": {
     "end_time": "2023-09-28T20:14:06.453232800Z",
     "start_time": "2023-09-28T20:14:06.273239Z"
    }
   }
  },
  {
   "cell_type": "code",
   "execution_count": 734,
   "outputs": [
    {
     "name": "stdout",
     "output_type": "stream",
     "text": [
      "49/49 [==============================] - 0s 4ms/step\n"
     ]
    }
   ],
   "source": [
    "nb_tests_predict_5 = model_new_gnb_binary_5.predict(x_tests_5_vector, batch_size=2048)"
   ],
   "metadata": {
    "collapsed": false,
    "ExecuteTime": {
     "end_time": "2023-09-28T20:14:07.475992200Z",
     "start_time": "2023-09-28T20:14:07.108941400Z"
    }
   }
  },
  {
   "cell_type": "code",
   "execution_count": 735,
   "outputs": [],
   "source": [
    "nb_tests_predict_5_cat = tf.argmax(nb_tests_predict_5, axis=-1).numpy()"
   ],
   "metadata": {
    "collapsed": false,
    "ExecuteTime": {
     "end_time": "2023-09-28T20:14:12.291146100Z",
     "start_time": "2023-09-28T20:14:12.192998200Z"
    }
   }
  },
  {
   "cell_type": "code",
   "execution_count": 736,
   "outputs": [],
   "source": [
    "y_pred_5_combined = np.empty(x_binary_cl_test.shape[0], dtype=int)"
   ],
   "metadata": {
    "collapsed": false,
    "ExecuteTime": {
     "end_time": "2023-09-28T20:14:23.466361100Z",
     "start_time": "2023-09-28T20:14:23.346473600Z"
    }
   }
  },
  {
   "cell_type": "code",
   "execution_count": 737,
   "outputs": [],
   "source": [
    "y_pred_5_combined[y_water_idx_predicted_0] = 1\n",
    "y_pred_5_combined[y_forest_idx_predicted_0] = 2\n",
    "y_pred_5_combined[y_fields_idx_predicted_0] = 3\n",
    "y_pred_5_combined[y_cities_idx_predicted_0] = 4"
   ],
   "metadata": {
    "collapsed": false,
    "ExecuteTime": {
     "end_time": "2023-09-28T20:14:31.533759100Z",
     "start_time": "2023-09-28T20:14:31.435865900Z"
    }
   }
  },
  {
   "cell_type": "code",
   "execution_count": 738,
   "outputs": [],
   "source": [
    "y_pred_5_other_idx = np.setdiff1d(np.arange(x_binary_cl_test.shape[0]), x_tests_5_exclude)"
   ],
   "metadata": {
    "collapsed": false,
    "ExecuteTime": {
     "end_time": "2023-09-28T20:14:36.396797800Z",
     "start_time": "2023-09-28T20:14:36.186961300Z"
    }
   }
  },
  {
   "cell_type": "code",
   "execution_count": 739,
   "outputs": [],
   "source": [
    "nb_tests_predict_5_cat = nb_tests_predict_5_cat + 4 + 1"
   ],
   "metadata": {
    "collapsed": false,
    "ExecuteTime": {
     "end_time": "2023-09-28T20:14:42.425298900Z",
     "start_time": "2023-09-28T20:14:42.288761300Z"
    }
   }
  },
  {
   "cell_type": "code",
   "execution_count": 740,
   "outputs": [],
   "source": [
    "y_pred_5_combined[y_pred_5_other_idx] = nb_tests_predict_5_cat"
   ],
   "metadata": {
    "collapsed": false,
    "ExecuteTime": {
     "end_time": "2023-09-28T20:14:44.077221200Z",
     "start_time": "2023-09-28T20:14:43.950367800Z"
    }
   }
  },
  {
   "cell_type": "code",
   "execution_count": 741,
   "outputs": [
    {
     "data": {
      "text/plain": "0.8511649612831859"
     },
     "execution_count": 741,
     "metadata": {},
     "output_type": "execute_result"
    }
   ],
   "source": [
    "accuracy_score(y_pred_5_combined, y_tests_1_vector_categories_5)"
   ],
   "metadata": {
    "collapsed": false,
    "ExecuteTime": {
     "end_time": "2023-09-28T20:14:44.850432800Z",
     "start_time": "2023-09-28T20:14:44.658744600Z"
    }
   }
  },
  {
   "cell_type": "code",
   "execution_count": 742,
   "outputs": [
    {
     "data": {
      "text/plain": "'              precision    recall  f1-score   support\\n\\n           1       0.95      0.93      0.94   1007051\\n           2       0.95      0.93      0.94    233886\\n           3       0.92      0.76      0.83    381300\\n           4       0.03      0.21      0.06     13187\\n           5       0.30      0.40      0.34     83192\\n           6       0.06      0.02      0.02     17064\\n\\n    accuracy                           0.85   1735680\\n   macro avg       0.53      0.54      0.52   1735680\\nweighted avg       0.89      0.85      0.87   1735680\\n'"
     },
     "execution_count": 742,
     "metadata": {},
     "output_type": "execute_result"
    }
   ],
   "source": [
    "classification_report(y_pred_5_combined, y_tests_1_vector_categories_5)"
   ],
   "metadata": {
    "collapsed": false,
    "ExecuteTime": {
     "end_time": "2023-09-28T20:14:49.365154800Z",
     "start_time": "2023-09-28T20:14:47.049462800Z"
    }
   }
  },
  {
   "cell_type": "code",
   "execution_count": null,
   "outputs": [],
   "source": [],
   "metadata": {
    "collapsed": false
   }
  }
 ],
 "metadata": {
  "kernelspec": {
   "display_name": "Python 3",
   "language": "python",
   "name": "python3"
  },
  "language_info": {
   "codemirror_mode": {
    "name": "ipython",
    "version": 2
   },
   "file_extension": ".py",
   "mimetype": "text/x-python",
   "name": "python",
   "nbconvert_exporter": "python",
   "pygments_lexer": "ipython2",
   "version": "2.7.6"
  }
 },
 "nbformat": 4,
 "nbformat_minor": 0
}
