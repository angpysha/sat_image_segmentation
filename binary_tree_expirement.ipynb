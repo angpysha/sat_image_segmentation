{
 "cells": [
  {
   "cell_type": "code",
   "metadata": {
    "collapsed": true,
    "ExecuteTime": {
     "end_time": "2024-05-15T13:12:19.966280Z",
     "start_time": "2024-05-15T13:12:19.556361Z"
    }
   },
   "source": [
    "import os\n",
    "import sys\n",
    "sys.path.append(\"/mnt/d/aspiranture/code/sat_image_segmentation\")\n",
    "import dataset_tool.dataset6_generator"
   ],
   "outputs": [],
   "execution_count": 1
  },
  {
   "cell_type": "code",
   "source": [
    "import importlib"
   ],
   "metadata": {
    "collapsed": false,
    "ExecuteTime": {
     "end_time": "2024-05-15T13:12:21.026717Z",
     "start_time": "2024-05-15T13:12:21.023325Z"
    }
   },
   "outputs": [],
   "execution_count": 2
  },
  {
   "cell_type": "code",
   "source": [
    "import dataset_6_binary_tree\n",
    "importlib.reload(dataset_6_binary_tree)\n",
    "import dataset_tool.binary_helper\n",
    "importlib.reload(dataset_tool.binary_helper)"
   ],
   "metadata": {
    "collapsed": false,
    "ExecuteTime": {
     "end_time": "2024-05-15T13:12:26.156830Z",
     "start_time": "2024-05-15T13:12:23.214368Z"
    }
   },
   "outputs": [
    {
     "name": "stderr",
     "output_type": "stream",
     "text": [
      "2024-05-15 16:12:23.477679: I tensorflow/core/platform/cpu_feature_guard.cc:182] This TensorFlow binary is optimized to use available CPU instructions in performance-critical operations.\n",
      "To enable the following instructions: AVX2 FMA, in other operations, rebuild TensorFlow with the appropriate compiler flags.\n",
      "2024-05-15 16:12:24.542524: W tensorflow/compiler/tf2tensorrt/utils/py_utils.cc:38] TF-TRT Warning: Could not find TensorRT\n"
     ]
    },
    {
     "data": {
      "text/plain": [
       "<module 'dataset_tool.binary_helper' from '/mnt/d/aspiranture/code/sat_image_segmentation/dataset_tool/binary_helper.py'>"
      ]
     },
     "execution_count": 3,
     "metadata": {},
     "output_type": "execute_result"
    }
   ],
   "execution_count": 3
  },
  {
   "cell_type": "markdown",
   "source": [
    "1. Import all needed libaries and setup categories binary tree for learning"
   ],
   "metadata": {
    "collapsed": false
   }
  },
  {
   "cell_type": "code",
   "source": [
    "categories = [\"water\", \"forest\", \"fields\", \"city\"]"
   ],
   "metadata": {
    "collapsed": false,
    "ExecuteTime": {
     "end_time": "2024-05-15T13:12:29.028012Z",
     "start_time": "2024-05-15T13:12:29.024376Z"
    }
   },
   "outputs": [],
   "execution_count": 4
  },
  {
   "cell_type": "markdown",
   "source": [
    "Get combination of all possible binary trees"
   ],
   "metadata": {
    "collapsed": false
   }
  },
  {
   "cell_type": "code",
   "source": [
    "possible_trees = dataset_tool.binary_helper.return_possible_trees(categories)"
   ],
   "metadata": {
    "collapsed": false,
    "ExecuteTime": {
     "end_time": "2024-05-15T13:12:30.508349Z",
     "start_time": "2024-05-15T13:12:30.504261Z"
    }
   },
   "outputs": [],
   "execution_count": 5
  },
  {
   "cell_type": "code",
   "source": [
    "possible_trees"
   ],
   "metadata": {
    "collapsed": false,
    "ExecuteTime": {
     "end_time": "2024-05-15T13:12:31.403196Z",
     "start_time": "2024-05-15T13:12:31.397022Z"
    }
   },
   "outputs": [
    {
     "data": {
      "text/plain": [
       "[['water', ['forest', ['fields', 'city']]],\n",
       " ['water', ['forest', ['city', 'fields']]],\n",
       " ['water', ['fields', ['forest', 'city']]],\n",
       " ['water', ['fields', ['city', 'forest']]],\n",
       " ['water', ['city', ['forest', 'fields']]],\n",
       " ['water', ['city', ['fields', 'forest']]],\n",
       " ['forest', ['water', ['fields', 'city']]],\n",
       " ['forest', ['water', ['city', 'fields']]],\n",
       " ['forest', ['fields', ['water', 'city']]],\n",
       " ['forest', ['fields', ['city', 'water']]],\n",
       " ['forest', ['city', ['water', 'fields']]],\n",
       " ['forest', ['city', ['fields', 'water']]],\n",
       " ['fields', ['water', ['forest', 'city']]],\n",
       " ['fields', ['water', ['city', 'forest']]],\n",
       " ['fields', ['forest', ['water', 'city']]],\n",
       " ['fields', ['forest', ['city', 'water']]],\n",
       " ['fields', ['city', ['water', 'forest']]],\n",
       " ['fields', ['city', ['forest', 'water']]],\n",
       " ['city', ['water', ['forest', 'fields']]],\n",
       " ['city', ['water', ['fields', 'forest']]],\n",
       " ['city', ['forest', ['water', 'fields']]],\n",
       " ['city', ['forest', ['fields', 'water']]],\n",
       " ['city', ['fields', ['water', 'forest']]],\n",
       " ['city', ['fields', ['forest', 'water']]]]"
      ]
     },
     "execution_count": 6,
     "metadata": {},
     "output_type": "execute_result"
    }
   ],
   "execution_count": 6
  },
  {
   "cell_type": "code",
   "source": [
    "categories_tree_1 = [\"water\",[\"forest\",[\"fields\", \"city\"]]]"
   ],
   "metadata": {
    "collapsed": false,
    "ExecuteTime": {
     "end_time": "2024-05-15T13:12:32.314663Z",
     "start_time": "2024-05-15T13:12:32.311150Z"
    }
   },
   "outputs": [],
   "execution_count": 7
  },
  {
   "cell_type": "code",
   "source": [
    "odd_indexes = [element for i, element in enumerate(possible_trees) if i % 2 != 0]"
   ],
   "metadata": {
    "collapsed": false,
    "ExecuteTime": {
     "end_time": "2024-05-15T13:12:32.949447Z",
     "start_time": "2024-05-15T13:12:32.945460Z"
    }
   },
   "outputs": [],
   "execution_count": 8
  },
  {
   "cell_type": "markdown",
   "source": [
    "**We should also decrease the number of variations up to 2 times, because the last iteration will be the same**"
   ],
   "metadata": {
    "collapsed": false
   }
  },
  {
   "cell_type": "code",
   "source": [
    "odd_indexes"
   ],
   "metadata": {
    "collapsed": false,
    "ExecuteTime": {
     "end_time": "2024-05-15T13:12:38.513066Z",
     "start_time": "2024-05-15T13:12:38.507853Z"
    }
   },
   "outputs": [
    {
     "data": {
      "text/plain": [
       "[['water', ['forest', ['city', 'fields']]],\n",
       " ['water', ['fields', ['city', 'forest']]],\n",
       " ['water', ['city', ['fields', 'forest']]],\n",
       " ['forest', ['water', ['city', 'fields']]],\n",
       " ['forest', ['fields', ['city', 'water']]],\n",
       " ['forest', ['city', ['fields', 'water']]],\n",
       " ['fields', ['water', ['city', 'forest']]],\n",
       " ['fields', ['forest', ['city', 'water']]],\n",
       " ['fields', ['city', ['forest', 'water']]],\n",
       " ['city', ['water', ['fields', 'forest']]],\n",
       " ['city', ['forest', ['fields', 'water']]],\n",
       " ['city', ['fields', ['forest', 'water']]]]"
      ]
     },
     "execution_count": 9,
     "metadata": {},
     "output_type": "execute_result"
    }
   ],
   "execution_count": 9
  },
  {
   "cell_type": "markdown",
   "source": [
    "## 2. Load and initialize dataset"
   ],
   "metadata": {
    "collapsed": false
   }
  },
  {
   "cell_type": "code",
   "source": [
    "ds = dataset_6_binary_tree.Dataset6BinaryTree(categories_tree_1)"
   ],
   "metadata": {
    "collapsed": false,
    "ExecuteTime": {
     "end_time": "2024-05-15T13:34:08.634306Z",
     "start_time": "2024-05-15T13:34:08.631054Z"
    }
   },
   "outputs": [],
   "execution_count": 36
  },
  {
   "cell_type": "code",
   "source": [
    "ds.initialize()"
   ],
   "metadata": {
    "collapsed": false,
    "ExecuteTime": {
     "end_time": "2024-05-15T13:35:00.764196Z",
     "start_time": "2024-05-15T13:34:09.778203Z"
    }
   },
   "outputs": [
    {
     "name": "stdout",
     "output_type": "stream",
     "text": [
      "Error read []\n",
      "len 27\n"
     ]
    }
   ],
   "execution_count": 37
  },
  {
   "cell_type": "markdown",
   "source": [
    "Recheck if only supported categories has been included"
   ],
   "metadata": {
    "collapsed": false
   }
  },
  {
   "cell_type": "code",
   "source": [
    "ds.get_supported_categories()"
   ],
   "metadata": {
    "collapsed": false,
    "ExecuteTime": {
     "end_time": "2024-05-15T13:36:28.046482Z",
     "start_time": "2024-05-15T13:36:28.040829Z"
    }
   },
   "outputs": [
    {
     "data": {
      "text/plain": [
       "['water', 'forest', 'fields', 'city']"
      ]
     },
     "execution_count": 38,
     "metadata": {},
     "output_type": "execute_result"
    }
   ],
   "execution_count": 38
  },
  {
   "cell_type": "code",
   "source": [
    "ds.supported_categories_map"
   ],
   "metadata": {
    "collapsed": false,
    "ExecuteTime": {
     "end_time": "2024-05-15T13:36:29.099893Z",
     "start_time": "2024-05-15T13:36:29.096900Z"
    }
   },
   "outputs": [],
   "execution_count": 39
  },
  {
   "cell_type": "markdown",
   "source": [
    "3. Create binary models "
   ],
   "metadata": {
    "collapsed": false
   }
  },
  {
   "cell_type": "code",
   "source": [
    "ds.create_models()"
   ],
   "metadata": {
    "collapsed": false,
    "ExecuteTime": {
     "end_time": "2024-05-15T13:36:36.363778Z",
     "start_time": "2024-05-15T13:36:30.930809Z"
    }
   },
   "outputs": [
    {
     "name": "stdout",
     "output_type": "stream",
     "text": [
      "Entering into iteration 1\n",
      "Iteration 1 creating new arrays\n",
      "Iteration 1 calcualte weights\n",
      "Entering into iteration 2\n",
      "Iteration 2 creating new arrays\n",
      "Iteration 2 calcualte weights\n",
      "Entering into iteration 3\n",
      "Iteration 3 creating new arrays\n",
      "Iteration 3 calcualte weights\n"
     ]
    }
   ],
   "execution_count": 40
  },
  {
   "cell_type": "code",
   "source": [
    "validation_dataset = ds.load_custom_verification_dataset(\"/mnt/d/shared_folder/test_images2_fixed/\")"
   ],
   "metadata": {
    "collapsed": false,
    "ExecuteTime": {
     "end_time": "2024-05-15T13:36:45.993625Z",
     "start_time": "2024-05-15T13:36:40.050212Z"
    }
   },
   "outputs": [
    {
     "name": "stdout",
     "output_type": "stream",
     "text": [
      "len 3\n"
     ]
    }
   ],
   "execution_count": 41
  },
  {
   "cell_type": "markdown",
   "source": [
    "## <span style=\"color:orange\">**Get accuracy result from another pictures, which is not splitted with current dataset**</span> "
   ],
   "metadata": {
    "collapsed": false
   }
  },
  {
   "cell_type": "code",
   "source": [
    "import numpy as np"
   ],
   "metadata": {
    "collapsed": false,
    "ExecuteTime": {
     "end_time": "2024-05-15T13:36:48.581229Z",
     "start_time": "2024-05-15T13:36:48.578176Z"
    }
   },
   "outputs": [],
   "execution_count": 42
  },
  {
   "cell_type": "code",
   "source": [
    "## create predictions for validation dataset\n",
    "custom_validation_y = []\n",
    "custom_validation_x = []\n",
    "for key, value in validation_dataset.items():\n",
    "    catogory_number = ds.supported_categories_map[key]\n",
    "    y_data_custom = np.full(value.shape[1], catogory_number)\n",
    "    custom_validation_y.extend(y_data_custom)\n",
    "    custom_validation_x.append(value)"
   ],
   "metadata": {
    "collapsed": false,
    "ExecuteTime": {
     "end_time": "2024-05-15T13:36:49.287786Z",
     "start_time": "2024-05-15T13:36:49.196573Z"
    }
   },
   "outputs": [],
   "execution_count": 43
  },
  {
   "cell_type": "code",
   "source": [
    "custom_validation_y_np = np.asarray(custom_validation_y)\n",
    "custom_validation_x_1 = np.hstack(custom_validation_x)\n",
    "custom_validation_x_np = np.moveaxis(custom_validation_x_1, 0, 1)"
   ],
   "metadata": {
    "collapsed": false,
    "ExecuteTime": {
     "end_time": "2024-05-15T13:36:50.193875Z",
     "start_time": "2024-05-15T13:36:50.125413Z"
    }
   },
   "outputs": [],
   "execution_count": 44
  },
  {
   "cell_type": "code",
   "source": [
    "custom_validation_prediction = ds.predict_custom_validation_data(custom_validation_x_np)"
   ],
   "metadata": {
    "collapsed": false,
    "ExecuteTime": {
     "end_time": "2024-05-15T13:36:56.343605Z",
     "start_time": "2024-05-15T13:36:50.856665Z"
    }
   },
   "outputs": [
    {
     "name": "stdout",
     "output_type": "stream",
     "text": [
      "730/730 [==============================] - 2s 3ms/step\n",
      "151/151 [==============================] - 1s 4ms/step\n",
      "114/114 [==============================] - 1s 3ms/step\n"
     ]
    }
   ],
   "execution_count": 45
  },
  {
   "cell_type": "code",
   "source": [
    "from sklearn.metrics import accuracy_score, classification_report"
   ],
   "metadata": {
    "collapsed": false,
    "ExecuteTime": {
     "end_time": "2024-05-15T13:36:58.903190Z",
     "start_time": "2024-05-15T13:36:58.900128Z"
    }
   },
   "outputs": [],
   "execution_count": 46
  },
  {
   "cell_type": "code",
   "source": [
    "accuracy_score(custom_validation_prediction[-1], custom_validation_y_np)"
   ],
   "metadata": {
    "collapsed": false,
    "ExecuteTime": {
     "end_time": "2024-05-15T13:36:59.552024Z",
     "start_time": "2024-05-15T13:36:59.503377Z"
    }
   },
   "outputs": [
    {
     "data": {
      "text/plain": [
       "0.9422724217978136"
      ]
     },
     "execution_count": 47,
     "metadata": {},
     "output_type": "execute_result"
    }
   ],
   "execution_count": 47
  },
  {
   "metadata": {
    "ExecuteTime": {
     "end_time": "2024-05-15T13:37:00.511604Z",
     "start_time": "2024-05-15T13:37:00.508938Z"
    }
   },
   "cell_type": "code",
   "source": "",
   "outputs": [],
   "execution_count": 47
  },
  {
   "cell_type": "markdown",
   "source": [
    "<span style=\"color: orange\"><i>As we see the custom validation data has the same accuracy as data separated from test</i></span>"
   ],
   "metadata": {
    "collapsed": false
   }
  },
  {
   "cell_type": "code",
   "source": [
    "classification_report(custom_validation_prediction[-1], custom_validation_y_np, output_dict=True)"
   ],
   "metadata": {
    "collapsed": false,
    "ExecuteTime": {
     "end_time": "2024-05-15T13:37:03.500947Z",
     "start_time": "2024-05-15T13:37:02.118163Z"
    }
   },
   "outputs": [
    {
     "data": {
      "text/plain": [
       "{'1': {'precision': 0.9958531061487989,\n",
       "  'recall': 0.9927549626058502,\n",
       "  'f1-score': 0.9943016210074997,\n",
       "  'support': 1184811.0},\n",
       " '2': {'precision': 0.9348347247292419,\n",
       "  'recall': 0.8575586660112287,\n",
       "  'f1-score': 0.8945308810233851,\n",
       "  'support': 77302.0},\n",
       " '3': {'precision': 0.6783235944080104,\n",
       "  'recall': 0.8815051050028253,\n",
       "  'f1-score': 0.7666812535765982,\n",
       "  'support': 129187.0},\n",
       " '4': {'precision': 0.6931026098233101,\n",
       "  'recall': 0.4998538695347206,\n",
       "  'f1-score': 0.5808259186307139,\n",
       "  'support': 102648.0},\n",
       " 'accuracy': 0.9422724217978136,\n",
       " 'macro avg': {'precision': 0.8255285087773404,\n",
       "  'recall': 0.8079181507886561,\n",
       "  'f1-score': 0.8090849185595492,\n",
       "  'support': 1493948.0},\n",
       " 'weighted avg': {'precision': 0.9444361485970161,\n",
       "  'recall': 0.9422724217978136,\n",
       "  'f1-score': 0.9410464045962725,\n",
       "  'support': 1493948.0}}"
      ]
     },
     "execution_count": 48,
     "metadata": {},
     "output_type": "execute_result"
    }
   ],
   "execution_count": 48
  },
  {
   "cell_type": "markdown",
   "source": [
    "5. Make validation wit a test data which not icnluded to train sample But htis data **<span style=\"color: red\">has been splited from original dataset</span>**"
   ],
   "metadata": {
    "collapsed": false
   }
  },
  {
   "cell_type": "code",
   "source": [
    "results = ds.validate_with_test_data()"
   ],
   "metadata": {
    "collapsed": false,
    "ExecuteTime": {
     "end_time": "2024-05-15T13:37:13.457847Z",
     "start_time": "2024-05-15T13:37:06.639645Z"
    }
   },
   "outputs": [
    {
     "name": "stdout",
     "output_type": "stream",
     "text": [
      "792/792 [==============================] - 3s 4ms/step\n",
      "Binary acccucary for step 1 is 99.39%.\n",
      "Calcaluting accuracy for 2 categories\n",
      "Adding idxes for category 1: [      0       6       7 ... 1620628 1620629 1620630]\n",
      "Total acccucary for step 1 is 99.39%.\n",
      "306/306 [==============================] - 1s 4ms/step\n",
      "Binary acccucary for step 2 is 97.2%.\n",
      "Calcaluting accuracy for 3 categories\n",
      "Adding idxes for category 2: [      1       4       9 ... 1620610 1620612 1620620]\n",
      "Total acccucary for step 2 is 98.35000000000001%.\n",
      "194/194 [==============================] - 1s 3ms/step\n",
      "Binary acccucary for step 3 is 81.86%.\n",
      "Calcaluting accuracy for 4 categories\n",
      "Adding idxes for category 3: [      5      18      21 ... 1620616 1620619 1620623]\n",
      "Total acccucary for step 3 is 94.01%.\n"
     ]
    }
   ],
   "execution_count": 49
  },
  {
   "cell_type": "code",
   "source": [
    "def generate_data_for_binary_hystograms(data):\n",
    "    lst = []\n",
    "    for indx, itm in enumerate(data):\n",
    "        if (indx +1 == len(data)):\n",
    "            lst.append(itm.binary_predictions[:, 0])\n",
    "            lst.append(itm.binary_predictions[:, 1])\n",
    "        else:\n",
    "            lst.append(itm.binary_predictions[:, 0])\n",
    "    return lst"
   ],
   "metadata": {
    "collapsed": false,
    "ExecuteTime": {
     "end_time": "2024-05-15T13:42:11.616934Z",
     "start_time": "2024-05-15T13:42:11.610952Z"
    }
   },
   "outputs": [],
   "execution_count": 54
  },
  {
   "metadata": {
    "ExecuteTime": {
     "end_time": "2024-05-15T13:42:13.788476Z",
     "start_time": "2024-05-15T13:42:13.779990Z"
    }
   },
   "cell_type": "code",
   "source": "results[0]",
   "outputs": [
    {
     "data": {
      "text/plain": [
       "<dataset_6_binary_tree.BinaryTreeVerificationModel at 0x7f0bc8a11950>"
      ]
     },
     "execution_count": 55,
     "metadata": {},
     "output_type": "execute_result"
    }
   ],
   "execution_count": 55
  },
  {
   "cell_type": "code",
   "source": [
    "generated_hysts = generate_data_for_binary_hystograms(results)"
   ],
   "metadata": {
    "collapsed": false,
    "ExecuteTime": {
     "end_time": "2024-05-15T13:42:14.798504Z",
     "start_time": "2024-05-15T13:42:14.794065Z"
    }
   },
   "outputs": [],
   "execution_count": 56
  },
  {
   "cell_type": "code",
   "source": [
    "len(generated_hysts)"
   ],
   "metadata": {
    "collapsed": false,
    "ExecuteTime": {
     "end_time": "2024-05-15T13:42:17.113640Z",
     "start_time": "2024-05-15T13:42:17.106866Z"
    }
   },
   "outputs": [
    {
     "data": {
      "text/plain": [
       "4"
      ]
     },
     "execution_count": 57,
     "metadata": {},
     "output_type": "execute_result"
    }
   ],
   "execution_count": 57
  },
  {
   "cell_type": "code",
   "source": [
    "import matplotlib.pyplot as plt\n",
    "import numpy as np"
   ],
   "metadata": {
    "collapsed": false,
    "ExecuteTime": {
     "end_time": "2024-05-15T13:42:20.601619Z",
     "start_time": "2024-05-15T13:42:20.596803Z"
    }
   },
   "outputs": [],
   "execution_count": 58
  },
  {
   "cell_type": "code",
   "source": [
    "def createHistGraph(probalities, categories_map):\n",
    "    \"\"\"\n",
    "    Creates histgram for propalities\n",
    "    :param probalities: probabilites list\n",
    "    :param categories_map: legend map to transform numbers to human-readable categories\n",
    "    :return: None\n",
    "    \"\"\"\n",
    "    fig, axs = plt.subplots(len(probalities))\n",
    "\n",
    "    for category in range(len(probalities)):\n",
    "        col = (np.random.random(), np.random.random(), np.random.random())\n",
    "        axs[category].hist(probalities[category], color=col, range=(1/len(probalities), 1.01), label=list(categories_map.keys())[category])\n",
    "        axs[category].legend()"
   ],
   "metadata": {
    "collapsed": false,
    "ExecuteTime": {
     "end_time": "2024-05-15T13:42:21.401709Z",
     "start_time": "2024-05-15T13:42:21.395148Z"
    }
   },
   "outputs": [],
   "execution_count": 59
  },
  {
   "cell_type": "markdown",
   "source": [
    "### Hystogram of ierachical binary classier"
   ],
   "metadata": {
    "collapsed": false
   }
  },
  {
   "cell_type": "code",
   "source": [
    "createHistGraph(generated_hysts, ds.supported_categories_map)"
   ],
   "metadata": {
    "collapsed": false,
    "ExecuteTime": {
     "end_time": "2024-05-15T13:42:28.480704Z",
     "start_time": "2024-05-15T13:42:27.113180Z"
    }
   },
   "outputs": [
    {
     "data": {
      "text/plain": [
       "<Figure size 640x480 with 4 Axes>"
      ],
      "image/png": "[encoded data removed]"
     },
     "metadata": {},
     "output_type": "display_data"
    }
   ],
   "execution_count": 60
  },
  {
   "metadata": {
    "ExecuteTime": {
     "end_time": "2024-05-15T14:03:18.819161Z",
     "start_time": "2024-05-15T14:03:18.806793Z"
    }
   },
   "cell_type": "code",
   "source": "r_c = [len(custom_validation_y_np[custom_validation_y_np == i]) for i in range(1,5)]",
   "outputs": [],
   "execution_count": 69
  },
  {
   "metadata": {
    "ExecuteTime": {
     "end_time": "2024-05-15T14:03:57.604984Z",
     "start_time": "2024-05-15T14:03:57.584810Z"
    }
   },
   "cell_type": "code",
   "source": "p_c = [len(custom_validation_prediction[-1][custom_validation_prediction[-1] == i]) for i in range(1,5)]",
   "outputs": [],
   "execution_count": 70
  },
  {
   "metadata": {
    "ExecuteTime": {
     "end_time": "2024-05-15T14:04:20.578495Z",
     "start_time": "2024-05-15T14:04:20.572996Z"
    }
   },
   "cell_type": "code",
   "source": "a_diff = abs(np.array(r_c) - np.array(p_c))",
   "outputs": [],
   "execution_count": 72
  },
  {
   "metadata": {
    "ExecuteTime": {
     "end_time": "2024-05-15T14:04:26.385410Z",
     "start_time": "2024-05-15T14:04:26.376226Z"
    }
   },
   "cell_type": "code",
   "source": "a_diff",
   "outputs": [
    {
     "data": {
      "text/plain": [
       "array([ 3686,  6390, 38696, 28620])"
      ]
     },
     "execution_count": 73,
     "metadata": {},
     "output_type": "execute_result"
    }
   ],
   "execution_count": 73
  },
  {
   "metadata": {
    "ExecuteTime": {
     "end_time": "2024-05-15T14:08:05.784836Z",
     "start_time": "2024-05-15T14:08:05.777578Z"
    }
   },
   "cell_type": "code",
   "source": "categories",
   "outputs": [
    {
     "data": {
      "text/plain": [
       "['water', 'forest', 'fields', 'city']"
      ]
     },
     "execution_count": 74,
     "metadata": {},
     "output_type": "execute_result"
    }
   ],
   "execution_count": 74
  },
  {
   "metadata": {
    "ExecuteTime": {
     "end_time": "2024-05-15T14:13:26.593557Z",
     "start_time": "2024-05-15T14:13:26.119288Z"
    }
   },
   "cell_type": "code",
   "source": [
    "x = np.arange(len(categories))  # the label locations\n",
    "width = 0.35  # the width of the bars\n",
    "\n",
    "fig, ax = plt.subplots()\n",
    "line = ax.plot([0,1,2,3], a_diff, label='Abs of diff between real and predicted')\n",
    "#rects1 = ax.bar(x - width/2, a_diff, width, label='Difference')\n",
    "# rects2 = ax.bar(x + width/2, gnb_values, width, label='NB values')\n",
    "\n",
    "# Add some text for labels, title and custom x-axis tick labels, etc.\n",
    "ax.set_ylabel('Number of points')\n",
    "ax.set_title('Classification result compare')\n",
    "ax.set_xticks(x)\n",
    "plt.grid()\n",
    "ax.set_xticklabels(categories)\n",
    "ax.legend()"
   ],
   "outputs": [
    {
     "data": {
      "text/plain": [
       "<matplotlib.legend.Legend at 0x7f0bc7f2a1d0>"
      ]
     },
     "execution_count": 84,
     "metadata": {},
     "output_type": "execute_result"
    },
    {
     "data": {
      "text/plain": [
       "<Figure size 640x480 with 1 Axes>"
      ],
      "image/png": "[encoded data removed]"
     },
     "metadata": {},
     "output_type": "display_data"
    }
   ],
   "execution_count": 84
  },
  {
   "metadata": {
    "ExecuteTime": {
     "end_time": "2024-05-15T14:01:13.809526Z",
     "start_time": "2024-05-15T14:01:13.801350Z"
    }
   },
   "cell_type": "code",
   "source": "custom_validation_y_np",
   "outputs": [
    {
     "data": {
      "text/plain": [
       "array([1, 1, 1, ..., 4, 4, 4])"
      ]
     },
     "execution_count": 62,
     "metadata": {},
     "output_type": "execute_result"
    }
   ],
   "execution_count": 62
  },
  {
   "cell_type": "markdown",
   "source": [
    "### Check for all possible binary trees to check the best accuracy on it"
   ],
   "metadata": {
    "collapsed": false
   }
  },
  {
   "cell_type": "markdown",
   "source": [
    "This part of file check for each possible binary trees categories layout and then makes a table with accuracy for each category to check which layout is the best"
   ],
   "metadata": {
    "collapsed": false
   }
  },
  {
   "cell_type": "code",
   "execution_count": 36,
   "outputs": [],
   "source": [
    "models = []"
   ],
   "metadata": {
    "collapsed": false,
    "ExecuteTime": {
     "end_time": "2023-11-12T15:49:53.206128200Z",
     "start_time": "2023-11-12T15:49:53.188523800Z"
    }
   }
  },
  {
   "cell_type": "code",
   "execution_count": null,
   "outputs": [
    {
     "name": "stdout",
     "output_type": "stream",
     "text": [
      "do for iteration: ['water', ['forest', ['city', 'fields']]]\n",
      "Error read []\n",
      "len 27\n",
      "Entering into iteration 1\n",
      "Iteration 1 creating new arrays\n",
      "Iteration 1 calcualte weights\n",
      "Entering into iteration 2\n",
      "Iteration 2 creating new arrays\n",
      "Iteration 2 calcualte weights\n",
      "Entering into iteration 3\n",
      "Iteration 3 creating new arrays\n",
      "Iteration 3 calcualte weights\n",
      "792/792 [==============================] - 3s 3ms/step\n",
      "Binary acccucary for step 1 is 99.4%.\n",
      "Calcaluting accuracy for 2 categories\n",
      "Adding idxes for category 1: [      0       1       5 ... 1620626 1620628 1620629]\n",
      "Total acccucary for step 1 is 99.4%.\n",
      "306/306 [==============================] - 1s 3ms/step\n",
      "Binary acccucary for step 2 is 97.13000000000001%.\n",
      "Calcaluting accuracy for 3 categories\n",
      "Adding idxes for category 2: [      2       3       6 ... 1620604 1620611 1620614]\n",
      "Total acccucary for step 2 is 98.33%.\n",
      "194/194 [==============================] - 1s 3ms/step\n",
      "Binary acccucary for step 3 is 81.67%.\n",
      "Calcaluting accuracy for 4 categories\n",
      "Adding idxes for category 3: [      4       9      11 ... 1620620 1620627 1620630]\n",
      "Total acccucary for step 3 is 93.95%.\n",
      "do for iteration: ['water', ['fields', ['city', 'forest']]]\n",
      "Error read []\n",
      "len 27\n",
      "Entering into iteration 1\n",
      "Iteration 1 creating new arrays\n",
      "Iteration 1 calcualte weights\n",
      "Entering into iteration 2\n",
      "Iteration 2 creating new arrays\n",
      "Iteration 2 calcualte weights\n",
      "Entering into iteration 3\n",
      "Iteration 3 creating new arrays\n",
      "Iteration 3 calcualte weights\n",
      "792/792 [==============================] - 3s 3ms/step\n",
      "Binary acccucary for step 1 is 99.4%.\n",
      "Calcaluting accuracy for 2 categories\n",
      "Adding idxes for category 1: [      1       2       3 ... 1620628 1620629 1620630]\n",
      "Total acccucary for step 1 is 99.4%.\n",
      "306/306 [==============================] - 1s 3ms/step\n",
      "Binary acccucary for step 2 is 97.17%.\n",
      "Calcaluting accuracy for 3 categories\n",
      "Adding idxes for category 2: [      0       5       9 ... 1620601 1620602 1620613]\n",
      "Total acccucary for step 2 is 98.34%.\n",
      "194/194 [==============================] - 1s 3ms/step\n",
      "Binary acccucary for step 3 is 81.66%.\n",
      "Calcaluting accuracy for 4 categories\n",
      "Adding idxes for category 3: [      6      10      14 ... 1620608 1620619 1620624]\n",
      "Total acccucary for step 3 is 93.96%.\n",
      "do for iteration: ['water', ['city', ['fields', 'forest']]]\n",
      "Error read []\n",
      "len 27\n",
      "Entering into iteration 1\n",
      "Iteration 1 creating new arrays\n",
      "Iteration 1 calcualte weights\n",
      "Entering into iteration 2\n",
      "Iteration 2 creating new arrays\n",
      "Iteration 2 calcualte weights\n",
      "Entering into iteration 3\n",
      "Iteration 3 creating new arrays\n",
      "Iteration 3 calcualte weights\n",
      "792/792 [==============================] - 2s 3ms/step\n",
      "Binary acccucary for step 1 is 99.41%.\n",
      "Calcaluting accuracy for 2 categories\n",
      "Adding idxes for category 1: [      1       2       3 ... 1620626 1620627 1620628]\n",
      "Total acccucary for step 1 is 99.41%.\n",
      "306/306 [==============================] - 1s 3ms/step\n",
      "Binary acccucary for step 2 is 97.16%.\n",
      "Calcaluting accuracy for 3 categories\n",
      "Adding idxes for category 2: [      0      11      13 ... 1620609 1620613 1620630]\n",
      "Total acccucary for step 2 is 98.35000000000001%.\n",
      "194/194 [==============================] - 1s 3ms/step\n",
      "Binary acccucary for step 3 is 81.8%.\n",
      "Calcaluting accuracy for 4 categories\n",
      "Adding idxes for category 3: [      4      14      18 ... 1620624 1620625 1620629]\n",
      "Total acccucary for step 3 is 93.99%.\n",
      "do for iteration: ['forest', ['water', ['city', 'fields']]]\n",
      "Error read []\n",
      "len 27\n",
      "Entering into iteration 1\n",
      "Iteration 1 creating new arrays\n",
      "Iteration 1 calcualte weights\n",
      "Entering into iteration 2\n",
      "Iteration 2 creating new arrays\n",
      "Iteration 2 calcualte weights\n",
      "Entering into iteration 3\n",
      "Iteration 3 creating new arrays\n",
      "Iteration 3 calcualte weights\n",
      "792/792 [==============================] - 3s 3ms/step\n",
      "Binary acccucary for step 1 is 99.4%.\n",
      "Calcaluting accuracy for 2 categories\n",
      "Adding idxes for category 1: [      0       3       4 ... 1620625 1620626 1620630]\n",
      "Total acccucary for step 1 is 99.4%.\n",
      "306/306 [==============================] - 1s 3ms/step\n",
      "Binary acccucary for step 2 is 97.15%.\n",
      "Calcaluting accuracy for 3 categories\n",
      "Adding idxes for category 2: [      1       2       5 ... 1620607 1620610 1620622]\n",
      "Total acccucary for step 2 is 98.34%.\n",
      "194/194 [==============================] - 1s 3ms/step\n",
      "Binary acccucary for step 3 is 81.67999999999999%.\n",
      "Calcaluting accuracy for 4 categories\n",
      "Adding idxes for category 3: [      6       7      11 ... 1620618 1620627 1620629]\n",
      "Total acccucary for step 3 is 93.96%.\n",
      "do for iteration: ['forest', ['fields', ['city', 'water']]]\n",
      "Error read []\n",
      "len 27\n",
      "Entering into iteration 1\n",
      "Iteration 1 creating new arrays\n",
      "Iteration 1 calcualte weights\n",
      "Entering into iteration 2\n",
      "Iteration 2 creating new arrays\n",
      "Iteration 2 calcualte weights\n",
      "Entering into iteration 3\n",
      "Iteration 3 creating new arrays\n",
      "Iteration 3 calcualte weights\n",
      "792/792 [==============================] - 3s 3ms/step\n",
      "Binary acccucary for step 1 is 99.4%.\n",
      "Calcaluting accuracy for 2 categories\n",
      "Adding idxes for category 1: [      0       1       2 ... 1620628 1620629 1620630]\n",
      "Total acccucary for step 1 is 99.4%.\n",
      "306/306 [==============================] - 1s 3ms/step\n",
      "Binary acccucary for step 2 is 97.16%.\n",
      "Calcaluting accuracy for 3 categories\n",
      "Adding idxes for category 2: [      3       5       9 ... 1620617 1620618 1620620]\n",
      "Total acccucary for step 2 is 98.34%.\n",
      "194/194 [==============================] - 1s 4ms/step\n",
      "Binary acccucary for step 3 is 81.76%.\n",
      "Calcaluting accuracy for 4 categories\n",
      "Adding idxes for category 3: [      4      10      14 ... 1620604 1620607 1620625]\n",
      "Total acccucary for step 3 is 93.97999999999999%.\n",
      "do for iteration: ['forest', ['city', ['fields', 'water']]]\n",
      "Error read []\n",
      "len 27\n",
      "Entering into iteration 1\n",
      "Iteration 1 creating new arrays\n",
      "Iteration 1 calcualte weights\n",
      "Entering into iteration 2\n",
      "Iteration 2 creating new arrays\n",
      "Iteration 2 calcualte weights\n",
      "Entering into iteration 3\n",
      "Iteration 3 creating new arrays\n",
      "Iteration 3 calcualte weights\n",
      "792/792 [==============================] - 3s 4ms/step\n",
      "Binary acccucary for step 1 is 99.4%.\n",
      "Calcaluting accuracy for 2 categories\n",
      "Adding idxes for category 1: [      0       3       4 ... 1620625 1620627 1620628]\n",
      "Total acccucary for step 1 is 99.4%.\n",
      "306/306 [==============================] - 1s 4ms/step\n",
      "Binary acccucary for step 2 is 97.19%.\n",
      "Calcaluting accuracy for 3 categories\n",
      "Adding idxes for category 2: [     12      16      17 ... 1620619 1620626 1620629]\n",
      "Total acccucary for step 2 is 98.35000000000001%.\n",
      "194/194 [==============================] - 1s 2ms/step\n",
      "Binary acccucary for step 3 is 81.71000000000001%.\n",
      "Calcaluting accuracy for 4 categories\n",
      "Adding idxes for category 3: [      1       2       8 ... 1620618 1620620 1620623]\n",
      "Total acccucary for step 3 is 93.97999999999999%.\n",
      "do for iteration: ['fields', ['water', ['city', 'forest']]]\n",
      "Error read []\n",
      "len 27\n",
      "Entering into iteration 1\n",
      "Iteration 1 creating new arrays\n",
      "Iteration 1 calcualte weights\n",
      "Entering into iteration 2\n",
      "Iteration 2 creating new arrays\n",
      "Iteration 2 calcualte weights\n",
      "Entering into iteration 3\n",
      "Iteration 3 creating new arrays\n",
      "Iteration 3 calcualte weights\n",
      "792/792 [==============================] - 3s 3ms/step\n",
      "Binary acccucary for step 1 is 99.4%.\n",
      "Calcaluting accuracy for 2 categories\n",
      "Adding idxes for category 1: [      0       4      10 ... 1620626 1620627 1620629]\n",
      "Total acccucary for step 1 is 99.4%.\n",
      "306/306 [==============================] - 1s 3ms/step\n",
      "Binary acccucary for step 2 is 97.18%.\n",
      "Calcaluting accuracy for 3 categories\n",
      "Adding idxes for category 2: [      5       8      22 ... 1620607 1620608 1620628]\n",
      "Total acccucary for step 2 is 98.35000000000001%.\n",
      "194/194 [==============================] - 1s 3ms/step\n",
      "Binary acccucary for step 3 is 81.69999999999999%.\n",
      "Calcaluting accuracy for 4 categories\n",
      "Adding idxes for category 3: [      1       3       6 ... 1620596 1620618 1620620]\n",
      "Total acccucary for step 3 is 93.97999999999999%.\n",
      "do for iteration: ['fields', ['forest', ['city', 'water']]]\n",
      "Error read []\n",
      "len 27\n",
      "Entering into iteration 1\n",
      "Iteration 1 creating new arrays\n",
      "Iteration 1 calcualte weights\n",
      "Entering into iteration 2\n",
      "Iteration 2 creating new arrays\n",
      "Iteration 2 calcualte weights\n",
      "Entering into iteration 3\n",
      "Iteration 3 creating new arrays\n",
      "Iteration 3 calcualte weights\n",
      "792/792 [==============================] - 3s 3ms/step\n",
      "Binary acccucary for step 1 is 99.4%.\n",
      "Calcaluting accuracy for 2 categories\n",
      "Adding idxes for category 1: [      0       1       2 ... 1620625 1620627 1620629]\n",
      "Total acccucary for step 1 is 99.4%.\n",
      "306/306 [==============================] - 1s 3ms/step\n",
      "Binary acccucary for step 2 is 97.19%.\n",
      "Calcaluting accuracy for 3 categories\n",
      "Adding idxes for category 2: [      4      15      17 ... 1620624 1620626 1620628]\n",
      "Total acccucary for step 2 is 98.35000000000001%.\n",
      "194/194 [==============================] - 1s 3ms/step\n",
      "Binary acccucary for step 3 is 81.71000000000001%.\n",
      "Calcaluting accuracy for 4 categories\n",
      "Adding idxes for category 3: [      7       9      12 ... 1620588 1620621 1620630]\n",
      "Total acccucary for step 3 is 93.97999999999999%.\n",
      "do for iteration: ['fields', ['city', ['forest', 'water']]]\n",
      "Error read []\n",
      "len 27\n",
      "Entering into iteration 1\n",
      "Iteration 1 creating new arrays\n",
      "Iteration 1 calcualte weights\n",
      "Entering into iteration 2\n",
      "Iteration 2 creating new arrays\n",
      "Iteration 2 calcualte weights\n",
      "Entering into iteration 3\n",
      "Iteration 3 creating new arrays\n",
      "Iteration 3 calcualte weights\n",
      "792/792 [==============================] - 3s 3ms/step\n",
      "Binary acccucary for step 1 is 99.4%.\n",
      "Calcaluting accuracy for 2 categories\n",
      "Adding idxes for category 1: [      0       4       7 ... 1620628 1620629 1620630]\n",
      "Total acccucary for step 1 is 99.4%.\n",
      "306/306 [==============================] - 1s 4ms/step\n",
      "Binary acccucary for step 2 is 97.18%.\n",
      "Calcaluting accuracy for 3 categories\n",
      "Adding idxes for category 2: [      5       9      10 ... 1620612 1620614 1620618]\n",
      "Total acccucary for step 2 is 98.34%.\n",
      "194/194 [==============================] - 1s 3ms/step\n",
      "Binary acccucary for step 3 is 81.74%.\n",
      "Calcaluting accuracy for 4 categories\n",
      "Adding idxes for category 3: [      1       3      11 ... 1620616 1620625 1620626]\n",
      "Total acccucary for step 3 is 93.97999999999999%.\n",
      "do for iteration: ['city', ['water', ['fields', 'forest']]]\n",
      "Error read []\n",
      "len 27\n"
     ]
    }
   ],
   "source": [
    "for tree in odd_indexes:\n",
    "    print(f\"do for iteration: {tree}\")\n",
    "    ds_i = dataset_6_binary_tree.Dataset6BinaryTree(tree)\n",
    "    ds_i.initialize()\n",
    "    ds_i.get_supported_categories()\n",
    "    ds_i.create_models()\n",
    "    pred = ds_i.validate_with_test_data()\n",
    "    models.append((ds_i, pred))"
   ],
   "metadata": {
    "collapsed": false,
    "is_executing": true,
    "ExecuteTime": {
     "start_time": "2023-11-12T15:49:53.810736300Z"
    }
   }
  },
  {
   "cell_type": "code",
   "execution_count": null,
   "outputs": [],
   "source": [
    "from sklearn.metrics import  accuracy_score, classification_report\n",
    "import numpy as np"
   ],
   "metadata": {
    "collapsed": false,
    "is_executing": true
   }
  },
  {
   "cell_type": "code",
   "execution_count": 78,
   "outputs": [
    {
     "name": "stdout",
     "output_type": "stream",
     "text": [
      "Supported categories: ['water', 'forest', 'city', 'fields']\n",
      "Current categories map: {'water': 1, 'forest': 2, 'city': 3, 'fields': 4}\n",
      "Accuracy score: 0.9398036937464481\n",
      "Supported categories: ['water', 'fields', 'city', 'forest']\n",
      "Current categories map: {'water': 1, 'fields': 2, 'city': 3, 'forest': 4}\n",
      "Accuracy score: 0.9394717242851705\n",
      "Supported categories: ['water', 'city', 'fields', 'forest']\n",
      "Current categories map: {'water': 1, 'city': 2, 'fields': 3, 'forest': 4}\n",
      "Accuracy score: 0.9396222829256012\n",
      "Supported categories: ['forest', 'water', 'city', 'fields']\n",
      "Current categories map: {'forest': 1, 'water': 2, 'city': 3, 'fields': 4}\n",
      "Accuracy score: 0.9394137221859881\n",
      "Supported categories: ['forest', 'fields', 'city', 'water']\n",
      "Current categories map: {'forest': 1, 'fields': 2, 'city': 3, 'water': 4}\n",
      "Accuracy score: 0.9397253292081912\n",
      "Supported categories: ['forest', 'city', 'fields', 'water']\n",
      "Current categories map: {'forest': 1, 'city': 2, 'fields': 3, 'water': 4}\n",
      "Accuracy score: 0.9397679052171655\n",
      "Supported categories: ['fields', 'water', 'city', 'forest']\n",
      "Current categories map: {'fields': 1, 'water': 2, 'city': 3, 'forest': 4}\n",
      "Accuracy score: 0.9396975622458166\n",
      "Supported categories: ['fields', 'forest', 'city', 'water']\n",
      "Current categories map: {'fields': 1, 'forest': 2, 'city': 3, 'water': 4}\n",
      "Accuracy score: 0.9397290314698411\n",
      "Supported categories: ['fields', 'city', 'forest', 'water']\n",
      "Current categories map: {'fields': 1, 'city': 2, 'forest': 3, 'water': 4}\n",
      "Accuracy score: 0.9399968283958532\n",
      "Supported categories: ['city', 'water', 'fields', 'forest']\n",
      "Current categories map: {'city': 1, 'water': 2, 'fields': 3, 'forest': 4}\n",
      "Accuracy score: 0.9395544081286856\n",
      "Supported categories: ['city', 'forest', 'fields', 'water']\n",
      "Current categories map: {'city': 1, 'forest': 2, 'fields': 3, 'water': 4}\n",
      "Accuracy score: 0.9395982182248767\n",
      "Supported categories: ['city', 'fields', 'forest', 'water']\n",
      "Current categories map: {'city': 1, 'fields': 2, 'forest': 3, 'water': 4}\n",
      "Accuracy score: 0.9398524401915056\n"
     ]
    }
   ],
   "source": [
    "prediction_data_report = []\n",
    "\n",
    "for model in models:\n",
    "    last_predictions = model[1][-1]\n",
    "    supported_categories = model[0].get_supported_categories()\n",
    "    print(f\"Supported categories: {supported_categories}\")\n",
    "    current_categories_map = model[0].supported_categories_map\n",
    "    print(f\"Current categories map: {current_categories_map}\")\n",
    "    acc_map = {}\n",
    "    acc_score_total = accuracy_score(last_predictions.array_of_categories, last_predictions.y_test)\n",
    "    acc_map[\"total\"] = acc_score_total\n",
    "    print(f\"Accuracy score: {acc_score_total}\")\n",
    "    classification_rep = classification_report(last_predictions.array_of_categories, last_predictions.y_test, output_dict=True)\n",
    "    #prediction_data_report.append(classification_rep)\n",
    "    # create precision map for each category and total\n",
    "    \n",
    "    for category_idx in range(len(supported_categories)):\n",
    "        current_category_value = list(current_categories_map.values())[category_idx]\n",
    "        current_category_key = list(current_categories_map.keys())[category_idx]\n",
    "        acc_score_for_category = classification_rep[f\"{current_category_value}\"]['precision']\n",
    "        ## round num to .00 and multiply it to 100\n",
    "        acc_score_for_category = round(acc_score_for_category, 2) * 100\n",
    "        acc_map[current_category_key] = acc_score_for_category\n",
    "    \n",
    "    prediction_data_report.append(acc_map)\n",
    "    "
   ],
   "metadata": {
    "collapsed": false,
    "ExecuteTime": {
     "end_time": "2023-11-05T18:12:57.116866100Z",
     "start_time": "2023-11-05T18:12:36.948989700Z"
    }
   }
  },
  {
   "cell_type": "code",
   "execution_count": 81,
   "outputs": [],
   "source": [
    "prediction_data_report_np = np.asarray(prediction_data_report)"
   ],
   "metadata": {
    "collapsed": false,
    "ExecuteTime": {
     "end_time": "2023-11-05T18:13:49.214943700Z",
     "start_time": "2023-11-05T18:13:49.146048700Z"
    }
   }
  },
  {
   "cell_type": "code",
   "execution_count": 97,
   "outputs": [],
   "source": [
    "colums_map = {}\n",
    "for sup_category in prediction_data_report[0].keys():\n",
    "    category_values = [s[sup_category] for s in prediction_data_report]\n",
    "    colums_map[sup_category] = category_values"
   ],
   "metadata": {
    "collapsed": false,
    "ExecuteTime": {
     "end_time": "2023-11-05T18:33:50.536068500Z",
     "start_time": "2023-11-05T18:33:50.473708500Z"
    }
   }
  },
  {
   "cell_type": "code",
   "execution_count": 84,
   "outputs": [],
   "source": [
    "import pandas as pd"
   ],
   "metadata": {
    "collapsed": false,
    "ExecuteTime": {
     "end_time": "2023-11-05T18:20:57.689166Z",
     "start_time": "2023-11-05T18:20:57.629398800Z"
    }
   }
  },
  {
   "cell_type": "code",
   "execution_count": 99,
   "outputs": [],
   "source": [
    "data_frame = pd.DataFrame(colums_map)"
   ],
   "metadata": {
    "collapsed": false,
    "ExecuteTime": {
     "end_time": "2023-11-05T18:34:06.645020700Z",
     "start_time": "2023-11-05T18:34:06.577272900Z"
    }
   }
  },
  {
   "cell_type": "code",
   "execution_count": 91,
   "outputs": [],
   "source": [
    "data_frame_indexes = [\",\".join(s[0].get_supported_categories()) for s in models]"
   ],
   "metadata": {
    "collapsed": false,
    "ExecuteTime": {
     "end_time": "2023-11-05T18:26:19.311566600Z",
     "start_time": "2023-11-05T18:26:19.237515400Z"
    }
   }
  },
  {
   "cell_type": "code",
   "execution_count": 92,
   "outputs": [
    {
     "data": {
      "text/plain": "['water,forest,city,fields',\n 'water,fields,city,forest',\n 'water,city,fields,forest',\n 'forest,water,city,fields',\n 'forest,fields,city,water',\n 'forest,city,fields,water',\n 'fields,water,city,forest',\n 'fields,forest,city,water',\n 'fields,city,forest,water',\n 'city,water,fields,forest',\n 'city,forest,fields,water',\n 'city,fields,forest,water']"
     },
     "execution_count": 92,
     "metadata": {},
     "output_type": "execute_result"
    }
   ],
   "source": [
    "#data_frame_indexes"
   ],
   "metadata": {
    "collapsed": false,
    "ExecuteTime": {
     "end_time": "2023-11-05T18:26:20.278872300Z",
     "start_time": "2023-11-05T18:26:20.252179Z"
    }
   }
  },
  {
   "cell_type": "code",
   "execution_count": 101,
   "outputs": [],
   "source": [
    "data_frame.index = data_frame_indexes"
   ],
   "metadata": {
    "collapsed": false,
    "ExecuteTime": {
     "end_time": "2023-11-05T18:34:15.243400700Z",
     "start_time": "2023-11-05T18:34:15.199948300Z"
    }
   }
  },
  {
   "cell_type": "code",
   "execution_count": 102,
   "outputs": [
    {
     "data": {
      "text/plain": "                             total  water  forest   city  fields\nwater,forest,city,fields  0.939804  100.0    96.0   83.0    64.0\nwater,fields,city,forest  0.939472  100.0    64.0   83.0    96.0\nwater,city,fields,forest  0.939622  100.0    64.0   96.0    83.0\nforest,water,city,fields  0.939414   96.0   100.0   83.0    64.0\nforest,fields,city,water  0.939725   64.0   100.0   83.0    96.0\nforest,city,fields,water  0.939768   64.0   100.0   96.0    83.0\nfields,water,city,forest  0.939698   96.0    64.0   83.0   100.0\nfields,forest,city,water  0.939729   64.0    96.0   83.0   100.0\nfields,city,forest,water  0.939997   65.0    83.0   96.0   100.0\ncity,water,fields,forest  0.939554   96.0    64.0  100.0    83.0\ncity,forest,fields,water  0.939598   64.0    96.0  100.0    82.0\ncity,fields,forest,water  0.939852   64.0    83.0  100.0    96.0",
      "text/html": "<div>\n<style scoped>\n    .dataframe tbody tr th:only-of-type {\n        vertical-align: middle;\n    }\n\n    .dataframe tbody tr th {\n        vertical-align: top;\n    }\n\n    .dataframe thead th {\n        text-align: right;\n    }\n</style>\n<table border=\"1\" class=\"dataframe\">\n  <thead>\n    <tr style=\"text-align: right;\">\n      <th></th>\n      <th>total</th>\n      <th>water</th>\n      <th>forest</th>\n      <th>city</th>\n      <th>fields</th>\n    </tr>\n  </thead>\n  <tbody>\n    <tr>\n      <th>water,forest,city,fields</th>\n      <td>0.939804</td>\n      <td>100.0</td>\n      <td>96.0</td>\n      <td>83.0</td>\n      <td>64.0</td>\n    </tr>\n    <tr>\n      <th>water,fields,city,forest</th>\n      <td>0.939472</td>\n      <td>100.0</td>\n      <td>64.0</td>\n      <td>83.0</td>\n      <td>96.0</td>\n    </tr>\n    <tr>\n      <th>water,city,fields,forest</th>\n      <td>0.939622</td>\n      <td>100.0</td>\n      <td>64.0</td>\n      <td>96.0</td>\n      <td>83.0</td>\n    </tr>\n    <tr>\n      <th>forest,water,city,fields</th>\n      <td>0.939414</td>\n      <td>96.0</td>\n      <td>100.0</td>\n      <td>83.0</td>\n      <td>64.0</td>\n    </tr>\n    <tr>\n      <th>forest,fields,city,water</th>\n      <td>0.939725</td>\n      <td>64.0</td>\n      <td>100.0</td>\n      <td>83.0</td>\n      <td>96.0</td>\n    </tr>\n    <tr>\n      <th>forest,city,fields,water</th>\n      <td>0.939768</td>\n      <td>64.0</td>\n      <td>100.0</td>\n      <td>96.0</td>\n      <td>83.0</td>\n    </tr>\n    <tr>\n      <th>fields,water,city,forest</th>\n      <td>0.939698</td>\n      <td>96.0</td>\n      <td>64.0</td>\n      <td>83.0</td>\n      <td>100.0</td>\n    </tr>\n    <tr>\n      <th>fields,forest,city,water</th>\n      <td>0.939729</td>\n      <td>64.0</td>\n      <td>96.0</td>\n      <td>83.0</td>\n      <td>100.0</td>\n    </tr>\n    <tr>\n      <th>fields,city,forest,water</th>\n      <td>0.939997</td>\n      <td>65.0</td>\n      <td>83.0</td>\n      <td>96.0</td>\n      <td>100.0</td>\n    </tr>\n    <tr>\n      <th>city,water,fields,forest</th>\n      <td>0.939554</td>\n      <td>96.0</td>\n      <td>64.0</td>\n      <td>100.0</td>\n      <td>83.0</td>\n    </tr>\n    <tr>\n      <th>city,forest,fields,water</th>\n      <td>0.939598</td>\n      <td>64.0</td>\n      <td>96.0</td>\n      <td>100.0</td>\n      <td>82.0</td>\n    </tr>\n    <tr>\n      <th>city,fields,forest,water</th>\n      <td>0.939852</td>\n      <td>64.0</td>\n      <td>83.0</td>\n      <td>100.0</td>\n      <td>96.0</td>\n    </tr>\n  </tbody>\n</table>\n</div>"
     },
     "execution_count": 102,
     "metadata": {},
     "output_type": "execute_result"
    }
   ],
   "source": [
    "data_frame"
   ],
   "metadata": {
    "collapsed": false,
    "ExecuteTime": {
     "end_time": "2023-11-05T18:34:15.705054900Z",
     "start_time": "2023-11-05T18:34:15.667991100Z"
    }
   }
  },
  {
   "cell_type": "markdown",
   "source": [
    "## Use multicategorial classifier"
   ],
   "metadata": {
    "collapsed": false
   }
  },
  {
   "cell_type": "code",
   "source": [
    "import tensorflow as tf"
   ],
   "metadata": {
    "collapsed": false,
    "ExecuteTime": {
     "end_time": "2024-05-15T16:25:05.464778Z",
     "start_time": "2024-05-15T16:25:05.458312Z"
    }
   },
   "outputs": [],
   "execution_count": 92
  },
  {
   "cell_type": "code",
   "source": "from sklearn.metrics import accuracy_score, classification_report",
   "metadata": {
    "collapsed": false,
    "ExecuteTime": {
     "end_time": "2024-05-15T16:25:05.878999Z",
     "start_time": "2024-05-15T16:25:05.872674Z"
    }
   },
   "outputs": [],
   "execution_count": 93
  },
  {
   "cell_type": "code",
   "source": [
    "from tensorflow.keras.layers import *\n",
    "import layers.naive_bayes\n",
    "importlib.reload(layers.naive_bayes)\n",
    "import tensorflow as tf\n",
    "# from keras.models import Model, save_model\n",
    "# from keras.layers import Input\n",
    "\n",
    "# Create the model\n",
    "# model_new_1 = tf.keras.models.Sequential()\n",
    "# model_new_1.add(tf.keras.models.InputLayer(shape=(12,)))  # Input layer\n",
    "# model_new_1.add(layers.naive_bayes.MultiClassNaiveBayesLayer(num_features=12, num_of_categories=7))  # Naive Bayes layer\n",
    "# model_new_1.add(tf.keras.models.Softmax())  #\n",
    "\n",
    "model_new_gnb = tf.keras.models.Sequential([\n",
    "    layers.naive_bayes.MultiClassNaiveBayesLayer(num_features=12, num_of_categories=4, input_shape=(12,)),\n",
    "    Activation(\"softmax\")\n",
    "    ])\n"
   ],
   "metadata": {
    "collapsed": false,
    "ExecuteTime": {
     "end_time": "2024-05-15T16:25:06.775889Z",
     "start_time": "2024-05-15T16:25:06.225548Z"
    }
   },
   "outputs": [],
   "execution_count": 94
  },
  {
   "cell_type": "code",
   "source": [
    "model_new_gnb.compile(loss='categorical_crossentropy', optimizer='adam', metrics=['accuracy','mse'])\n",
    "model_new_gnb.summary()"
   ],
   "metadata": {
    "collapsed": false,
    "ExecuteTime": {
     "end_time": "2024-05-15T16:25:07.596926Z",
     "start_time": "2024-05-15T16:25:07.541164Z"
    }
   },
   "outputs": [
    {
     "name": "stdout",
     "output_type": "stream",
     "text": [
      "Model: \"sequential_6\"\n",
      "_________________________________________________________________\n",
      " Layer (type)                Output Shape              Param #   \n",
      "=================================================================\n",
      " multi_class_naive_bayes_la  (None, 4)                 96        \n",
      " yer_6 (MultiClassNaiveBaye                                      \n",
      " sLayer)                                                         \n",
      "                                                                 \n",
      " activation_6 (Activation)   (None, 4)                 0         \n",
      "                                                                 \n",
      "=================================================================\n",
      "Total params: 96 (384.00 Byte)\n",
      "Trainable params: 0 (0.00 Byte)\n",
      "Non-trainable params: 96 (384.00 Byte)\n",
      "_________________________________________________________________\n"
     ]
    }
   ],
   "execution_count": 95
  },
  {
   "cell_type": "code",
   "source": [
    "import numpy as np"
   ],
   "metadata": {
    "collapsed": false,
    "ExecuteTime": {
     "end_time": "2024-05-15T16:25:11.696438Z",
     "start_time": "2024-05-15T16:25:11.690975Z"
    }
   },
   "outputs": [],
   "execution_count": 96
  },
  {
   "cell_type": "markdown",
   "source": [
    "Crop dataset and transform it to use only 4 categories. Remap labels to fit binary dataset"
   ],
   "metadata": {
    "collapsed": false
   }
  },
  {
   "cell_type": "code",
   "source": [
    "y_int_labels = ds.y_train_new.copy()\n",
    "y_int_labels = y_int_labels-1\n",
    "means = []\n",
    "variances = []\n",
    "\n",
    "num_classes = 4  # or however many you have\n",
    "\n",
    "for i in range(num_classes):\n",
    "    means.append(np.mean(ds.x_train_new[y_int_labels == i], axis=0))\n",
    "    variances.append(np.var(ds.x_train_new[y_int_labels == i], axis=0))\n",
    "\n",
    "means = np.array(means)\n",
    "variances = np.array(variances)"
   ],
   "metadata": {
    "collapsed": false,
    "ExecuteTime": {
     "end_time": "2024-05-15T16:25:23.877144Z",
     "start_time": "2024-05-15T16:25:14.439507Z"
    }
   },
   "outputs": [],
   "execution_count": 97
  },
  {
   "cell_type": "code",
   "source": [
    "model_new_gnb.layers[0].set_weights([means, variances])"
   ],
   "metadata": {
    "collapsed": false,
    "ExecuteTime": {
     "end_time": "2024-05-15T16:25:24.599503Z",
     "start_time": "2024-05-15T16:25:24.583313Z"
    }
   },
   "outputs": [],
   "execution_count": 98
  },
  {
   "cell_type": "code",
   "source": [
    "pred_res = model_new_gnb.predict(ds.x_test_new, batch_size=2048)"
   ],
   "metadata": {
    "collapsed": false,
    "ExecuteTime": {
     "end_time": "2024-05-15T16:25:30.671441Z",
     "start_time": "2024-05-15T16:25:25.045218Z"
    }
   },
   "outputs": [
    {
     "name": "stdout",
     "output_type": "stream",
     "text": [
      "792/792 [==============================] - 4s 5ms/step\n"
     ]
    }
   ],
   "execution_count": 99
  },
  {
   "cell_type": "code",
   "source": [
    "predd = []\n",
    "\n",
    "for iii in range(pred_res.shape[1]):\n",
    "    predd.append(pred_res[:, iii])"
   ],
   "metadata": {
    "collapsed": false,
    "ExecuteTime": {
     "end_time": "2024-05-15T16:25:30.906958Z",
     "start_time": "2024-05-15T16:25:30.899675Z"
    }
   },
   "outputs": [],
   "execution_count": 100
  },
  {
   "cell_type": "markdown",
   "source": [
    "### Hystogram of multiclass classier"
   ],
   "metadata": {
    "collapsed": false
   }
  },
  {
   "cell_type": "code",
   "source": [
    "createHistGraph(predd, ds.supported_categories_map)"
   ],
   "metadata": {
    "collapsed": false,
    "ExecuteTime": {
     "end_time": "2024-05-15T16:25:33.665589Z",
     "start_time": "2024-05-15T16:25:32.370311Z"
    }
   },
   "outputs": [
    {
     "data": {
      "text/plain": [
       "<Figure size 640x480 with 4 Axes>"
      ],
      "image/png": "[encoded data removed]"
     },
     "metadata": {},
     "output_type": "display_data"
    }
   ],
   "execution_count": 101
  },
  {
   "cell_type": "code",
   "source": [
    "pred_res_vec = tf.argmax(pred_res, axis=-1).numpy()"
   ],
   "metadata": {
    "collapsed": false,
    "ExecuteTime": {
     "end_time": "2024-05-15T16:25:36.449319Z",
     "start_time": "2024-05-15T16:25:36.369603Z"
    }
   },
   "outputs": [],
   "execution_count": 102
  },
  {
   "cell_type": "code",
   "source": [
    "pred_res_vec = pred_res_vec + 1"
   ],
   "metadata": {
    "collapsed": false,
    "ExecuteTime": {
     "end_time": "2024-05-15T16:25:38.985581Z",
     "start_time": "2024-05-15T16:25:38.922483Z"
    }
   },
   "outputs": [],
   "execution_count": 103
  },
  {
   "cell_type": "markdown",
   "source": [
    "Detect accuacy for multiclass classifier"
   ],
   "metadata": {
    "collapsed": false
   }
  },
  {
   "cell_type": "code",
   "source": [
    "accuracy_score(pred_res_vec, ds.y_test_new)"
   ],
   "metadata": {
    "collapsed": false,
    "ExecuteTime": {
     "end_time": "2024-05-15T16:25:40.552722Z",
     "start_time": "2024-05-15T16:25:40.365654Z"
    }
   },
   "outputs": [
    {
     "data": {
      "text/plain": [
       "0.8969703775874952"
      ]
     },
     "execution_count": 104,
     "metadata": {},
     "output_type": "execute_result"
    }
   ],
   "execution_count": 104
  },
  {
   "metadata": {
    "ExecuteTime": {
     "end_time": "2024-05-15T16:25:43.965449Z",
     "start_time": "2024-05-15T16:25:41.484367Z"
    }
   },
   "cell_type": "code",
   "source": "classification_report(pred_res_vec, ds.y_test_new, output_dict=True)",
   "outputs": [
    {
     "data": {
      "text/plain": [
       "{'1': {'precision': 0.9274154185391527,\n",
       "  'recall': 0.9915466205389893,\n",
       "  'f1-score': 0.9584093956647604,\n",
       "  'support': 925547.0},\n",
       " '2': {'precision': 0.9534646015197185,\n",
       "  'recall': 0.9640056816932502,\n",
       "  'f1-score': 0.9587061673970279,\n",
       "  'support': 227397.0},\n",
       " '3': {'precision': 0.825229184462135,\n",
       "  'recall': 0.9110483215076983,\n",
       "  'f1-score': 0.8660178580652041,\n",
       "  'support': 285256.0},\n",
       " '4': {'precision': 0.6590260869565218,\n",
       "  'recall': 0.3115753353322626,\n",
       "  'f1-score': 0.42311142209534724,\n",
       "  'support': 182431.0},\n",
       " 'accuracy': 0.8969703775874952,\n",
       " 'macro avg': {'precision': 0.841283822869382,\n",
       "  'recall': 0.7945439897680502,\n",
       "  'f1-score': 0.8015612108055848,\n",
       "  'support': 1620631.0},\n",
       " 'weighted avg': {'precision': 0.8828721113485628,\n",
       "  'recall': 0.8969703775874952,\n",
       "  'f1-score': 0.8819313447918977,\n",
       "  'support': 1620631.0}}"
      ]
     },
     "execution_count": 105,
     "metadata": {},
     "output_type": "execute_result"
    }
   ],
   "execution_count": 105
  },
  {
   "metadata": {
    "ExecuteTime": {
     "end_time": "2024-05-15T14:15:38.741480Z",
     "start_time": "2024-05-15T14:15:38.615499Z"
    }
   },
   "cell_type": "code",
   "source": "r_c_m = [len(ds.y_test_new[ds.y_test_new == i]) for i in range(1,5)]",
   "outputs": [],
   "execution_count": 85
  },
  {
   "metadata": {
    "ExecuteTime": {
     "end_time": "2024-05-15T17:02:34.058747Z",
     "start_time": "2024-05-15T17:02:33.941845Z"
    }
   },
   "cell_type": "code",
   "source": "r_c_p = [len(pred_res_vec[pred_res_vec == i]) for i in range(1,5)]",
   "outputs": [],
   "execution_count": 106
  },
  {
   "metadata": {
    "ExecuteTime": {
     "end_time": "2024-05-15T17:03:59.892163Z",
     "start_time": "2024-05-15T17:03:59.884754Z"
    }
   },
   "cell_type": "code",
   "source": "a_diff_p = abs(np.array(r_c_m) - np.array(r_c_p))",
   "outputs": [],
   "execution_count": 108
  },
  {
   "metadata": {
    "ExecuteTime": {
     "end_time": "2024-05-15T17:07:17.568304Z",
     "start_time": "2024-05-15T17:07:17.558575Z"
    }
   },
   "cell_type": "code",
   "source": "a_diff_p",
   "outputs": [
    {
     "data": {
      "text/plain": [
       "array([64002,  2514, 29665, 96181])"
      ]
     },
     "execution_count": 110,
     "metadata": {},
     "output_type": "execute_result"
    }
   ],
   "execution_count": 110
  },
  {
   "metadata": {
    "ExecuteTime": {
     "end_time": "2024-05-15T17:04:41.835186Z",
     "start_time": "2024-05-15T17:04:41.326645Z"
    }
   },
   "cell_type": "code",
   "source": [
    "x = np.arange(len(categories))  # the label locations\n",
    "width = 0.35  # the width of the bars\n",
    "\n",
    "fig, ax = plt.subplots()\n",
    "line = ax.plot([0,1,2,3], a_diff_p, label='Abs of diff between real and predicted')\n",
    "#rects1 = ax.bar(x - width/2, a_diff, width, label='Difference')\n",
    "# rects2 = ax.bar(x + width/2, gnb_values, width, label='NB values')\n",
    "\n",
    "# Add some text for labels, title and custom x-axis tick labels, etc.\n",
    "ax.set_ylabel('Number of points')\n",
    "ax.set_title('Classification result compare for multiclass classifier')\n",
    "ax.set_xticks(x)\n",
    "plt.grid()\n",
    "ax.set_xticklabels(categories)\n",
    "ax.legend()"
   ],
   "outputs": [
    {
     "data": {
      "text/plain": [
       "<matplotlib.legend.Legend at 0x7f0bc795f550>"
      ]
     },
     "execution_count": 109,
     "metadata": {},
     "output_type": "execute_result"
    },
    {
     "data": {
      "text/plain": [
       "<Figure size 640x480 with 1 Axes>"
      ],
      "image/png": "[encoded data removed]"
     },
     "metadata": {},
     "output_type": "display_data"
    }
   ],
   "execution_count": 109
  },
  {
   "cell_type": "markdown",
   "source": [
    "## Load image and display how it works on it"
   ],
   "metadata": {
    "collapsed": false
   }
  },
  {
   "cell_type": "code",
   "execution_count": 109,
   "outputs": [],
   "source": [
    "image_1 = ds.load_image(\"/mnt/d/shared_folder/test_images2/*B?*.tiff\")"
   ],
   "metadata": {
    "collapsed": false,
    "ExecuteTime": {
     "end_time": "2023-10-11T19:39:06.449757Z",
     "start_time": "2023-10-11T19:39:05.243484900Z"
    }
   }
  },
  {
   "cell_type": "code",
   "execution_count": 110,
   "outputs": [
    {
     "data": {
      "text/plain": "(733, 1250, 12)"
     },
     "execution_count": 110,
     "metadata": {},
     "output_type": "execute_result"
    }
   ],
   "source": [
    "image_1.shape"
   ],
   "metadata": {
    "collapsed": false,
    "ExecuteTime": {
     "end_time": "2023-10-11T19:39:06.466317600Z",
     "start_time": "2023-10-11T19:39:06.451760100Z"
    }
   }
  },
  {
   "cell_type": "markdown",
   "source": [
    "### Binary"
   ],
   "metadata": {
    "collapsed": false
   }
  },
  {
   "cell_type": "code",
   "execution_count": 112,
   "outputs": [
    {
     "name": "stdout",
     "output_type": "stream",
     "text": [
      "448/448 [==============================] - 1s 3ms/step\n",
      "Adding idxes for category 1: [   670    671    672 ... 916247 916248 916249]\n",
      "236/236 [==============================] - 1s 3ms/step\n",
      "Adding idxes for category 2: [     0      3     71 ... 915308 915328 915329]\n",
      "218/218 [==============================] - 1s 3ms/step\n",
      "Adding idxes for category 3: [    41     73    132 ... 915225 915291 915292]\n"
     ]
    }
   ],
   "source": [
    "image_1_p, image_1_i = ds.predict_image(image_1)"
   ],
   "metadata": {
    "collapsed": false,
    "ExecuteTime": {
     "end_time": "2023-10-11T19:39:25.284756600Z",
     "start_time": "2023-10-11T19:39:22.022890800Z"
    }
   }
  },
  {
   "cell_type": "code",
   "execution_count": 113,
   "outputs": [
    {
     "data": {
      "text/plain": "(916250,)"
     },
     "execution_count": 113,
     "metadata": {},
     "output_type": "execute_result"
    }
   ],
   "source": [
    "image_1_i[-1].shape"
   ],
   "metadata": {
    "collapsed": false,
    "ExecuteTime": {
     "end_time": "2023-10-11T19:39:25.324058900Z",
     "start_time": "2023-10-11T19:39:25.313526100Z"
    }
   }
  },
  {
   "cell_type": "code",
   "execution_count": 114,
   "outputs": [],
   "source": [
    "image_to_display = image_1_i[-1].reshape(733,1250)"
   ],
   "metadata": {
    "collapsed": false,
    "ExecuteTime": {
     "end_time": "2023-10-11T19:39:25.423173600Z",
     "start_time": "2023-10-11T19:39:25.313526100Z"
    }
   }
  },
  {
   "cell_type": "code",
   "execution_count": 115,
   "outputs": [
    {
     "data": {
      "text/plain": "1"
     },
     "execution_count": 115,
     "metadata": {},
     "output_type": "execute_result"
    }
   ],
   "source": [
    "image_to_display.min()"
   ],
   "metadata": {
    "collapsed": false,
    "ExecuteTime": {
     "end_time": "2023-10-11T19:39:26.202317200Z",
     "start_time": "2023-10-11T19:39:26.097377800Z"
    }
   }
  },
  {
   "cell_type": "code",
   "execution_count": 116,
   "outputs": [
    {
     "data": {
      "text/plain": "<Figure size 640x480 with 1 Axes>",
      "image/png": "[encoded data removed]"
     },
     "metadata": {},
     "output_type": "display_data"
    }
   ],
   "source": [
    "from matplotlib.colors import ListedColormap\n",
    "import earthpy.plot as ep\n",
    "import matplotlib.pyplot as plt\n",
    "\n",
    "im = plt.imshow(image_to_display,\n",
    "           vmin=1,vmax=6,\n",
    "               cmap=ListedColormap(['blue', 'green', 'orange', 'grey', 'yellow','brown']))\n",
    "ep.draw_legend(im_ax = im, titles = [\"water\",\"forest\",\"fields\",\"city\"])\n",
    "\n",
    "\n",
    "plt.show()"
   ],
   "metadata": {
    "collapsed": false,
    "ExecuteTime": {
     "end_time": "2023-10-11T19:39:27.252385700Z",
     "start_time": "2023-10-11T19:39:26.598908800Z"
    }
   }
  },
  {
   "cell_type": "markdown",
   "source": [
    "## Multiclass"
   ],
   "metadata": {
    "collapsed": false
   }
  },
  {
   "cell_type": "code",
   "execution_count": 117,
   "outputs": [],
   "source": [
    "image_1_vector = image_1.reshape(image_1.shape[0]*image_1.shape[1],12)"
   ],
   "metadata": {
    "collapsed": false,
    "ExecuteTime": {
     "end_time": "2023-10-11T19:39:44.110892600Z",
     "start_time": "2023-10-11T19:39:43.991019500Z"
    }
   }
  },
  {
   "cell_type": "code",
   "execution_count": 118,
   "outputs": [
    {
     "name": "stdout",
     "output_type": "stream",
     "text": [
      "448/448 [==============================] - 2s 3ms/step\n"
     ]
    }
   ],
   "source": [
    "image_1_multi = model_new_gnb.predict(image_1_vector, batch_size=2048)"
   ],
   "metadata": {
    "collapsed": false,
    "ExecuteTime": {
     "end_time": "2023-10-11T19:39:46.185648300Z",
     "start_time": "2023-10-11T19:39:44.429306700Z"
    }
   }
  },
  {
   "cell_type": "code",
   "execution_count": 119,
   "outputs": [],
   "source": [
    "image_1_multi_preds = tf.argmax(image_1_multi, axis=-1).numpy()"
   ],
   "metadata": {
    "collapsed": false,
    "ExecuteTime": {
     "end_time": "2023-10-11T19:39:46.902389500Z",
     "start_time": "2023-10-11T19:39:46.813308300Z"
    }
   }
  },
  {
   "cell_type": "code",
   "execution_count": 120,
   "outputs": [],
   "source": [
    "image_1_multi_preds_img = image_1_multi_preds.reshape(733,1250)"
   ],
   "metadata": {
    "collapsed": false,
    "ExecuteTime": {
     "end_time": "2023-10-11T19:39:47.249448900Z",
     "start_time": "2023-10-11T19:39:47.138611500Z"
    }
   }
  },
  {
   "cell_type": "code",
   "execution_count": 121,
   "outputs": [],
   "source": [
    "image_1_multi_preds_img += 1"
   ],
   "metadata": {
    "collapsed": false,
    "ExecuteTime": {
     "end_time": "2023-10-11T19:39:47.723282500Z",
     "start_time": "2023-10-11T19:39:47.623339800Z"
    }
   }
  },
  {
   "cell_type": "code",
   "execution_count": 122,
   "outputs": [
    {
     "data": {
      "text/plain": "<Figure size 640x480 with 1 Axes>",
      "image/png": "[encoded data removed]"
     },
     "metadata": {},
     "output_type": "display_data"
    }
   ],
   "source": [
    "from matplotlib.colors import ListedColormap\n",
    "import earthpy.plot as ep\n",
    "import matplotlib.pyplot as plt\n",
    "\n",
    "im = plt.imshow(image_1_multi_preds_img,\n",
    "           vmin=1,vmax=6,\n",
    "               cmap=ListedColormap(['blue', 'green', 'orange', 'grey', 'yellow','brown']))\n",
    "ep.draw_legend(im_ax = im, titles = [\"water\",\"forest\",\"fields\",\"city\"])\n",
    "\n",
    "\n",
    "plt.show()"
   ],
   "metadata": {
    "collapsed": false,
    "ExecuteTime": {
     "end_time": "2023-10-11T19:39:48.267498100Z",
     "start_time": "2023-10-11T19:39:48.075704600Z"
    }
   }
  },
  {
   "cell_type": "code",
   "execution_count": null,
   "outputs": [],
   "source": [],
   "metadata": {
    "collapsed": false
   }
  }
 ],
 "metadata": {
  "kernelspec": {
   "display_name": "Python 3",
   "language": "python",
   "name": "python3"
  },
  "language_info": {
   "codemirror_mode": {
    "name": "ipython",
    "version": 2
   },
   "file_extension": ".py",
   "mimetype": "text/x-python",
   "name": "python",
   "nbconvert_exporter": "python",
   "pygments_lexer": "ipython2",
   "version": "2.7.6"
  }
 },
 "nbformat": 4,
 "nbformat_minor": 0
}
